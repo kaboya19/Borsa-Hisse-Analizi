{
 "cells": [
  {
   "cell_type": "markdown",
   "metadata": {},
   "source": []
  },
  {
   "cell_type": "code",
   "execution_count": 1,
   "metadata": {},
   "outputs": [],
   "source": [
    "import numpy as np\n",
    "import pandas as pd\n",
    "import matplotlib.pyplot as plt\n",
    "import plotly.graph_objects as go\n",
    "\n",
    "\n"
   ]
  },
  {
   "cell_type": "code",
   "execution_count": 2,
   "metadata": {},
   "outputs": [],
   "source": [
    "astor=pd.read_csv(\"/Users/Bora/Documents/GitHub/Borsa-Hisse-Analizi/astor.csv\")\n",
    "astor.index=pd.to_datetime(astor[\"Date\"])\n"
   ]
  },
  {
   "cell_type": "code",
   "execution_count": 3,
   "metadata": {},
   "outputs": [],
   "source": [
    "del astor[\"Date\"]"
   ]
  },
  {
   "cell_type": "code",
   "execution_count": 4,
   "metadata": {},
   "outputs": [],
   "source": [
    "astor=pd.DataFrame(astor)"
   ]
  },
  {
   "cell_type": "code",
   "execution_count": 5,
   "metadata": {},
   "outputs": [
    {
     "data": {
      "text/html": [
       "<div>\n",
       "<style scoped>\n",
       "    .dataframe tbody tr th:only-of-type {\n",
       "        vertical-align: middle;\n",
       "    }\n",
       "\n",
       "    .dataframe tbody tr th {\n",
       "        vertical-align: top;\n",
       "    }\n",
       "\n",
       "    .dataframe thead th {\n",
       "        text-align: right;\n",
       "    }\n",
       "</style>\n",
       "<table border=\"1\" class=\"dataframe\">\n",
       "  <thead>\n",
       "    <tr style=\"text-align: right;\">\n",
       "      <th></th>\n",
       "      <th>Price</th>\n",
       "    </tr>\n",
       "    <tr>\n",
       "      <th>Date</th>\n",
       "      <th></th>\n",
       "    </tr>\n",
       "  </thead>\n",
       "  <tbody>\n",
       "    <tr>\n",
       "      <th>2023-01-19</th>\n",
       "      <td>14.96</td>\n",
       "    </tr>\n",
       "    <tr>\n",
       "      <th>2023-01-20</th>\n",
       "      <td>16.45</td>\n",
       "    </tr>\n",
       "    <tr>\n",
       "      <th>2023-01-23</th>\n",
       "      <td>18.09</td>\n",
       "    </tr>\n",
       "    <tr>\n",
       "      <th>2023-01-24</th>\n",
       "      <td>19.89</td>\n",
       "    </tr>\n",
       "    <tr>\n",
       "      <th>2023-01-25</th>\n",
       "      <td>21.86</td>\n",
       "    </tr>\n",
       "    <tr>\n",
       "      <th>...</th>\n",
       "      <td>...</td>\n",
       "    </tr>\n",
       "    <tr>\n",
       "      <th>2023-06-12</th>\n",
       "      <td>53.85</td>\n",
       "    </tr>\n",
       "    <tr>\n",
       "      <th>2023-06-13</th>\n",
       "      <td>51.65</td>\n",
       "    </tr>\n",
       "    <tr>\n",
       "      <th>2023-06-14</th>\n",
       "      <td>52.50</td>\n",
       "    </tr>\n",
       "    <tr>\n",
       "      <th>2023-06-15</th>\n",
       "      <td>53.05</td>\n",
       "    </tr>\n",
       "    <tr>\n",
       "      <th>2023-06-16</th>\n",
       "      <td>54.00</td>\n",
       "    </tr>\n",
       "  </tbody>\n",
       "</table>\n",
       "<p>100 rows × 1 columns</p>\n",
       "</div>"
      ],
      "text/plain": [
       "            Price\n",
       "Date             \n",
       "2023-01-19  14.96\n",
       "2023-01-20  16.45\n",
       "2023-01-23  18.09\n",
       "2023-01-24  19.89\n",
       "2023-01-25  21.86\n",
       "...           ...\n",
       "2023-06-12  53.85\n",
       "2023-06-13  51.65\n",
       "2023-06-14  52.50\n",
       "2023-06-15  53.05\n",
       "2023-06-16  54.00\n",
       "\n",
       "[100 rows x 1 columns]"
      ]
     },
     "execution_count": 5,
     "metadata": {},
     "output_type": "execute_result"
    }
   ],
   "source": [
    "close=pd.DataFrame(astor[\"Price\"])\n",
    "\n",
    "close"
   ]
  },
  {
   "cell_type": "code",
   "execution_count": 13,
   "metadata": {},
   "outputs": [],
   "source": [
    "rolling_app5=close.rolling(window=2).mean()\n",
    "rolling_app14=close.rolling(window=10).mean()\n",
    "rolling_app21=close.rolling(window=20).mean()\n"
   ]
  },
  {
   "cell_type": "code",
   "execution_count": 14,
   "metadata": {},
   "outputs": [],
   "source": [
    "MAs=pd.concat([close,rolling_app5,rolling_app14,rolling_app21],axis=1)\n",
    "MAs.columns=[\"Close\",\"short\",\"mid\",\"long\"]\n"
   ]
  },
  {
   "cell_type": "code",
   "execution_count": 15,
   "metadata": {},
   "outputs": [
    {
     "data": {
      "text/html": [
       "<div>\n",
       "<style scoped>\n",
       "    .dataframe tbody tr th:only-of-type {\n",
       "        vertical-align: middle;\n",
       "    }\n",
       "\n",
       "    .dataframe tbody tr th {\n",
       "        vertical-align: top;\n",
       "    }\n",
       "\n",
       "    .dataframe thead th {\n",
       "        text-align: right;\n",
       "    }\n",
       "</style>\n",
       "<table border=\"1\" class=\"dataframe\">\n",
       "  <thead>\n",
       "    <tr style=\"text-align: right;\">\n",
       "      <th></th>\n",
       "      <th>Close</th>\n",
       "      <th>short</th>\n",
       "      <th>mid</th>\n",
       "      <th>long</th>\n",
       "    </tr>\n",
       "    <tr>\n",
       "      <th>Date</th>\n",
       "      <th></th>\n",
       "      <th></th>\n",
       "      <th></th>\n",
       "      <th></th>\n",
       "    </tr>\n",
       "  </thead>\n",
       "  <tbody>\n",
       "    <tr>\n",
       "      <th>2023-02-21</th>\n",
       "      <td>28.59</td>\n",
       "      <td>28.235</td>\n",
       "      <td>25.735</td>\n",
       "      <td>24.0450</td>\n",
       "    </tr>\n",
       "    <tr>\n",
       "      <th>2023-02-22</th>\n",
       "      <td>30.73</td>\n",
       "      <td>29.660</td>\n",
       "      <td>26.372</td>\n",
       "      <td>24.8335</td>\n",
       "    </tr>\n",
       "    <tr>\n",
       "      <th>2023-02-23</th>\n",
       "      <td>33.80</td>\n",
       "      <td>32.265</td>\n",
       "      <td>27.116</td>\n",
       "      <td>25.7010</td>\n",
       "    </tr>\n",
       "    <tr>\n",
       "      <th>2023-02-24</th>\n",
       "      <td>36.01</td>\n",
       "      <td>34.905</td>\n",
       "      <td>28.022</td>\n",
       "      <td>26.5970</td>\n",
       "    </tr>\n",
       "    <tr>\n",
       "      <th>2023-02-27</th>\n",
       "      <td>36.72</td>\n",
       "      <td>36.365</td>\n",
       "      <td>29.268</td>\n",
       "      <td>27.4385</td>\n",
       "    </tr>\n",
       "    <tr>\n",
       "      <th>...</th>\n",
       "      <td>...</td>\n",
       "      <td>...</td>\n",
       "      <td>...</td>\n",
       "      <td>...</td>\n",
       "    </tr>\n",
       "    <tr>\n",
       "      <th>2023-06-12</th>\n",
       "      <td>53.85</td>\n",
       "      <td>53.025</td>\n",
       "      <td>54.015</td>\n",
       "      <td>51.7510</td>\n",
       "    </tr>\n",
       "    <tr>\n",
       "      <th>2023-06-13</th>\n",
       "      <td>51.65</td>\n",
       "      <td>52.750</td>\n",
       "      <td>53.890</td>\n",
       "      <td>52.1865</td>\n",
       "    </tr>\n",
       "    <tr>\n",
       "      <th>2023-06-14</th>\n",
       "      <td>52.50</td>\n",
       "      <td>52.075</td>\n",
       "      <td>53.890</td>\n",
       "      <td>52.4505</td>\n",
       "    </tr>\n",
       "    <tr>\n",
       "      <th>2023-06-15</th>\n",
       "      <td>53.05</td>\n",
       "      <td>52.775</td>\n",
       "      <td>53.675</td>\n",
       "      <td>52.5080</td>\n",
       "    </tr>\n",
       "    <tr>\n",
       "      <th>2023-06-16</th>\n",
       "      <td>54.00</td>\n",
       "      <td>53.525</td>\n",
       "      <td>53.550</td>\n",
       "      <td>52.7680</td>\n",
       "    </tr>\n",
       "  </tbody>\n",
       "</table>\n",
       "<p>81 rows × 4 columns</p>\n",
       "</div>"
      ],
      "text/plain": [
       "            Close   short     mid     long\n",
       "Date                                      \n",
       "2023-02-21  28.59  28.235  25.735  24.0450\n",
       "2023-02-22  30.73  29.660  26.372  24.8335\n",
       "2023-02-23  33.80  32.265  27.116  25.7010\n",
       "2023-02-24  36.01  34.905  28.022  26.5970\n",
       "2023-02-27  36.72  36.365  29.268  27.4385\n",
       "...           ...     ...     ...      ...\n",
       "2023-06-12  53.85  53.025  54.015  51.7510\n",
       "2023-06-13  51.65  52.750  53.890  52.1865\n",
       "2023-06-14  52.50  52.075  53.890  52.4505\n",
       "2023-06-15  53.05  52.775  53.675  52.5080\n",
       "2023-06-16  54.00  53.525  53.550  52.7680\n",
       "\n",
       "[81 rows x 4 columns]"
      ]
     },
     "execution_count": 15,
     "metadata": {},
     "output_type": "execute_result"
    }
   ],
   "source": [
    "MAs.dropna(axis=0,inplace=True)\n",
    "MAs"
   ]
  },
  {
   "cell_type": "code",
   "execution_count": 16,
   "metadata": {},
   "outputs": [
    {
     "data": {
      "text/plain": [
       "<matplotlib.legend.Legend at 0x22a56f48>"
      ]
     },
     "execution_count": 16,
     "metadata": {},
     "output_type": "execute_result"
    },
    {
     "data": {
      "image/png": "[encoded data removed]",
      "text/plain": [
       "<Figure size 1200x400 with 1 Axes>"
      ]
     },
     "metadata": {},
     "output_type": "display_data"
    }
   ],
   "source": [
    "fig,ax=plt.subplots(figsize=(12,4))\n",
    "ax.plot(close.index,close,label='ASTOR')\n",
    "ax.plot(rolling_app5.index,rolling_app5,label='5 Günlük Ortalama')\n",
    "ax.plot(rolling_app14.index,rolling_app14,label='14 Günlük Ortalama')\n",
    "ax.plot(rolling_app21.index,rolling_app21,label='21 Günlük Ortalama')\n",
    "ax.legend(loc='upper left')\n"
   ]
  },
  {
   "cell_type": "code",
   "execution_count": 17,
   "metadata": {},
   "outputs": [],
   "source": [
    "def buy_sell(data,perc=50):\n",
    "    buy_sell=[]\n",
    "    buy_signal=[]\n",
    "    sell_signal=[]\n",
    "    flag=42\n",
    "\n",
    "    sm=np.abs(np.percentile(np.array(data[\"short\"]-data[\"mid\"]),perc))\n",
    "    sl=np.abs(np.percentile(np.array(data[\"short\"]-data[\"long\"]),perc))\n",
    "\n",
    "    for i in range(0,len(data)):\n",
    "        if (data[\"short\"][i]>data[\"mid\"][i]+sm) & (data[\"short\"][i]>data[\"long\"][i]+sl):\n",
    "            buy_signal.append(np.nan)\n",
    "            if flag !=1:\n",
    "                sell_signal.append(data[\"Close\"][i])\n",
    "                buy_sell.append(data[\"Close\"][i])\n",
    "                flag=1\n",
    "            else:\n",
    "                sell_signal.append(np.nan)\n",
    "        elif (data[\"short\"][i]<data[\"mid\"][i]-sm)&(data[\"short\"][i]<data[\"long\"][i]-sl):\n",
    "            sell_signal.append(np.nan)\n",
    "            if flag!=0:\n",
    "                buy_signal.append(data[\"Close\"][i])\n",
    "                buy_sell.append(-data[\"Close\"][i])\n",
    "                flag=0\n",
    "            else:\n",
    "                buy_signal.append(np.nan)\n",
    "        else:\n",
    "            buy_sell.append(np.nan)\n",
    "            sell_signal.append(np.nan)\n",
    "            buy_signal.append(np.nan)\n",
    "\n",
    "    operations=np.array(buy_sell)\n",
    "    operations=operations[~np.isnan(operations)]\n",
    "\n",
    "    neg=0\n",
    "    pos=0\n",
    "\n",
    "    for i in range(len(operations)):\n",
    "        if operations[i]<0:\n",
    "            neg=i\n",
    "            break\n",
    "    for i in range(1,len(operations)):\n",
    "        if operations[-i]>0:\n",
    "            pos=i-1\n",
    "            break\n",
    "    operations=operations[neg:-pos]\n",
    "    PL=np.sum(operations)\n",
    "\n",
    "    return (buy_signal,sell_signal,PL)\n"
   ]
  },
  {
   "cell_type": "code",
   "execution_count": 18,
   "metadata": {},
   "outputs": [],
   "source": [
    "m=buy_sell(MAs)\n",
    "MAs[\"Al\"]=m[0]\n",
    "MAs[\"Sat\"]=m[1]"
   ]
  },
  {
   "cell_type": "code",
   "execution_count": 20,
   "metadata": {},
   "outputs": [
    {
     "data": {
      "image/png": "[encoded data removed]",
      "text/plain": [
       "<Figure size 1200x500 with 1 Axes>"
      ]
     },
     "metadata": {},
     "output_type": "display_data"
    }
   ],
   "source": [
    "plt.figure(figsize=(12,5))\n",
    "plt.scatter(MAs.index,MAs[\"Al\"],color=\"green\",label='Al',marker='^',alpha=1)\n",
    "plt.scatter(MAs.index,MAs[\"Sat\"],color=\"red\",label='Sat',marker='v',alpha=1)\n",
    "plt.plot(MAs[\"Close\"],label='Kapanış Fiyatı',alpha=0.5)\n",
    "plt.xlabel(\"Date\")\n",
    "plt.ylabel(\"Close Price\")\n",
    "plt.legend(loc='upper left')\n",
    "plt.show()"
   ]
  },
  {
   "cell_type": "code",
   "execution_count": 140,
   "metadata": {},
   "outputs": [
    {
     "data": {
      "text/plain": [
       "Date\n",
       "2023-02-03    26.36\n",
       "2023-03-28    54.07\n",
       "2023-04-12    53.42\n",
       "2023-05-26    50.40\n",
       "2023-06-09    52.20\n",
       "Name: Al, dtype: float64"
      ]
     },
     "execution_count": 140,
     "metadata": {},
     "output_type": "execute_result"
    }
   ],
   "source": [
    "al=MAs[\"Al\"]\n",
    "al=al.dropna(axis=0)\n",
    "al"
   ]
  },
  {
   "cell_type": "code",
   "execution_count": 104,
   "metadata": {},
   "outputs": [],
   "source": [
    "del al[\"2023-06-09\"]"
   ]
  },
  {
   "cell_type": "code",
   "execution_count": 142,
   "metadata": {},
   "outputs": [
    {
     "data": {
      "text/plain": [
       "Date\n",
       "2023-01-27    26.44\n",
       "2023-02-20    27.88\n",
       "2023-04-06    58.12\n",
       "2023-05-16    47.22\n",
       "2023-05-29    53.10\n",
       "Name: Sat, dtype: float64"
      ]
     },
     "execution_count": 142,
     "metadata": {},
     "output_type": "execute_result"
    }
   ],
   "source": [
    "sat=MAs[\"Sat\"]\n",
    "sat=sat.dropna(axis=0)\n",
    "sat\n"
   ]
  },
  {
   "cell_type": "code",
   "execution_count": 107,
   "metadata": {},
   "outputs": [],
   "source": [
    "del sat[\"2023-01-27\"]"
   ]
  },
  {
   "cell_type": "code",
   "execution_count": 108,
   "metadata": {},
   "outputs": [],
   "source": [
    "sat_val=sat.values\n",
    "al_val=al.values\n"
   ]
  },
  {
   "cell_type": "code",
   "execution_count": 109,
   "metadata": {},
   "outputs": [],
   "source": [
    "res=[]\n",
    "\n",
    "for i in range(4):\n",
    "    res.append((sat_val[i]/al_val[i]))\n",
    "\n",
    "\n"
   ]
  },
  {
   "cell_type": "code",
   "execution_count": 110,
   "metadata": {},
   "outputs": [
    {
     "data": {
      "text/html": [
       "<div>\n",
       "<style scoped>\n",
       "    .dataframe tbody tr th:only-of-type {\n",
       "        vertical-align: middle;\n",
       "    }\n",
       "\n",
       "    .dataframe tbody tr th {\n",
       "        vertical-align: top;\n",
       "    }\n",
       "\n",
       "    .dataframe thead th {\n",
       "        text-align: right;\n",
       "    }\n",
       "</style>\n",
       "<table border=\"1\" class=\"dataframe\">\n",
       "  <thead>\n",
       "    <tr style=\"text-align: right;\">\n",
       "      <th></th>\n",
       "      <th>Kar</th>\n",
       "    </tr>\n",
       "  </thead>\n",
       "  <tbody>\n",
       "    <tr>\n",
       "      <th>0</th>\n",
       "      <td>1.057663</td>\n",
       "    </tr>\n",
       "    <tr>\n",
       "      <th>1</th>\n",
       "      <td>1.074903</td>\n",
       "    </tr>\n",
       "    <tr>\n",
       "      <th>2</th>\n",
       "      <td>0.883939</td>\n",
       "    </tr>\n",
       "    <tr>\n",
       "      <th>3</th>\n",
       "      <td>1.053571</td>\n",
       "    </tr>\n",
       "  </tbody>\n",
       "</table>\n",
       "</div>"
      ],
      "text/plain": [
       "        Kar\n",
       "0  1.057663\n",
       "1  1.074903\n",
       "2  0.883939\n",
       "3  1.053571"
      ]
     },
     "execution_count": 110,
     "metadata": {},
     "output_type": "execute_result"
    }
   ],
   "source": [
    "df=pd.DataFrame()\n",
    "df[\"Kar\"]=res\n",
    "df"
   ]
  },
  {
   "cell_type": "code",
   "execution_count": 111,
   "metadata": {},
   "outputs": [
    {
     "data": {
      "text/html": [
       "<div>\n",
       "<style scoped>\n",
       "    .dataframe tbody tr th:only-of-type {\n",
       "        vertical-align: middle;\n",
       "    }\n",
       "\n",
       "    .dataframe tbody tr th {\n",
       "        vertical-align: top;\n",
       "    }\n",
       "\n",
       "    .dataframe thead th {\n",
       "        text-align: right;\n",
       "    }\n",
       "</style>\n",
       "<table border=\"1\" class=\"dataframe\">\n",
       "  <thead>\n",
       "    <tr style=\"text-align: right;\">\n",
       "      <th></th>\n",
       "      <th>Kar</th>\n",
       "      <th>Eldeki Para</th>\n",
       "    </tr>\n",
       "  </thead>\n",
       "  <tbody>\n",
       "    <tr>\n",
       "      <th>0</th>\n",
       "      <td>1.057663</td>\n",
       "      <td>105.766313</td>\n",
       "    </tr>\n",
       "    <tr>\n",
       "      <th>1</th>\n",
       "      <td>1.074903</td>\n",
       "      <td>107.490290</td>\n",
       "    </tr>\n",
       "    <tr>\n",
       "      <th>2</th>\n",
       "      <td>0.883939</td>\n",
       "      <td>88.393860</td>\n",
       "    </tr>\n",
       "    <tr>\n",
       "      <th>3</th>\n",
       "      <td>1.053571</td>\n",
       "      <td>105.357143</td>\n",
       "    </tr>\n",
       "  </tbody>\n",
       "</table>\n",
       "</div>"
      ],
      "text/plain": [
       "        Kar  Eldeki Para\n",
       "0  1.057663   105.766313\n",
       "1  1.074903   107.490290\n",
       "2  0.883939    88.393860\n",
       "3  1.053571   105.357143"
      ]
     },
     "execution_count": 111,
     "metadata": {},
     "output_type": "execute_result"
    }
   ],
   "source": [
    "df[\"Eldeki Para\"]=df[\"Kar\"]*100\n",
    "df  "
   ]
  },
  {
   "cell_type": "code",
   "execution_count": 112,
   "metadata": {},
   "outputs": [
    {
     "data": {
      "text/html": [
       "<div>\n",
       "<style scoped>\n",
       "    .dataframe tbody tr th:only-of-type {\n",
       "        vertical-align: middle;\n",
       "    }\n",
       "\n",
       "    .dataframe tbody tr th {\n",
       "        vertical-align: top;\n",
       "    }\n",
       "\n",
       "    .dataframe thead th {\n",
       "        text-align: right;\n",
       "    }\n",
       "</style>\n",
       "<table border=\"1\" class=\"dataframe\">\n",
       "  <thead>\n",
       "    <tr style=\"text-align: right;\">\n",
       "      <th></th>\n",
       "      <th>Kar</th>\n",
       "      <th>Eldeki Para</th>\n",
       "      <th>Son Kar</th>\n",
       "    </tr>\n",
       "  </thead>\n",
       "  <tbody>\n",
       "    <tr>\n",
       "      <th>0</th>\n",
       "      <td>1.057663</td>\n",
       "      <td>105.766313</td>\n",
       "      <td>5.766313</td>\n",
       "    </tr>\n",
       "    <tr>\n",
       "      <th>1</th>\n",
       "      <td>1.074903</td>\n",
       "      <td>107.490290</td>\n",
       "      <td>7.490290</td>\n",
       "    </tr>\n",
       "    <tr>\n",
       "      <th>2</th>\n",
       "      <td>0.883939</td>\n",
       "      <td>88.393860</td>\n",
       "      <td>-11.606140</td>\n",
       "    </tr>\n",
       "    <tr>\n",
       "      <th>3</th>\n",
       "      <td>1.053571</td>\n",
       "      <td>105.357143</td>\n",
       "      <td>5.357143</td>\n",
       "    </tr>\n",
       "  </tbody>\n",
       "</table>\n",
       "</div>"
      ],
      "text/plain": [
       "        Kar  Eldeki Para    Son Kar\n",
       "0  1.057663   105.766313   5.766313\n",
       "1  1.074903   107.490290   7.490290\n",
       "2  0.883939    88.393860 -11.606140\n",
       "3  1.053571   105.357143   5.357143"
      ]
     },
     "execution_count": 112,
     "metadata": {},
     "output_type": "execute_result"
    }
   ],
   "source": [
    "df[\"Son Kar\"]=df[\"Eldeki Para\"]-100\n",
    "df"
   ]
  },
  {
   "cell_type": "code",
   "execution_count": 113,
   "metadata": {},
   "outputs": [],
   "source": [
    "\n",
    "df[\"Yatırılan Para\"]=[100,100,100,100]\n"
   ]
  },
  {
   "cell_type": "code",
   "execution_count": 114,
   "metadata": {},
   "outputs": [
    {
     "data": {
      "text/plain": [
       "1.0175190144846564"
      ]
     },
     "execution_count": 114,
     "metadata": {},
     "output_type": "execute_result"
    }
   ],
   "source": [
    "karlilik=df[\"Eldeki Para\"].sum()/df[\"Yatırılan Para\"].sum()\n",
    "karlilik"
   ]
  },
  {
   "cell_type": "code",
   "execution_count": 115,
   "metadata": {},
   "outputs": [
    {
     "name": "stdout",
     "output_type": "stream",
     "text": [
      "Karlılık oranı % 1.7519014484656426\n"
     ]
    }
   ],
   "source": [
    "karlilik_yuzde=(karlilik-1)*100\n",
    "print(\"Karlılık oranı %\",karlilik_yuzde)"
   ]
  },
  {
   "attachments": {},
   "cell_type": "markdown",
   "metadata": {},
   "source": [
    "Her sat tavsiyesinde satmayıp 3.sat tavsiyesinde satarsak ne olur?(Yani 2 adet sat tavsiyesini pas geçersek)"
   ]
  },
  {
   "cell_type": "code",
   "execution_count": 116,
   "metadata": {},
   "outputs": [],
   "source": [
    "sat_val1=sat_val[1:4:2]"
   ]
  },
  {
   "cell_type": "code",
   "execution_count": 117,
   "metadata": {},
   "outputs": [
    {
     "data": {
      "text/plain": [
       "array([58.12, 53.1 ])"
      ]
     },
     "execution_count": 117,
     "metadata": {},
     "output_type": "execute_result"
    }
   ],
   "source": [
    "sat_val1"
   ]
  },
  {
   "cell_type": "code",
   "execution_count": 118,
   "metadata": {},
   "outputs": [
    {
     "data": {
      "text/plain": [
       "array([26.36, 53.42])"
      ]
     },
     "execution_count": 118,
     "metadata": {},
     "output_type": "execute_result"
    }
   ],
   "source": [
    "al_val1=al_val[0:4:2]\n",
    "al_val1"
   ]
  },
  {
   "cell_type": "code",
   "execution_count": 119,
   "metadata": {},
   "outputs": [],
   "source": [
    "res1=[]\n",
    "\n",
    "for i in range(2):\n",
    "    res1.append((sat_val1[i]/al_val1[i]))"
   ]
  },
  {
   "cell_type": "code",
   "execution_count": 120,
   "metadata": {},
   "outputs": [
    {
     "data": {
      "text/html": [
       "<div>\n",
       "<style scoped>\n",
       "    .dataframe tbody tr th:only-of-type {\n",
       "        vertical-align: middle;\n",
       "    }\n",
       "\n",
       "    .dataframe tbody tr th {\n",
       "        vertical-align: top;\n",
       "    }\n",
       "\n",
       "    .dataframe thead th {\n",
       "        text-align: right;\n",
       "    }\n",
       "</style>\n",
       "<table border=\"1\" class=\"dataframe\">\n",
       "  <thead>\n",
       "    <tr style=\"text-align: right;\">\n",
       "      <th></th>\n",
       "      <th>Kar</th>\n",
       "    </tr>\n",
       "  </thead>\n",
       "  <tbody>\n",
       "    <tr>\n",
       "      <th>0</th>\n",
       "      <td>2.204856</td>\n",
       "    </tr>\n",
       "    <tr>\n",
       "      <th>1</th>\n",
       "      <td>0.994010</td>\n",
       "    </tr>\n",
       "  </tbody>\n",
       "</table>\n",
       "</div>"
      ],
      "text/plain": [
       "        Kar\n",
       "0  2.204856\n",
       "1  0.994010"
      ]
     },
     "execution_count": 120,
     "metadata": {},
     "output_type": "execute_result"
    }
   ],
   "source": [
    "df1=pd.DataFrame()\n",
    "df1[\"Kar\"]=res1\n",
    "df1"
   ]
  },
  {
   "cell_type": "code",
   "execution_count": 121,
   "metadata": {},
   "outputs": [
    {
     "data": {
      "text/html": [
       "<div>\n",
       "<style scoped>\n",
       "    .dataframe tbody tr th:only-of-type {\n",
       "        vertical-align: middle;\n",
       "    }\n",
       "\n",
       "    .dataframe tbody tr th {\n",
       "        vertical-align: top;\n",
       "    }\n",
       "\n",
       "    .dataframe thead th {\n",
       "        text-align: right;\n",
       "    }\n",
       "</style>\n",
       "<table border=\"1\" class=\"dataframe\">\n",
       "  <thead>\n",
       "    <tr style=\"text-align: right;\">\n",
       "      <th></th>\n",
       "      <th>Kar</th>\n",
       "      <th>Eldeki Para</th>\n",
       "    </tr>\n",
       "  </thead>\n",
       "  <tbody>\n",
       "    <tr>\n",
       "      <th>0</th>\n",
       "      <td>2.204856</td>\n",
       "      <td>220.485584</td>\n",
       "    </tr>\n",
       "    <tr>\n",
       "      <th>1</th>\n",
       "      <td>0.994010</td>\n",
       "      <td>99.400973</td>\n",
       "    </tr>\n",
       "  </tbody>\n",
       "</table>\n",
       "</div>"
      ],
      "text/plain": [
       "        Kar  Eldeki Para\n",
       "0  2.204856   220.485584\n",
       "1  0.994010    99.400973"
      ]
     },
     "execution_count": 121,
     "metadata": {},
     "output_type": "execute_result"
    }
   ],
   "source": [
    "df1[\"Eldeki Para\"]=df1[\"Kar\"]*100\n",
    "df1 "
   ]
  },
  {
   "cell_type": "code",
   "execution_count": 122,
   "metadata": {},
   "outputs": [],
   "source": [
    "df1[\"Son Kar\"]=df1[\"Eldeki Para\"]-100"
   ]
  },
  {
   "cell_type": "code",
   "execution_count": 124,
   "metadata": {},
   "outputs": [],
   "source": [
    "df1[\"Yatırılan Para\"]=[100,100]"
   ]
  },
  {
   "cell_type": "code",
   "execution_count": 125,
   "metadata": {},
   "outputs": [
    {
     "data": {
      "text/html": [
       "<div>\n",
       "<style scoped>\n",
       "    .dataframe tbody tr th:only-of-type {\n",
       "        vertical-align: middle;\n",
       "    }\n",
       "\n",
       "    .dataframe tbody tr th {\n",
       "        vertical-align: top;\n",
       "    }\n",
       "\n",
       "    .dataframe thead th {\n",
       "        text-align: right;\n",
       "    }\n",
       "</style>\n",
       "<table border=\"1\" class=\"dataframe\">\n",
       "  <thead>\n",
       "    <tr style=\"text-align: right;\">\n",
       "      <th></th>\n",
       "      <th>Kar</th>\n",
       "      <th>Eldeki Para</th>\n",
       "      <th>Son Kar</th>\n",
       "      <th>Yatırılan Para</th>\n",
       "    </tr>\n",
       "  </thead>\n",
       "  <tbody>\n",
       "    <tr>\n",
       "      <th>0</th>\n",
       "      <td>2.204856</td>\n",
       "      <td>220.485584</td>\n",
       "      <td>120.485584</td>\n",
       "      <td>100</td>\n",
       "    </tr>\n",
       "    <tr>\n",
       "      <th>1</th>\n",
       "      <td>0.994010</td>\n",
       "      <td>99.400973</td>\n",
       "      <td>-0.599027</td>\n",
       "      <td>100</td>\n",
       "    </tr>\n",
       "  </tbody>\n",
       "</table>\n",
       "</div>"
      ],
      "text/plain": [
       "        Kar  Eldeki Para     Son Kar  Yatırılan Para\n",
       "0  2.204856   220.485584  120.485584             100\n",
       "1  0.994010    99.400973   -0.599027             100"
      ]
     },
     "execution_count": 125,
     "metadata": {},
     "output_type": "execute_result"
    }
   ],
   "source": [
    "df1"
   ]
  },
  {
   "attachments": {},
   "cell_type": "markdown",
   "metadata": {},
   "source": [
    "İlk aşamada 100 TL yatırıp 220 TL kazanırız,toplamda 200 TL yatırıp 321 TL kazanırız."
   ]
  },
  {
   "cell_type": "code",
   "execution_count": 126,
   "metadata": {},
   "outputs": [
    {
     "data": {
      "text/plain": [
       "1.5994327881835415"
      ]
     },
     "execution_count": 126,
     "metadata": {},
     "output_type": "execute_result"
    }
   ],
   "source": [
    "karlilik=df1[\"Eldeki Para\"].sum()/df1[\"Yatırılan Para\"].sum()\n",
    "karlilik"
   ]
  },
  {
   "cell_type": "code",
   "execution_count": 127,
   "metadata": {},
   "outputs": [
    {
     "name": "stdout",
     "output_type": "stream",
     "text": [
      "Karlılık oranı % 59.94327881835415\n"
     ]
    }
   ],
   "source": [
    "karlilik_yuzde=(karlilik-1)*100\n",
    "print(\"Karlılık oranı %\",karlilik_yuzde)"
   ]
  }
 ],
 "metadata": {
  "kernelspec": {
   "display_name": "Python 3",
   "language": "python",
   "name": "python3"
  },
  "language_info": {
   "codemirror_mode": {
    "name": "ipython",
    "version": 3
   },
   "file_extension": ".py",
   "mimetype": "text/x-python",
   "name": "python",
   "nbconvert_exporter": "python",
   "pygments_lexer": "ipython3",
   "version": "3.7.6"
  },
  "orig_nbformat": 4,
  "vscode": {
   "interpreter": {
    "hash": "f4b4c62aaa4875226db85e6b013b122e2774d7746e898ecdc06b2fc04bd17fe2"
   }
  }
 },
 "nbformat": 4,
 "nbformat_minor": 2
}
