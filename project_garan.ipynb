{
 "cells": [
  {
   "cell_type": "markdown",
   "metadata": {},
   "source": []
  },
  {
   "cell_type": "code",
   "execution_count": 1,
   "metadata": {},
   "outputs": [],
   "source": [
    "import numpy as np\n",
    "import pandas as pd\n",
    "import matplotlib.pyplot as plt\n",
    "import plotly.graph_objects as go\n",
    "from time import sleep\n",
    "import socket,time,requests\n",
    "from bs4 import BeautifulSoup\n",
    "import tkinter as tk\n",
    "\n",
    "import yfinance as yf\n",
    "import datetime\n",
    "\n",
    "\n"
   ]
  },
  {
   "cell_type": "code",
   "execution_count": 210,
   "metadata": {},
   "outputs": [
    {
     "name": "stdout",
     "output_type": "stream",
     "text": [
      "[*********************100%***********************]  1 of 1 completed\n"
     ]
    }
   ],
   "source": [
    "ticker='GARAN.IS'\n",
    "start=\"2021-01-01\"\n",
    "end=str(datetime.date.today() +datetime.timedelta(days=1))\n",
    "garan=yf.download(ticker,start,end)\n"
   ]
  },
  {
   "cell_type": "code",
   "execution_count": 211,
   "metadata": {},
   "outputs": [
    {
     "data": {
      "text/html": [
       "<div>\n",
       "<style scoped>\n",
       "    .dataframe tbody tr th:only-of-type {\n",
       "        vertical-align: middle;\n",
       "    }\n",
       "\n",
       "    .dataframe tbody tr th {\n",
       "        vertical-align: top;\n",
       "    }\n",
       "\n",
       "    .dataframe thead th {\n",
       "        text-align: right;\n",
       "    }\n",
       "</style>\n",
       "<table border=\"1\" class=\"dataframe\">\n",
       "  <thead>\n",
       "    <tr style=\"text-align: right;\">\n",
       "      <th></th>\n",
       "      <th>Open</th>\n",
       "      <th>High</th>\n",
       "      <th>Low</th>\n",
       "      <th>Close</th>\n",
       "      <th>Adj Close</th>\n",
       "      <th>Volume</th>\n",
       "    </tr>\n",
       "    <tr>\n",
       "      <th>Date</th>\n",
       "      <th></th>\n",
       "      <th></th>\n",
       "      <th></th>\n",
       "      <th></th>\n",
       "      <th></th>\n",
       "      <th></th>\n",
       "    </tr>\n",
       "  </thead>\n",
       "  <tbody>\n",
       "    <tr>\n",
       "      <th>2021-01-04</th>\n",
       "      <td>10.410000</td>\n",
       "      <td>10.510000</td>\n",
       "      <td>10.320000</td>\n",
       "      <td>10.33</td>\n",
       "      <td>9.201124</td>\n",
       "      <td>131841519</td>\n",
       "    </tr>\n",
       "    <tr>\n",
       "      <th>2021-01-05</th>\n",
       "      <td>10.290000</td>\n",
       "      <td>10.410000</td>\n",
       "      <td>10.050000</td>\n",
       "      <td>10.09</td>\n",
       "      <td>8.987352</td>\n",
       "      <td>200649427</td>\n",
       "    </tr>\n",
       "    <tr>\n",
       "      <th>2021-01-06</th>\n",
       "      <td>10.200000</td>\n",
       "      <td>10.440000</td>\n",
       "      <td>10.130000</td>\n",
       "      <td>10.40</td>\n",
       "      <td>9.263474</td>\n",
       "      <td>225358010</td>\n",
       "    </tr>\n",
       "    <tr>\n",
       "      <th>2021-01-07</th>\n",
       "      <td>10.530000</td>\n",
       "      <td>10.590000</td>\n",
       "      <td>10.390000</td>\n",
       "      <td>10.52</td>\n",
       "      <td>9.370361</td>\n",
       "      <td>162347598</td>\n",
       "    </tr>\n",
       "    <tr>\n",
       "      <th>2021-01-08</th>\n",
       "      <td>10.580000</td>\n",
       "      <td>10.810000</td>\n",
       "      <td>10.470000</td>\n",
       "      <td>10.79</td>\n",
       "      <td>9.610855</td>\n",
       "      <td>237594804</td>\n",
       "    </tr>\n",
       "    <tr>\n",
       "      <th>...</th>\n",
       "      <td>...</td>\n",
       "      <td>...</td>\n",
       "      <td>...</td>\n",
       "      <td>...</td>\n",
       "      <td>...</td>\n",
       "      <td>...</td>\n",
       "    </tr>\n",
       "    <tr>\n",
       "      <th>2023-06-14</th>\n",
       "      <td>28.860001</td>\n",
       "      <td>30.360001</td>\n",
       "      <td>28.700001</td>\n",
       "      <td>29.32</td>\n",
       "      <td>29.320000</td>\n",
       "      <td>109792126</td>\n",
       "    </tr>\n",
       "    <tr>\n",
       "      <th>2023-06-15</th>\n",
       "      <td>29.799999</td>\n",
       "      <td>30.760000</td>\n",
       "      <td>29.700001</td>\n",
       "      <td>30.66</td>\n",
       "      <td>30.660000</td>\n",
       "      <td>66227025</td>\n",
       "    </tr>\n",
       "    <tr>\n",
       "      <th>2023-06-16</th>\n",
       "      <td>30.879999</td>\n",
       "      <td>31.100000</td>\n",
       "      <td>30.059999</td>\n",
       "      <td>30.08</td>\n",
       "      <td>30.080000</td>\n",
       "      <td>64139443</td>\n",
       "    </tr>\n",
       "    <tr>\n",
       "      <th>2023-06-19</th>\n",
       "      <td>30.080000</td>\n",
       "      <td>30.420000</td>\n",
       "      <td>29.260000</td>\n",
       "      <td>29.42</td>\n",
       "      <td>29.420000</td>\n",
       "      <td>60099531</td>\n",
       "    </tr>\n",
       "    <tr>\n",
       "      <th>2023-06-20</th>\n",
       "      <td>29.420000</td>\n",
       "      <td>30.959999</td>\n",
       "      <td>29.360001</td>\n",
       "      <td>30.66</td>\n",
       "      <td>30.660000</td>\n",
       "      <td>79537582</td>\n",
       "    </tr>\n",
       "  </tbody>\n",
       "</table>\n",
       "<p>615 rows × 6 columns</p>\n",
       "</div>"
      ],
      "text/plain": [
       "                 Open       High        Low  Close  Adj Close     Volume\n",
       "Date                                                                    \n",
       "2021-01-04  10.410000  10.510000  10.320000  10.33   9.201124  131841519\n",
       "2021-01-05  10.290000  10.410000  10.050000  10.09   8.987352  200649427\n",
       "2021-01-06  10.200000  10.440000  10.130000  10.40   9.263474  225358010\n",
       "2021-01-07  10.530000  10.590000  10.390000  10.52   9.370361  162347598\n",
       "2021-01-08  10.580000  10.810000  10.470000  10.79   9.610855  237594804\n",
       "...               ...        ...        ...    ...        ...        ...\n",
       "2023-06-14  28.860001  30.360001  28.700001  29.32  29.320000  109792126\n",
       "2023-06-15  29.799999  30.760000  29.700001  30.66  30.660000   66227025\n",
       "2023-06-16  30.879999  31.100000  30.059999  30.08  30.080000   64139443\n",
       "2023-06-19  30.080000  30.420000  29.260000  29.42  29.420000   60099531\n",
       "2023-06-20  29.420000  30.959999  29.360001  30.66  30.660000   79537582\n",
       "\n",
       "[615 rows x 6 columns]"
      ]
     },
     "execution_count": 211,
     "metadata": {},
     "output_type": "execute_result"
    }
   ],
   "source": [
    "garan.index=pd.to_datetime(garan.index)\n",
    "garan"
   ]
  },
  {
   "cell_type": "code",
   "execution_count": 212,
   "metadata": {},
   "outputs": [
    {
     "data": {
      "text/html": [
       "<div>\n",
       "<style scoped>\n",
       "    .dataframe tbody tr th:only-of-type {\n",
       "        vertical-align: middle;\n",
       "    }\n",
       "\n",
       "    .dataframe tbody tr th {\n",
       "        vertical-align: top;\n",
       "    }\n",
       "\n",
       "    .dataframe thead th {\n",
       "        text-align: right;\n",
       "    }\n",
       "</style>\n",
       "<table border=\"1\" class=\"dataframe\">\n",
       "  <thead>\n",
       "    <tr style=\"text-align: right;\">\n",
       "      <th></th>\n",
       "      <th>Close</th>\n",
       "    </tr>\n",
       "    <tr>\n",
       "      <th>Date</th>\n",
       "      <th></th>\n",
       "    </tr>\n",
       "  </thead>\n",
       "  <tbody>\n",
       "    <tr>\n",
       "      <th>2021-01-04</th>\n",
       "      <td>10.33</td>\n",
       "    </tr>\n",
       "    <tr>\n",
       "      <th>2021-01-05</th>\n",
       "      <td>10.09</td>\n",
       "    </tr>\n",
       "    <tr>\n",
       "      <th>2021-01-06</th>\n",
       "      <td>10.40</td>\n",
       "    </tr>\n",
       "    <tr>\n",
       "      <th>2021-01-07</th>\n",
       "      <td>10.52</td>\n",
       "    </tr>\n",
       "    <tr>\n",
       "      <th>2021-01-08</th>\n",
       "      <td>10.79</td>\n",
       "    </tr>\n",
       "    <tr>\n",
       "      <th>...</th>\n",
       "      <td>...</td>\n",
       "    </tr>\n",
       "    <tr>\n",
       "      <th>2023-06-14</th>\n",
       "      <td>29.32</td>\n",
       "    </tr>\n",
       "    <tr>\n",
       "      <th>2023-06-15</th>\n",
       "      <td>30.66</td>\n",
       "    </tr>\n",
       "    <tr>\n",
       "      <th>2023-06-16</th>\n",
       "      <td>30.08</td>\n",
       "    </tr>\n",
       "    <tr>\n",
       "      <th>2023-06-19</th>\n",
       "      <td>29.42</td>\n",
       "    </tr>\n",
       "    <tr>\n",
       "      <th>2023-06-20</th>\n",
       "      <td>30.66</td>\n",
       "    </tr>\n",
       "  </tbody>\n",
       "</table>\n",
       "<p>615 rows × 1 columns</p>\n",
       "</div>"
      ],
      "text/plain": [
       "            Close\n",
       "Date             \n",
       "2021-01-04  10.33\n",
       "2021-01-05  10.09\n",
       "2021-01-06  10.40\n",
       "2021-01-07  10.52\n",
       "2021-01-08  10.79\n",
       "...           ...\n",
       "2023-06-14  29.32\n",
       "2023-06-15  30.66\n",
       "2023-06-16  30.08\n",
       "2023-06-19  29.42\n",
       "2023-06-20  30.66\n",
       "\n",
       "[615 rows x 1 columns]"
      ]
     },
     "execution_count": 212,
     "metadata": {},
     "output_type": "execute_result"
    }
   ],
   "source": [
    "close=pd.DataFrame(garan[\"Close\"])\n",
    "\n",
    "close\n"
   ]
  },
  {
   "cell_type": "code",
   "execution_count": 213,
   "metadata": {},
   "outputs": [],
   "source": [
    "rolling_app5=close.rolling(window=5).mean()\n",
    "rolling_app14=close.rolling(window=14).mean()\n",
    "rolling_app21=close.rolling(window=21).mean()\n",
    "\n"
   ]
  },
  {
   "cell_type": "code",
   "execution_count": 214,
   "metadata": {},
   "outputs": [],
   "source": [
    "MAs=pd.concat([close,rolling_app5,rolling_app14,rolling_app21],axis=1)\n",
    "MAs.columns=[\"Close\",\"short\",\"mid\",\"long\"]\n"
   ]
  },
  {
   "cell_type": "code",
   "execution_count": 215,
   "metadata": {},
   "outputs": [
    {
     "data": {
      "text/html": [
       "<div>\n",
       "<style scoped>\n",
       "    .dataframe tbody tr th:only-of-type {\n",
       "        vertical-align: middle;\n",
       "    }\n",
       "\n",
       "    .dataframe tbody tr th {\n",
       "        vertical-align: top;\n",
       "    }\n",
       "\n",
       "    .dataframe thead th {\n",
       "        text-align: right;\n",
       "    }\n",
       "</style>\n",
       "<table border=\"1\" class=\"dataframe\">\n",
       "  <thead>\n",
       "    <tr style=\"text-align: right;\">\n",
       "      <th></th>\n",
       "      <th>Close</th>\n",
       "      <th>short</th>\n",
       "      <th>mid</th>\n",
       "      <th>long</th>\n",
       "    </tr>\n",
       "    <tr>\n",
       "      <th>Date</th>\n",
       "      <th></th>\n",
       "      <th></th>\n",
       "      <th></th>\n",
       "      <th></th>\n",
       "    </tr>\n",
       "  </thead>\n",
       "  <tbody>\n",
       "    <tr>\n",
       "      <th>2021-02-01</th>\n",
       "      <td>9.48</td>\n",
       "      <td>9.362</td>\n",
       "      <td>9.807143</td>\n",
       "      <td>10.017143</td>\n",
       "    </tr>\n",
       "    <tr>\n",
       "      <th>2021-02-02</th>\n",
       "      <td>9.69</td>\n",
       "      <td>9.396</td>\n",
       "      <td>9.749286</td>\n",
       "      <td>9.986667</td>\n",
       "    </tr>\n",
       "    <tr>\n",
       "      <th>2021-02-03</th>\n",
       "      <td>10.10</td>\n",
       "      <td>9.594</td>\n",
       "      <td>9.735000</td>\n",
       "      <td>9.987143</td>\n",
       "    </tr>\n",
       "    <tr>\n",
       "      <th>2021-02-04</th>\n",
       "      <td>9.92</td>\n",
       "      <td>9.700</td>\n",
       "      <td>9.727143</td>\n",
       "      <td>9.964286</td>\n",
       "    </tr>\n",
       "    <tr>\n",
       "      <th>2021-02-05</th>\n",
       "      <td>9.76</td>\n",
       "      <td>9.790</td>\n",
       "      <td>9.702143</td>\n",
       "      <td>9.928095</td>\n",
       "    </tr>\n",
       "    <tr>\n",
       "      <th>...</th>\n",
       "      <td>...</td>\n",
       "      <td>...</td>\n",
       "      <td>...</td>\n",
       "      <td>...</td>\n",
       "    </tr>\n",
       "    <tr>\n",
       "      <th>2023-06-14</th>\n",
       "      <td>29.32</td>\n",
       "      <td>29.740</td>\n",
       "      <td>27.945714</td>\n",
       "      <td>27.195238</td>\n",
       "    </tr>\n",
       "    <tr>\n",
       "      <th>2023-06-15</th>\n",
       "      <td>30.66</td>\n",
       "      <td>29.876</td>\n",
       "      <td>28.415714</td>\n",
       "      <td>27.236190</td>\n",
       "    </tr>\n",
       "    <tr>\n",
       "      <th>2023-06-16</th>\n",
       "      <td>30.08</td>\n",
       "      <td>29.828</td>\n",
       "      <td>28.808571</td>\n",
       "      <td>27.385714</td>\n",
       "    </tr>\n",
       "    <tr>\n",
       "      <th>2023-06-19</th>\n",
       "      <td>29.42</td>\n",
       "      <td>29.712</td>\n",
       "      <td>29.114286</td>\n",
       "      <td>27.534286</td>\n",
       "    </tr>\n",
       "    <tr>\n",
       "      <th>2023-06-20</th>\n",
       "      <td>30.66</td>\n",
       "      <td>30.028</td>\n",
       "      <td>29.330000</td>\n",
       "      <td>27.803809</td>\n",
       "    </tr>\n",
       "  </tbody>\n",
       "</table>\n",
       "<p>595 rows × 4 columns</p>\n",
       "</div>"
      ],
      "text/plain": [
       "            Close   short        mid       long\n",
       "Date                                           \n",
       "2021-02-01   9.48   9.362   9.807143  10.017143\n",
       "2021-02-02   9.69   9.396   9.749286   9.986667\n",
       "2021-02-03  10.10   9.594   9.735000   9.987143\n",
       "2021-02-04   9.92   9.700   9.727143   9.964286\n",
       "2021-02-05   9.76   9.790   9.702143   9.928095\n",
       "...           ...     ...        ...        ...\n",
       "2023-06-14  29.32  29.740  27.945714  27.195238\n",
       "2023-06-15  30.66  29.876  28.415714  27.236190\n",
       "2023-06-16  30.08  29.828  28.808571  27.385714\n",
       "2023-06-19  29.42  29.712  29.114286  27.534286\n",
       "2023-06-20  30.66  30.028  29.330000  27.803809\n",
       "\n",
       "[595 rows x 4 columns]"
      ]
     },
     "execution_count": 215,
     "metadata": {},
     "output_type": "execute_result"
    }
   ],
   "source": [
    "MAs.dropna(axis=0,inplace=True)\n",
    "MAs"
   ]
  },
  {
   "cell_type": "code",
   "execution_count": 216,
   "metadata": {},
   "outputs": [
    {
     "data": {
      "text/plain": [
       "<matplotlib.legend.Legend at 0xb861c8>"
      ]
     },
     "execution_count": 216,
     "metadata": {},
     "output_type": "execute_result"
    },
    {
     "data": {
      "image/png": "[encoded data removed]",
      "text/plain": [
       "<Figure size 1200x400 with 1 Axes>"
      ]
     },
     "metadata": {},
     "output_type": "display_data"
    }
   ],
   "source": [
    "fig,ax=plt.subplots(figsize=(12,4))\n",
    "ax.plot(close.index,close,label='garan')\n",
    "ax.plot(rolling_app5.index,rolling_app5,label='5 Günlük Ortalama')\n",
    "ax.plot(rolling_app14.index,rolling_app14,label='14 Günlük Ortalama')\n",
    "ax.plot(rolling_app21.index,rolling_app21,label='21 Günlük Ortalama')\n",
    "ax.legend(loc='upper left')\n"
   ]
  },
  {
   "cell_type": "code",
   "execution_count": 217,
   "metadata": {},
   "outputs": [],
   "source": [
    "def buy_sell_MA(data,opt=50):\n",
    "    buy_sell=[]\n",
    "    buy_signal=[]\n",
    "    sell_signal=[]\n",
    "    flag=42\n",
    "\n",
    "    up=data[(np.array(data[\"short\"]-data[\"mid\"])>0) & (np.array(data[\"short\"]-data[\"long\"])>0)]\n",
    "    down=data[(np.array(data[\"short\"]-data[\"mid\"])<0) & (np.array(data[\"short\"]-data[\"long\"])<0)]\n",
    "    ups=np.percentile(np.array(up[\"short\"]-up[\"mid\"]),opt)\n",
    "    downs=np.percentile(np.array(down[\"short\"]-down[\"long\"]),opt)\n",
    "\n",
    "\n",
    "    for i in range(0,len(data)):\n",
    "       if (data[\"short\"][i]>data[\"mid\"][i]+ups) & (data[\"short\"][i]>data[\"long\"][i]+ups):\n",
    "            buy_signal.append(np.nan)\n",
    "            if flag !=1:\n",
    "                sell_signal.append(data[\"Close\"][i])\n",
    "                buy_sell.append(data[\"Close\"][i])\n",
    "                flag=1\n",
    "            else:\n",
    "                sell_signal.append(np.nan)\n",
    "       elif(data[\"short\"][i]<data[\"mid\"][i]+downs)&(data[\"short\"][i]<data[\"long\"][i]+downs):\n",
    "            sell_signal.append(np.nan)\n",
    "            if flag!=0:\n",
    "                buy_signal.append(data[\"Close\"][i])\n",
    "                buy_sell.append(-data[\"Close\"][i])\n",
    "                flag=0\n",
    "            else:\n",
    "                buy_signal.append(np.nan)\n",
    "       else:\n",
    "            buy_sell.append(np.nan)\n",
    "            sell_signal.append(np.nan)\n",
    "            buy_signal.append(np.nan)\n",
    "\n",
    "    operations=np.array(buy_sell)\n",
    "    operations=operations[~np.isnan(operations)]\n",
    "\n",
    "    neg=0\n",
    "    pos=0\n",
    "\n",
    "    for i in range(len(operations)):\n",
    "        if operations[i]<0:\n",
    "            neg=i\n",
    "            break\n",
    "    for i in range(1,len(operations)):\n",
    "        if operations[-i]>0:\n",
    "            pos=i-1\n",
    "            break\n",
    "    \n",
    "    PL=np.sum(operations)\n",
    "    \n",
    "\n",
    "    \n",
    "    \n",
    "    return (buy_signal,sell_signal,PL)\n",
    "\n",
    "\n",
    "\n"
   ]
  },
  {
   "cell_type": "code",
   "execution_count": 218,
   "metadata": {},
   "outputs": [],
   "source": [
    "MAs[\"Buy\"]=buy_sell_MA(MAs)[0]\n",
    "MAs[\"Sell\"]=buy_sell_MA(MAs)[1]"
   ]
  },
  {
   "cell_type": "code",
   "execution_count": 219,
   "metadata": {},
   "outputs": [
    {
     "data": {
      "image/png": "[encoded data removed]",
      "text/plain": [
       "<Figure size 1200x500 with 1 Axes>"
      ]
     },
     "metadata": {},
     "output_type": "display_data"
    }
   ],
   "source": [
    "plt.figure(figsize=(12,5))\n",
    "plt.scatter(MAs.index,MAs[\"Buy\"],color=\"green\",label='Al',marker='^',alpha=1)\n",
    "plt.scatter(MAs.index,MAs[\"Sell\"],color=\"red\",label='Sat',marker='v',alpha=1)\n",
    "plt.plot(MAs[\"Close\"],label='Kapanış Fiyatı',alpha=0.5)\n",
    "plt.xlabel(\"Date\")\n",
    "plt.ylabel(\"Close Price\")\n",
    "plt.legend(loc='upper left')\n",
    "plt.show()"
   ]
  },
  {
   "attachments": {},
   "cell_type": "markdown",
   "metadata": {},
   "source": [
    "## Optimizing percentile variable to find best performance"
   ]
  },
  {
   "cell_type": "code",
   "execution_count": 220,
   "metadata": {},
   "outputs": [],
   "source": [
    "def kar(percentile):\n",
    "    MAs[\"Buy\"]=buy_sell_MA(MAs,percentile)[0]\n",
    "    MAs[\"Sell\"]=buy_sell_MA(MAs,percentile)[1]\n",
    "    al=MAs[\"Buy\"]\n",
    "    al=al.dropna(axis=0)\n",
    "    sat=MAs[\"Sell\"]\n",
    "    sat=sat.dropna(axis=0)\n",
    "    sat_val=sat.values\n",
    "    al_val=al.values\n",
    "    res=[]\n",
    "    if len(al_val)==len(sat_val):\n",
    "        for i in range(len(al_val)):\n",
    "           res.append(sat_val[i]/al_val[i])\n",
    "    elif len(al_val)>len(sat_val):\n",
    "        al_val=np.delete(al_val,-1)\n",
    "        for j in range(len(sat_val)):\n",
    "           res.append(sat_val[j]/al_val[j])\n",
    "    elif (len(sat_val)>len(al_val)):\n",
    "        sat_val=np.delete(sat_val,0)\n",
    "        for k in range(len(al_val)):\n",
    "            res.append(sat_val[k]/al_val[k])\n",
    "    \n",
    "        \n",
    "\n",
    "    \n",
    "       \n",
    "\n",
    "    \n",
    "\n",
    "    df=pd.DataFrame()\n",
    "    df[\"Kar\"]=res\n",
    "\n",
    "    return np.prod(df[\"Kar\"])"
   ]
  },
  {
   "cell_type": "code",
   "execution_count": 221,
   "metadata": {},
   "outputs": [],
   "source": [
    "MAs[\"Buy\"]=buy_sell_MA(MAs,50)[0]\n",
    "MAs[\"Sell\"]=buy_sell_MA(MAs,50)[1]\n",
    "al=MAs[\"Buy\"]\n",
    "al=al.dropna(axis=0)\n",
    "sat=MAs[\"Sell\"]\n",
    "sat=sat.dropna(axis=0)\n",
    "sat_val=sat.values\n",
    "al_val=al.values"
   ]
  },
  {
   "cell_type": "code",
   "execution_count": 222,
   "metadata": {},
   "outputs": [],
   "source": [
    "percentile=range(1,100)\n",
    "\n"
   ]
  },
  {
   "cell_type": "code",
   "execution_count": 223,
   "metadata": {},
   "outputs": [],
   "source": [
    "kardf=pd.DataFrame()\n",
    "kardf[\"Percentile\"]=percentile"
   ]
  },
  {
   "cell_type": "code",
   "execution_count": 224,
   "metadata": {},
   "outputs": [],
   "source": [
    "\n",
    "for i in range(len(percentile)):\n",
    "  kardf.loc[i,1]=kar(percentile[i])"
   ]
  },
  {
   "cell_type": "code",
   "execution_count": 225,
   "metadata": {},
   "outputs": [
    {
     "data": {
      "text/html": [
       "<div>\n",
       "<style scoped>\n",
       "    .dataframe tbody tr th:only-of-type {\n",
       "        vertical-align: middle;\n",
       "    }\n",
       "\n",
       "    .dataframe tbody tr th {\n",
       "        vertical-align: top;\n",
       "    }\n",
       "\n",
       "    .dataframe thead th {\n",
       "        text-align: right;\n",
       "    }\n",
       "</style>\n",
       "<table border=\"1\" class=\"dataframe\">\n",
       "  <thead>\n",
       "    <tr style=\"text-align: right;\">\n",
       "      <th></th>\n",
       "      <th>Percentile</th>\n",
       "      <th>Performance</th>\n",
       "    </tr>\n",
       "  </thead>\n",
       "  <tbody>\n",
       "    <tr>\n",
       "      <th>87</th>\n",
       "      <td>88</td>\n",
       "      <td>4.827566</td>\n",
       "    </tr>\n",
       "    <tr>\n",
       "      <th>86</th>\n",
       "      <td>87</td>\n",
       "      <td>4.827566</td>\n",
       "    </tr>\n",
       "    <tr>\n",
       "      <th>91</th>\n",
       "      <td>92</td>\n",
       "      <td>4.709625</td>\n",
       "    </tr>\n",
       "    <tr>\n",
       "      <th>85</th>\n",
       "      <td>86</td>\n",
       "      <td>4.682476</td>\n",
       "    </tr>\n",
       "    <tr>\n",
       "      <th>88</th>\n",
       "      <td>89</td>\n",
       "      <td>4.574281</td>\n",
       "    </tr>\n",
       "    <tr>\n",
       "      <th>...</th>\n",
       "      <td>...</td>\n",
       "      <td>...</td>\n",
       "    </tr>\n",
       "    <tr>\n",
       "      <th>4</th>\n",
       "      <td>5</td>\n",
       "      <td>1.111691</td>\n",
       "    </tr>\n",
       "    <tr>\n",
       "      <th>3</th>\n",
       "      <td>4</td>\n",
       "      <td>1.111691</td>\n",
       "    </tr>\n",
       "    <tr>\n",
       "      <th>6</th>\n",
       "      <td>7</td>\n",
       "      <td>1.106493</td>\n",
       "    </tr>\n",
       "    <tr>\n",
       "      <th>5</th>\n",
       "      <td>6</td>\n",
       "      <td>1.106493</td>\n",
       "    </tr>\n",
       "    <tr>\n",
       "      <th>7</th>\n",
       "      <td>8</td>\n",
       "      <td>1.079014</td>\n",
       "    </tr>\n",
       "  </tbody>\n",
       "</table>\n",
       "<p>99 rows × 2 columns</p>\n",
       "</div>"
      ],
      "text/plain": [
       "    Percentile  Performance\n",
       "87          88     4.827566\n",
       "86          87     4.827566\n",
       "91          92     4.709625\n",
       "85          86     4.682476\n",
       "88          89     4.574281\n",
       "..         ...          ...\n",
       "4            5     1.111691\n",
       "3            4     1.111691\n",
       "6            7     1.106493\n",
       "5            6     1.106493\n",
       "7            8     1.079014\n",
       "\n",
       "[99 rows x 2 columns]"
      ]
     },
     "execution_count": 225,
     "metadata": {},
     "output_type": "execute_result"
    }
   ],
   "source": [
    "kardf.columns=[\"Percentile\",\"Performance\"]\n",
    "kardf=kardf.sort_values(by=\"Performance\",ascending=False)\n",
    "kardf"
   ]
  },
  {
   "cell_type": "code",
   "execution_count": 226,
   "metadata": {},
   "outputs": [],
   "source": [
    "MAs[\"Buy\"]=buy_sell_MA(MAs,kardf[\"Percentile\"].values[0])[0]\n",
    "MAs[\"Sell\"]=buy_sell_MA(MAs,kardf[\"Percentile\"].values[0])[1]"
   ]
  },
  {
   "cell_type": "code",
   "execution_count": 227,
   "metadata": {},
   "outputs": [
    {
     "data": {
      "image/png": "[encoded data removed]",
      "text/plain": [
       "<Figure size 1200x500 with 1 Axes>"
      ]
     },
     "metadata": {},
     "output_type": "display_data"
    }
   ],
   "source": [
    "plt.figure(figsize=(12,5))\n",
    "plt.scatter(MAs.index,MAs[\"Buy\"],color=\"green\",label='Al',marker='^',alpha=1)\n",
    "plt.scatter(MAs.index,MAs[\"Sell\"],color=\"red\",label='Sat',marker='v',alpha=1)\n",
    "plt.plot(MAs[\"Close\"],label='Kapanış Fiyatı',alpha=0.5)\n",
    "plt.xlabel(\"Date\")\n",
    "plt.ylabel(\"Close Price\")\n",
    "plt.legend(loc='upper left')\n",
    "plt.show()"
   ]
  },
  {
   "cell_type": "code",
   "execution_count": 228,
   "metadata": {},
   "outputs": [
    {
     "data": {
      "text/plain": [
       "Date\n",
       "2021-02-01     9.480000\n",
       "2022-09-20    20.139999\n",
       "2022-12-07    25.000000\n",
       "2023-01-09    26.719999\n",
       "2023-04-27    28.000000\n",
       "2023-05-22    24.100000\n",
       "Name: Buy, dtype: float64"
      ]
     },
     "execution_count": 228,
     "metadata": {},
     "output_type": "execute_result"
    }
   ],
   "source": [
    "al=MAs[\"Buy\"]\n",
    "al=al.dropna(axis=0)\n",
    "al"
   ]
  },
  {
   "cell_type": "code",
   "execution_count": 229,
   "metadata": {},
   "outputs": [
    {
     "data": {
      "text/plain": [
       "Date\n",
       "2022-08-15    18.299999\n",
       "2022-10-19    25.639999\n",
       "2022-12-19    31.620001\n",
       "2023-03-08    28.219999\n",
       "2023-05-12    33.099998\n",
       "2023-06-07    29.980000\n",
       "Name: Sell, dtype: float64"
      ]
     },
     "execution_count": 229,
     "metadata": {},
     "output_type": "execute_result"
    }
   ],
   "source": [
    "sat=MAs[\"Sell\"]\n",
    "sat=sat.dropna(axis=0)\n",
    "sat\n"
   ]
  },
  {
   "cell_type": "code",
   "execution_count": 230,
   "metadata": {},
   "outputs": [],
   "source": [
    "sat_val=sat.values\n",
    "al_val=al.values\n"
   ]
  },
  {
   "cell_type": "code",
   "execution_count": 231,
   "metadata": {},
   "outputs": [],
   "source": [
    "res=[]\n",
    "\n",
    "for i in range(len(al_val)):\n",
    "    res.append((sat_val[i]/al_val[i]))"
   ]
  },
  {
   "cell_type": "code",
   "execution_count": 232,
   "metadata": {},
   "outputs": [
    {
     "data": {
      "text/html": [
       "<div>\n",
       "<style scoped>\n",
       "    .dataframe tbody tr th:only-of-type {\n",
       "        vertical-align: middle;\n",
       "    }\n",
       "\n",
       "    .dataframe tbody tr th {\n",
       "        vertical-align: top;\n",
       "    }\n",
       "\n",
       "    .dataframe thead th {\n",
       "        text-align: right;\n",
       "    }\n",
       "</style>\n",
       "<table border=\"1\" class=\"dataframe\">\n",
       "  <thead>\n",
       "    <tr style=\"text-align: right;\">\n",
       "      <th></th>\n",
       "      <th>Kar</th>\n",
       "    </tr>\n",
       "  </thead>\n",
       "  <tbody>\n",
       "    <tr>\n",
       "      <th>0</th>\n",
       "      <td>1.930380</td>\n",
       "    </tr>\n",
       "    <tr>\n",
       "      <th>1</th>\n",
       "      <td>1.273088</td>\n",
       "    </tr>\n",
       "    <tr>\n",
       "      <th>2</th>\n",
       "      <td>1.264800</td>\n",
       "    </tr>\n",
       "    <tr>\n",
       "      <th>3</th>\n",
       "      <td>1.056138</td>\n",
       "    </tr>\n",
       "    <tr>\n",
       "      <th>4</th>\n",
       "      <td>1.182143</td>\n",
       "    </tr>\n",
       "    <tr>\n",
       "      <th>5</th>\n",
       "      <td>1.243983</td>\n",
       "    </tr>\n",
       "  </tbody>\n",
       "</table>\n",
       "</div>"
      ],
      "text/plain": [
       "        Kar\n",
       "0  1.930380\n",
       "1  1.273088\n",
       "2  1.264800\n",
       "3  1.056138\n",
       "4  1.182143\n",
       "5  1.243983"
      ]
     },
     "execution_count": 232,
     "metadata": {},
     "output_type": "execute_result"
    }
   ],
   "source": [
    "df=pd.DataFrame()\n",
    "df[\"Kar\"]=res\n",
    "df"
   ]
  },
  {
   "cell_type": "code",
   "execution_count": 233,
   "metadata": {},
   "outputs": [
    {
     "data": {
      "text/html": [
       "<div>\n",
       "<style scoped>\n",
       "    .dataframe tbody tr th:only-of-type {\n",
       "        vertical-align: middle;\n",
       "    }\n",
       "\n",
       "    .dataframe tbody tr th {\n",
       "        vertical-align: top;\n",
       "    }\n",
       "\n",
       "    .dataframe thead th {\n",
       "        text-align: right;\n",
       "    }\n",
       "</style>\n",
       "<table border=\"1\" class=\"dataframe\">\n",
       "  <thead>\n",
       "    <tr style=\"text-align: right;\">\n",
       "      <th></th>\n",
       "      <th>Kar</th>\n",
       "      <th>Eldeki Para</th>\n",
       "    </tr>\n",
       "  </thead>\n",
       "  <tbody>\n",
       "    <tr>\n",
       "      <th>0</th>\n",
       "      <td>1.930380</td>\n",
       "      <td>193.037976</td>\n",
       "    </tr>\n",
       "    <tr>\n",
       "      <th>1</th>\n",
       "      <td>1.273088</td>\n",
       "      <td>245.754406</td>\n",
       "    </tr>\n",
       "    <tr>\n",
       "      <th>2</th>\n",
       "      <td>1.264800</td>\n",
       "      <td>310.830181</td>\n",
       "    </tr>\n",
       "    <tr>\n",
       "      <th>3</th>\n",
       "      <td>1.056138</td>\n",
       "      <td>328.279480</td>\n",
       "    </tr>\n",
       "    <tr>\n",
       "      <th>4</th>\n",
       "      <td>1.182143</td>\n",
       "      <td>388.073225</td>\n",
       "    </tr>\n",
       "    <tr>\n",
       "      <th>5</th>\n",
       "      <td>1.243983</td>\n",
       "      <td>482.756636</td>\n",
       "    </tr>\n",
       "  </tbody>\n",
       "</table>\n",
       "</div>"
      ],
      "text/plain": [
       "        Kar  Eldeki Para\n",
       "0  1.930380   193.037976\n",
       "1  1.273088   245.754406\n",
       "2  1.264800   310.830181\n",
       "3  1.056138   328.279480\n",
       "4  1.182143   388.073225\n",
       "5  1.243983   482.756636"
      ]
     },
     "execution_count": 233,
     "metadata": {},
     "output_type": "execute_result"
    }
   ],
   "source": [
    "res0=[100]\n",
    "for i in range(len(df.index)):\n",
    "    res0.append(res0[i]*df[\"Kar\"].loc[i])\n",
    "\n",
    "df[\"Eldeki Para\"]=res0[1:]\n",
    "df\n"
   ]
  },
  {
   "cell_type": "code",
   "execution_count": 234,
   "metadata": {},
   "outputs": [
    {
     "name": "stdout",
     "output_type": "stream",
     "text": [
      "Karlılık oranı % 382.75663587153383\n"
     ]
    }
   ],
   "source": [
    "karlilik=df[\"Eldeki Para\"].iloc[-1]/100\n",
    "karlilik=(karlilik-1)*100\n",
    "print(\"Karlılık oranı %\",karlilik)"
   ]
  }
 ],
 "metadata": {
  "kernelspec": {
   "display_name": "Python 3",
   "language": "python",
   "name": "python3"
  },
  "language_info": {
   "codemirror_mode": {
    "name": "ipython",
    "version": 3
   },
   "file_extension": ".py",
   "mimetype": "text/x-python",
   "name": "python",
   "nbconvert_exporter": "python",
   "pygments_lexer": "ipython3",
   "version": "3.7.6"
  },
  "orig_nbformat": 4,
  "vscode": {
   "interpreter": {
    "hash": "f4b4c62aaa4875226db85e6b013b122e2774d7746e898ecdc06b2fc04bd17fe2"
   }
  }
 },
 "nbformat": 4,
 "nbformat_minor": 2
}
