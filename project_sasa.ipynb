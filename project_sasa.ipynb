{
 "cells": [
  {
   "cell_type": "markdown",
   "metadata": {},
   "source": []
  },
  {
   "cell_type": "code",
   "execution_count": 1,
   "metadata": {},
   "outputs": [],
   "source": [
    "import numpy as np\n",
    "import pandas as pd\n",
    "import matplotlib.pyplot as plt\n",
    "import plotly.graph_objects as go\n",
    "\n",
    "\n"
   ]
  },
  {
   "cell_type": "code",
   "execution_count": 486,
   "metadata": {},
   "outputs": [],
   "source": [
    "sasa=pd.read_csv(\"/Users/Bora/Documents/GitHub/SASA-Hisse-Analizi/SASA.csv\")\n",
    "sasa.index=pd.to_datetime(sasa[\"Date\"])\n"
   ]
  },
  {
   "cell_type": "code",
   "execution_count": 487,
   "metadata": {},
   "outputs": [],
   "source": [
    "del sasa[\"Date\"]"
   ]
  },
  {
   "cell_type": "code",
   "execution_count": 488,
   "metadata": {},
   "outputs": [],
   "source": [
    "sasa=pd.DataFrame(sasa)"
   ]
  },
  {
   "cell_type": "code",
   "execution_count": 489,
   "metadata": {},
   "outputs": [
    {
     "data": {
      "text/html": [
       "<div>\n",
       "<style scoped>\n",
       "    .dataframe tbody tr th:only-of-type {\n",
       "        vertical-align: middle;\n",
       "    }\n",
       "\n",
       "    .dataframe tbody tr th {\n",
       "        vertical-align: top;\n",
       "    }\n",
       "\n",
       "    .dataframe thead th {\n",
       "        text-align: right;\n",
       "    }\n",
       "</style>\n",
       "<table border=\"1\" class=\"dataframe\">\n",
       "  <thead>\n",
       "    <tr style=\"text-align: right;\">\n",
       "      <th></th>\n",
       "      <th>Price</th>\n",
       "    </tr>\n",
       "    <tr>\n",
       "      <th>Date</th>\n",
       "      <th></th>\n",
       "    </tr>\n",
       "  </thead>\n",
       "  <tbody>\n",
       "    <tr>\n",
       "      <th>2018-01-02</th>\n",
       "      <td>0.938</td>\n",
       "    </tr>\n",
       "    <tr>\n",
       "      <th>2018-01-03</th>\n",
       "      <td>0.957</td>\n",
       "    </tr>\n",
       "    <tr>\n",
       "      <th>2018-01-04</th>\n",
       "      <td>0.948</td>\n",
       "    </tr>\n",
       "    <tr>\n",
       "      <th>2018-01-05</th>\n",
       "      <td>0.962</td>\n",
       "    </tr>\n",
       "    <tr>\n",
       "      <th>2018-01-08</th>\n",
       "      <td>0.983</td>\n",
       "    </tr>\n",
       "    <tr>\n",
       "      <th>...</th>\n",
       "      <td>...</td>\n",
       "    </tr>\n",
       "    <tr>\n",
       "      <th>2023-06-12</th>\n",
       "      <td>62.600</td>\n",
       "    </tr>\n",
       "    <tr>\n",
       "      <th>2023-06-13</th>\n",
       "      <td>56.350</td>\n",
       "    </tr>\n",
       "    <tr>\n",
       "      <th>2023-06-14</th>\n",
       "      <td>54.950</td>\n",
       "    </tr>\n",
       "    <tr>\n",
       "      <th>2023-06-15</th>\n",
       "      <td>56.300</td>\n",
       "    </tr>\n",
       "    <tr>\n",
       "      <th>2023-06-16</th>\n",
       "      <td>55.500</td>\n",
       "    </tr>\n",
       "  </tbody>\n",
       "</table>\n",
       "<p>1365 rows × 1 columns</p>\n",
       "</div>"
      ],
      "text/plain": [
       "             Price\n",
       "Date              \n",
       "2018-01-02   0.938\n",
       "2018-01-03   0.957\n",
       "2018-01-04   0.948\n",
       "2018-01-05   0.962\n",
       "2018-01-08   0.983\n",
       "...            ...\n",
       "2023-06-12  62.600\n",
       "2023-06-13  56.350\n",
       "2023-06-14  54.950\n",
       "2023-06-15  56.300\n",
       "2023-06-16  55.500\n",
       "\n",
       "[1365 rows x 1 columns]"
      ]
     },
     "execution_count": 489,
     "metadata": {},
     "output_type": "execute_result"
    }
   ],
   "source": [
    "close=pd.DataFrame(sasa[\"Price\"])\n",
    "\n",
    "close"
   ]
  },
  {
   "cell_type": "code",
   "execution_count": 566,
   "metadata": {},
   "outputs": [],
   "source": [
    "rolling_app5=close.rolling(window=5).mean()\n",
    "rolling_app14=close.rolling(window=14).mean()\n",
    "rolling_app21=close.rolling(window=21).mean()\n",
    "\n"
   ]
  },
  {
   "cell_type": "code",
   "execution_count": 567,
   "metadata": {},
   "outputs": [],
   "source": [
    "MAs=pd.concat([close,rolling_app5,rolling_app14,rolling_app21],axis=1)\n",
    "MAs.columns=[\"Close\",\"short\",\"mid\",\"long\"]\n"
   ]
  },
  {
   "cell_type": "code",
   "execution_count": 568,
   "metadata": {},
   "outputs": [
    {
     "data": {
      "text/html": [
       "<div>\n",
       "<style scoped>\n",
       "    .dataframe tbody tr th:only-of-type {\n",
       "        vertical-align: middle;\n",
       "    }\n",
       "\n",
       "    .dataframe tbody tr th {\n",
       "        vertical-align: top;\n",
       "    }\n",
       "\n",
       "    .dataframe thead th {\n",
       "        text-align: right;\n",
       "    }\n",
       "</style>\n",
       "<table border=\"1\" class=\"dataframe\">\n",
       "  <thead>\n",
       "    <tr style=\"text-align: right;\">\n",
       "      <th></th>\n",
       "      <th>Close</th>\n",
       "      <th>short</th>\n",
       "      <th>mid</th>\n",
       "      <th>long</th>\n",
       "    </tr>\n",
       "    <tr>\n",
       "      <th>Date</th>\n",
       "      <th></th>\n",
       "      <th></th>\n",
       "      <th></th>\n",
       "      <th></th>\n",
       "    </tr>\n",
       "  </thead>\n",
       "  <tbody>\n",
       "    <tr>\n",
       "      <th>2018-01-30</th>\n",
       "      <td>0.923</td>\n",
       "      <td>0.9394</td>\n",
       "      <td>0.948143</td>\n",
       "      <td>0.951619</td>\n",
       "    </tr>\n",
       "    <tr>\n",
       "      <th>2018-01-31</th>\n",
       "      <td>0.903</td>\n",
       "      <td>0.9288</td>\n",
       "      <td>0.942857</td>\n",
       "      <td>0.949952</td>\n",
       "    </tr>\n",
       "    <tr>\n",
       "      <th>2018-02-01</th>\n",
       "      <td>0.889</td>\n",
       "      <td>0.9182</td>\n",
       "      <td>0.937500</td>\n",
       "      <td>0.946714</td>\n",
       "    </tr>\n",
       "    <tr>\n",
       "      <th>2018-02-02</th>\n",
       "      <td>0.870</td>\n",
       "      <td>0.9054</td>\n",
       "      <td>0.935786</td>\n",
       "      <td>0.943000</td>\n",
       "    </tr>\n",
       "    <tr>\n",
       "      <th>2018-02-05</th>\n",
       "      <td>0.866</td>\n",
       "      <td>0.8902</td>\n",
       "      <td>0.928214</td>\n",
       "      <td>0.938429</td>\n",
       "    </tr>\n",
       "    <tr>\n",
       "      <th>...</th>\n",
       "      <td>...</td>\n",
       "      <td>...</td>\n",
       "      <td>...</td>\n",
       "      <td>...</td>\n",
       "    </tr>\n",
       "    <tr>\n",
       "      <th>2023-06-12</th>\n",
       "      <td>62.600</td>\n",
       "      <td>65.3400</td>\n",
       "      <td>58.165714</td>\n",
       "      <td>53.526619</td>\n",
       "    </tr>\n",
       "    <tr>\n",
       "      <th>2023-06-13</th>\n",
       "      <td>56.350</td>\n",
       "      <td>63.3400</td>\n",
       "      <td>58.572857</td>\n",
       "      <td>54.230667</td>\n",
       "    </tr>\n",
       "    <tr>\n",
       "      <th>2023-06-14</th>\n",
       "      <td>54.950</td>\n",
       "      <td>61.0700</td>\n",
       "      <td>59.025000</td>\n",
       "      <td>54.900143</td>\n",
       "    </tr>\n",
       "    <tr>\n",
       "      <th>2023-06-15</th>\n",
       "      <td>56.300</td>\n",
       "      <td>59.1500</td>\n",
       "      <td>59.457143</td>\n",
       "      <td>55.514857</td>\n",
       "    </tr>\n",
       "    <tr>\n",
       "      <th>2023-06-16</th>\n",
       "      <td>55.500</td>\n",
       "      <td>57.1400</td>\n",
       "      <td>59.596429</td>\n",
       "      <td>56.027286</td>\n",
       "    </tr>\n",
       "  </tbody>\n",
       "</table>\n",
       "<p>1345 rows × 4 columns</p>\n",
       "</div>"
      ],
      "text/plain": [
       "             Close    short        mid       long\n",
       "Date                                             \n",
       "2018-01-30   0.923   0.9394   0.948143   0.951619\n",
       "2018-01-31   0.903   0.9288   0.942857   0.949952\n",
       "2018-02-01   0.889   0.9182   0.937500   0.946714\n",
       "2018-02-02   0.870   0.9054   0.935786   0.943000\n",
       "2018-02-05   0.866   0.8902   0.928214   0.938429\n",
       "...            ...      ...        ...        ...\n",
       "2023-06-12  62.600  65.3400  58.165714  53.526619\n",
       "2023-06-13  56.350  63.3400  58.572857  54.230667\n",
       "2023-06-14  54.950  61.0700  59.025000  54.900143\n",
       "2023-06-15  56.300  59.1500  59.457143  55.514857\n",
       "2023-06-16  55.500  57.1400  59.596429  56.027286\n",
       "\n",
       "[1345 rows x 4 columns]"
      ]
     },
     "execution_count": 568,
     "metadata": {},
     "output_type": "execute_result"
    }
   ],
   "source": [
    "MAs.dropna(axis=0,inplace=True)\n",
    "MAs"
   ]
  },
  {
   "cell_type": "code",
   "execution_count": 569,
   "metadata": {},
   "outputs": [
    {
     "data": {
      "text/plain": [
       "<matplotlib.legend.Legend at 0x29acf948>"
      ]
     },
     "execution_count": 569,
     "metadata": {},
     "output_type": "execute_result"
    },
    {
     "data": {
      "image/png": "[encoded data removed]",
      "text/plain": [
       "<Figure size 1200x400 with 1 Axes>"
      ]
     },
     "metadata": {},
     "output_type": "display_data"
    }
   ],
   "source": [
    "fig,ax=plt.subplots(figsize=(12,4))\n",
    "ax.plot(close.index,close,label='SASA')\n",
    "ax.plot(rolling_app5.index,rolling_app5,label='5 Günlük Ortalama')\n",
    "ax.plot(rolling_app14.index,rolling_app14,label='15 Günlük Ortalama')\n",
    "ax.plot(rolling_app21.index,rolling_app21,label='20 Günlük Ortalama')\n",
    "ax.legend(loc='upper left')\n"
   ]
  },
  {
   "cell_type": "code",
   "execution_count": 570,
   "metadata": {},
   "outputs": [],
   "source": [
    "def buy_sell(data,perc=50):\n",
    "    buy_sell=[]\n",
    "    buy_signal=[]\n",
    "    sell_signal=[]\n",
    "    flag=42\n",
    "\n",
    "    sm=np.abs(np.percentile(np.array(data[\"short\"]-data[\"mid\"]),perc))\n",
    "    sl=np.abs(np.percentile(np.array(data[\"short\"]-data[\"long\"]),perc))\n",
    "\n",
    "    for i in range(0,len(data)):\n",
    "        if (data[\"short\"][i]>data[\"mid\"][i]+sm) & (data[\"short\"][i]>data[\"long\"][i]+sl):\n",
    "            buy_signal.append(np.nan)\n",
    "            if flag !=1:\n",
    "                sell_signal.append(data[\"Close\"][i])\n",
    "                buy_sell.append(data[\"Close\"][i])\n",
    "                flag=1\n",
    "            else:\n",
    "                sell_signal.append(np.nan)\n",
    "        elif (data[\"short\"][i]<data[\"mid\"][i]-sm)&(data[\"short\"][i]<data[\"long\"][i]-sl):\n",
    "            sell_signal.append(np.nan)\n",
    "            if flag!=0:\n",
    "                buy_signal.append(data[\"Close\"][i])\n",
    "                buy_sell.append(-data[\"Close\"][i])\n",
    "                flag=0\n",
    "            else:\n",
    "                buy_signal.append(np.nan)\n",
    "        else:\n",
    "            buy_sell.append(np.nan)\n",
    "            sell_signal.append(np.nan)\n",
    "            buy_signal.append(np.nan)\n",
    "\n",
    "    operations=np.array(buy_sell)\n",
    "    operations=operations[~np.isnan(operations)]\n",
    "\n",
    "    neg=0\n",
    "    pos=0\n",
    "\n",
    "    for i in range(len(operations)):\n",
    "        if operations[i]<0:\n",
    "            neg=i\n",
    "            break\n",
    "    for i in range(1,len(operations)):\n",
    "        if operations[-i]>0:\n",
    "            pos=i-1\n",
    "            break\n",
    "    operations=operations[neg:-pos]\n",
    "    PL=np.sum(operations)\n",
    "\n",
    "    return (buy_signal,sell_signal,PL)\n"
   ]
  },
  {
   "cell_type": "code",
   "execution_count": 571,
   "metadata": {},
   "outputs": [],
   "source": [
    "m=buy_sell(MAs)\n",
    "MAs[\"Al\"]=m[0]\n",
    "MAs[\"Sat\"]=m[1]"
   ]
  },
  {
   "cell_type": "code",
   "execution_count": 572,
   "metadata": {},
   "outputs": [
    {
     "data": {
      "image/png": "[encoded data removed]",
      "text/plain": [
       "<Figure size 1200x500 with 1 Axes>"
      ]
     },
     "metadata": {},
     "output_type": "display_data"
    }
   ],
   "source": [
    "plt.figure(figsize=(12,5))\n",
    "plt.scatter(MAs.index,MAs[\"Al\"],color=\"green\",label='Al',marker='^',alpha=1)\n",
    "plt.scatter(MAs.index,MAs[\"Sat\"],color=\"red\",label='Sat',marker='v',alpha=1)\n",
    "plt.plot(MAs[\"Close\"],label='Kapanış Fiyatı',alpha=0.5)\n",
    "plt.xlabel(\"Date\")\n",
    "plt.ylabel(\"Close Price\")\n",
    "plt.legend(loc='upper left')\n",
    "plt.show()"
   ]
  },
  {
   "attachments": {},
   "cell_type": "markdown",
   "metadata": {},
   "source": [
    "## Model çok sık sat tavsiyesi verdiği için karlılık açısından 2 sat tavsiyesini pas geçip her 3.sat tavsiyesinde satış yapacağız."
   ]
  },
  {
   "cell_type": "code",
   "execution_count": 573,
   "metadata": {},
   "outputs": [
    {
     "data": {
      "text/plain": [
       "Date\n",
       "2018-02-02     0.870\n",
       "2018-04-12     0.892\n",
       "2018-06-13     0.955\n",
       "2018-08-06     1.093\n",
       "2018-10-05     1.077\n",
       "2018-12-13     0.955\n",
       "2019-03-27     0.867\n",
       "2019-07-17     1.015\n",
       "2019-10-15     0.949\n",
       "2020-03-02     1.421\n",
       "2020-08-10     2.128\n",
       "2020-10-26     2.603\n",
       "2021-04-13     6.818\n",
       "2021-05-17     7.535\n",
       "2021-06-17     6.943\n",
       "2021-08-12     6.239\n",
       "2021-12-24    10.348\n",
       "2022-01-19    10.913\n",
       "2022-02-18    10.374\n",
       "2022-04-28    13.685\n",
       "2022-05-18    13.930\n",
       "2022-06-29    18.000\n",
       "2022-09-19    23.217\n",
       "2022-11-25    56.609\n",
       "2022-12-28    47.348\n",
       "2023-01-27    46.957\n",
       "2023-03-22    46.217\n",
       "2023-04-26    44.957\n",
       "Name: Al, dtype: float64"
      ]
     },
     "execution_count": 573,
     "metadata": {},
     "output_type": "execute_result"
    }
   ],
   "source": [
    "al=MAs[\"Al\"]\n",
    "al=al.dropna(axis=0)\n",
    "al"
   ]
  },
  {
   "cell_type": "code",
   "execution_count": 498,
   "metadata": {},
   "outputs": [],
   "source": [
    "del al[\"2023-06-15\"]"
   ]
  },
  {
   "cell_type": "code",
   "execution_count": 574,
   "metadata": {},
   "outputs": [
    {
     "data": {
      "text/plain": [
       "Date\n",
       "2018-03-15     0.894\n",
       "2018-05-18     1.073\n",
       "2018-07-20     1.180\n",
       "2018-09-07     1.119\n",
       "2018-11-28     1.053\n",
       "2019-01-24     0.989\n",
       "2019-05-29     0.940\n",
       "2019-09-13     0.999\n",
       "2019-10-25     1.060\n",
       "2020-03-31     1.413\n",
       "2020-08-20     2.272\n",
       "2020-11-12     2.707\n",
       "2021-04-27     7.974\n",
       "2021-06-07     7.343\n",
       "2021-07-26     6.452\n",
       "2021-10-11     6.043\n",
       "2021-12-30    11.837\n",
       "2022-02-15    10.391\n",
       "2022-03-07    10.643\n",
       "2022-05-09    14.661\n",
       "2022-05-30    14.861\n",
       "2022-07-25    18.252\n",
       "2022-09-20    25.478\n",
       "2022-12-23    50.783\n",
       "2023-01-16    51.565\n",
       "2023-02-21    49.087\n",
       "2023-04-12    48.870\n",
       "2023-05-22    46.044\n",
       "Name: Sat, dtype: float64"
      ]
     },
     "execution_count": 574,
     "metadata": {},
     "output_type": "execute_result"
    }
   ],
   "source": [
    "sat=MAs[\"Sat\"]\n",
    "sat=sat.dropna(axis=0)\n",
    "sat\n"
   ]
  },
  {
   "cell_type": "code",
   "execution_count": 464,
   "metadata": {},
   "outputs": [],
   "source": [
    "del sat[\"2022-03-09\"]"
   ]
  },
  {
   "cell_type": "code",
   "execution_count": 646,
   "metadata": {},
   "outputs": [],
   "source": [
    "sat_val=sat.values\n",
    "al_val=al.values\n"
   ]
  },
  {
   "cell_type": "code",
   "execution_count": 647,
   "metadata": {},
   "outputs": [],
   "source": [
    "sat_val1=sat_val[2:27:3]"
   ]
  },
  {
   "cell_type": "code",
   "execution_count": 648,
   "metadata": {},
   "outputs": [
    {
     "data": {
      "text/plain": [
       "array([ 0.894,  1.073,  1.18 ,  1.119,  1.053,  0.989,  0.94 ,  0.999,\n",
       "        1.06 ,  1.413,  2.272,  2.707,  7.974,  7.343,  6.452,  6.043,\n",
       "       11.837, 10.391, 10.643, 14.661, 14.861, 18.252, 25.478, 50.783,\n",
       "       51.565, 49.087, 48.87 , 46.044])"
      ]
     },
     "execution_count": 648,
     "metadata": {},
     "output_type": "execute_result"
    }
   ],
   "source": [
    "sat_val"
   ]
  },
  {
   "cell_type": "code",
   "execution_count": 649,
   "metadata": {},
   "outputs": [
    {
     "data": {
      "text/plain": [
       "array([ 0.87 ,  1.093,  0.867,  1.421,  6.818,  6.239, 10.374, 18.   ,\n",
       "       47.348])"
      ]
     },
     "execution_count": 649,
     "metadata": {},
     "output_type": "execute_result"
    }
   ],
   "source": [
    "al_val1=al_val[0:27:3]\n",
    "al_val1"
   ]
  },
  {
   "cell_type": "code",
   "execution_count": 650,
   "metadata": {},
   "outputs": [],
   "source": [
    "res=[]\n",
    "\n",
    "for i in range(9):\n",
    "    res.append((sat_val[i]/al_val1[i]))"
   ]
  },
  {
   "cell_type": "code",
   "execution_count": 651,
   "metadata": {},
   "outputs": [
    {
     "data": {
      "text/html": [
       "<div>\n",
       "<style scoped>\n",
       "    .dataframe tbody tr th:only-of-type {\n",
       "        vertical-align: middle;\n",
       "    }\n",
       "\n",
       "    .dataframe tbody tr th {\n",
       "        vertical-align: top;\n",
       "    }\n",
       "\n",
       "    .dataframe thead th {\n",
       "        text-align: right;\n",
       "    }\n",
       "</style>\n",
       "<table border=\"1\" class=\"dataframe\">\n",
       "  <thead>\n",
       "    <tr style=\"text-align: right;\">\n",
       "      <th></th>\n",
       "      <th>Kar</th>\n",
       "    </tr>\n",
       "  </thead>\n",
       "  <tbody>\n",
       "    <tr>\n",
       "      <th>0</th>\n",
       "      <td>1.027586</td>\n",
       "    </tr>\n",
       "    <tr>\n",
       "      <th>1</th>\n",
       "      <td>0.981702</td>\n",
       "    </tr>\n",
       "    <tr>\n",
       "      <th>2</th>\n",
       "      <td>1.361015</td>\n",
       "    </tr>\n",
       "    <tr>\n",
       "      <th>3</th>\n",
       "      <td>0.787474</td>\n",
       "    </tr>\n",
       "    <tr>\n",
       "      <th>4</th>\n",
       "      <td>0.154444</td>\n",
       "    </tr>\n",
       "    <tr>\n",
       "      <th>5</th>\n",
       "      <td>0.158519</td>\n",
       "    </tr>\n",
       "    <tr>\n",
       "      <th>6</th>\n",
       "      <td>0.090611</td>\n",
       "    </tr>\n",
       "    <tr>\n",
       "      <th>7</th>\n",
       "      <td>0.055500</td>\n",
       "    </tr>\n",
       "    <tr>\n",
       "      <th>8</th>\n",
       "      <td>0.022387</td>\n",
       "    </tr>\n",
       "  </tbody>\n",
       "</table>\n",
       "</div>"
      ],
      "text/plain": [
       "        Kar\n",
       "0  1.027586\n",
       "1  0.981702\n",
       "2  1.361015\n",
       "3  0.787474\n",
       "4  0.154444\n",
       "5  0.158519\n",
       "6  0.090611\n",
       "7  0.055500\n",
       "8  0.022387"
      ]
     },
     "execution_count": 651,
     "metadata": {},
     "output_type": "execute_result"
    }
   ],
   "source": [
    "df=pd.DataFrame()\n",
    "df[\"Kar\"]=res\n",
    "df"
   ]
  },
  {
   "cell_type": "code",
   "execution_count": 636,
   "metadata": {},
   "outputs": [
    {
     "data": {
      "text/html": [
       "<div>\n",
       "<style scoped>\n",
       "    .dataframe tbody tr th:only-of-type {\n",
       "        vertical-align: middle;\n",
       "    }\n",
       "\n",
       "    .dataframe tbody tr th {\n",
       "        vertical-align: top;\n",
       "    }\n",
       "\n",
       "    .dataframe thead th {\n",
       "        text-align: right;\n",
       "    }\n",
       "</style>\n",
       "<table border=\"1\" class=\"dataframe\">\n",
       "  <thead>\n",
       "    <tr style=\"text-align: right;\">\n",
       "      <th></th>\n",
       "      <th>Kar</th>\n",
       "      <th>Eldeki Para</th>\n",
       "    </tr>\n",
       "  </thead>\n",
       "  <tbody>\n",
       "    <tr>\n",
       "      <th>0</th>\n",
       "      <td>1.356322</td>\n",
       "      <td>135.632184</td>\n",
       "    </tr>\n",
       "    <tr>\n",
       "      <th>1</th>\n",
       "      <td>0.904849</td>\n",
       "      <td>90.484904</td>\n",
       "    </tr>\n",
       "    <tr>\n",
       "      <th>2</th>\n",
       "      <td>1.222607</td>\n",
       "      <td>122.260669</td>\n",
       "    </tr>\n",
       "    <tr>\n",
       "      <th>3</th>\n",
       "      <td>1.904996</td>\n",
       "      <td>190.499648</td>\n",
       "    </tr>\n",
       "    <tr>\n",
       "      <th>4</th>\n",
       "      <td>0.946319</td>\n",
       "      <td>94.631857</td>\n",
       "    </tr>\n",
       "    <tr>\n",
       "      <th>5</th>\n",
       "      <td>1.665491</td>\n",
       "      <td>166.549126</td>\n",
       "    </tr>\n",
       "    <tr>\n",
       "      <th>6</th>\n",
       "      <td>1.432524</td>\n",
       "      <td>143.252362</td>\n",
       "    </tr>\n",
       "    <tr>\n",
       "      <th>7</th>\n",
       "      <td>2.821278</td>\n",
       "      <td>282.127778</td>\n",
       "    </tr>\n",
       "    <tr>\n",
       "      <th>8</th>\n",
       "      <td>1.032145</td>\n",
       "      <td>103.214497</td>\n",
       "    </tr>\n",
       "  </tbody>\n",
       "</table>\n",
       "</div>"
      ],
      "text/plain": [
       "        Kar  Eldeki Para\n",
       "0  1.356322   135.632184\n",
       "1  0.904849    90.484904\n",
       "2  1.222607   122.260669\n",
       "3  1.904996   190.499648\n",
       "4  0.946319    94.631857\n",
       "5  1.665491   166.549126\n",
       "6  1.432524   143.252362\n",
       "7  2.821278   282.127778\n",
       "8  1.032145   103.214497"
      ]
     },
     "execution_count": 636,
     "metadata": {},
     "output_type": "execute_result"
    }
   ],
   "source": [
    "df[\"Eldeki Para\"]=df[\"Kar\"]*100\n",
    "df"
   ]
  },
  {
   "cell_type": "code",
   "execution_count": 637,
   "metadata": {},
   "outputs": [],
   "source": [
    "df[\"Son Kar\"]=df[\"Eldeki Para\"]-100"
   ]
  },
  {
   "cell_type": "code",
   "execution_count": 638,
   "metadata": {},
   "outputs": [],
   "source": [
    "df[\"Yatırılan Para\"]=[100,100,100,100,100,100,100,100,100]"
   ]
  },
  {
   "cell_type": "code",
   "execution_count": 639,
   "metadata": {},
   "outputs": [
    {
     "data": {
      "text/plain": [
       "1.4762811384783228"
      ]
     },
     "execution_count": 639,
     "metadata": {},
     "output_type": "execute_result"
    }
   ],
   "source": [
    "karlilik=df[\"Eldeki Para\"].sum()/df[\"Yatırılan Para\"].sum()\n",
    "karlilik"
   ]
  },
  {
   "cell_type": "code",
   "execution_count": 640,
   "metadata": {},
   "outputs": [
    {
     "name": "stdout",
     "output_type": "stream",
     "text": [
      "Karlılık oranı % 47.628113847832275\n"
     ]
    }
   ],
   "source": [
    "karlilik_yuzde=(karlilik-1)*100\n",
    "print(\"Karlılık oranı %\",karlilik_yuzde)"
   ]
  },
  {
   "attachments": {},
   "cell_type": "markdown",
   "metadata": {},
   "source": [
    "## Her sat tavsiyesinde satmayıp 5.sat tavsiyesinde satarsak ne olur?(Yani 4 adet sat tavsiyesini pas geçersek)"
   ]
  },
  {
   "cell_type": "code",
   "execution_count": 652,
   "metadata": {},
   "outputs": [],
   "source": [
    "sat_val2=sat_val[4:27:5]"
   ]
  },
  {
   "cell_type": "code",
   "execution_count": 653,
   "metadata": {},
   "outputs": [
    {
     "data": {
      "text/plain": [
       "array([ 1.053,  1.413,  6.452, 14.661, 51.565])"
      ]
     },
     "execution_count": 653,
     "metadata": {},
     "output_type": "execute_result"
    }
   ],
   "source": [
    "sat_val2"
   ]
  },
  {
   "cell_type": "code",
   "execution_count": 654,
   "metadata": {},
   "outputs": [
    {
     "data": {
      "text/plain": [
       "array([ 0.87 ,  0.955,  2.128,  6.239, 13.93 ])"
      ]
     },
     "execution_count": 654,
     "metadata": {},
     "output_type": "execute_result"
    }
   ],
   "source": [
    "al_val2=al_val[0:24:5]\n",
    "al_val2"
   ]
  },
  {
   "cell_type": "code",
   "execution_count": 656,
   "metadata": {},
   "outputs": [],
   "source": [
    "res1=[]\n",
    "\n",
    "for i in range(5):\n",
    "    res1.append((sat_val2[i]/al_val2[i]))"
   ]
  },
  {
   "cell_type": "code",
   "execution_count": 657,
   "metadata": {},
   "outputs": [
    {
     "data": {
      "text/html": [
       "<div>\n",
       "<style scoped>\n",
       "    .dataframe tbody tr th:only-of-type {\n",
       "        vertical-align: middle;\n",
       "    }\n",
       "\n",
       "    .dataframe tbody tr th {\n",
       "        vertical-align: top;\n",
       "    }\n",
       "\n",
       "    .dataframe thead th {\n",
       "        text-align: right;\n",
       "    }\n",
       "</style>\n",
       "<table border=\"1\" class=\"dataframe\">\n",
       "  <thead>\n",
       "    <tr style=\"text-align: right;\">\n",
       "      <th></th>\n",
       "      <th>Kar</th>\n",
       "    </tr>\n",
       "  </thead>\n",
       "  <tbody>\n",
       "    <tr>\n",
       "      <th>0</th>\n",
       "      <td>1.210345</td>\n",
       "    </tr>\n",
       "    <tr>\n",
       "      <th>1</th>\n",
       "      <td>1.479581</td>\n",
       "    </tr>\n",
       "    <tr>\n",
       "      <th>2</th>\n",
       "      <td>3.031955</td>\n",
       "    </tr>\n",
       "    <tr>\n",
       "      <th>3</th>\n",
       "      <td>2.349896</td>\n",
       "    </tr>\n",
       "    <tr>\n",
       "      <th>4</th>\n",
       "      <td>3.701723</td>\n",
       "    </tr>\n",
       "  </tbody>\n",
       "</table>\n",
       "</div>"
      ],
      "text/plain": [
       "        Kar\n",
       "0  1.210345\n",
       "1  1.479581\n",
       "2  3.031955\n",
       "3  2.349896\n",
       "4  3.701723"
      ]
     },
     "execution_count": 657,
     "metadata": {},
     "output_type": "execute_result"
    }
   ],
   "source": [
    "df1=pd.DataFrame()\n",
    "df1[\"Kar\"]=res1\n",
    "df1"
   ]
  },
  {
   "cell_type": "code",
   "execution_count": 658,
   "metadata": {},
   "outputs": [
    {
     "data": {
      "text/html": [
       "<div>\n",
       "<style scoped>\n",
       "    .dataframe tbody tr th:only-of-type {\n",
       "        vertical-align: middle;\n",
       "    }\n",
       "\n",
       "    .dataframe tbody tr th {\n",
       "        vertical-align: top;\n",
       "    }\n",
       "\n",
       "    .dataframe thead th {\n",
       "        text-align: right;\n",
       "    }\n",
       "</style>\n",
       "<table border=\"1\" class=\"dataframe\">\n",
       "  <thead>\n",
       "    <tr style=\"text-align: right;\">\n",
       "      <th></th>\n",
       "      <th>Kar</th>\n",
       "      <th>Eldeki Para</th>\n",
       "    </tr>\n",
       "  </thead>\n",
       "  <tbody>\n",
       "    <tr>\n",
       "      <th>0</th>\n",
       "      <td>1.210345</td>\n",
       "      <td>121.034483</td>\n",
       "    </tr>\n",
       "    <tr>\n",
       "      <th>1</th>\n",
       "      <td>1.479581</td>\n",
       "      <td>147.958115</td>\n",
       "    </tr>\n",
       "    <tr>\n",
       "      <th>2</th>\n",
       "      <td>3.031955</td>\n",
       "      <td>303.195489</td>\n",
       "    </tr>\n",
       "    <tr>\n",
       "      <th>3</th>\n",
       "      <td>2.349896</td>\n",
       "      <td>234.989582</td>\n",
       "    </tr>\n",
       "    <tr>\n",
       "      <th>4</th>\n",
       "      <td>3.701723</td>\n",
       "      <td>370.172290</td>\n",
       "    </tr>\n",
       "  </tbody>\n",
       "</table>\n",
       "</div>"
      ],
      "text/plain": [
       "        Kar  Eldeki Para\n",
       "0  1.210345   121.034483\n",
       "1  1.479581   147.958115\n",
       "2  3.031955   303.195489\n",
       "3  2.349896   234.989582\n",
       "4  3.701723   370.172290"
      ]
     },
     "execution_count": 658,
     "metadata": {},
     "output_type": "execute_result"
    }
   ],
   "source": [
    "df1[\"Eldeki Para\"]=df1[\"Kar\"]*100\n",
    "df1 "
   ]
  },
  {
   "cell_type": "code",
   "execution_count": 659,
   "metadata": {},
   "outputs": [],
   "source": [
    "df1[\"Son Kar\"]=df1[\"Eldeki Para\"]-100"
   ]
  },
  {
   "cell_type": "code",
   "execution_count": 660,
   "metadata": {},
   "outputs": [],
   "source": [
    "df1[\"Yatırılan Para\"]=[100,100,100,100,100]"
   ]
  },
  {
   "cell_type": "code",
   "execution_count": 661,
   "metadata": {},
   "outputs": [
    {
     "data": {
      "text/html": [
       "<div>\n",
       "<style scoped>\n",
       "    .dataframe tbody tr th:only-of-type {\n",
       "        vertical-align: middle;\n",
       "    }\n",
       "\n",
       "    .dataframe tbody tr th {\n",
       "        vertical-align: top;\n",
       "    }\n",
       "\n",
       "    .dataframe thead th {\n",
       "        text-align: right;\n",
       "    }\n",
       "</style>\n",
       "<table border=\"1\" class=\"dataframe\">\n",
       "  <thead>\n",
       "    <tr style=\"text-align: right;\">\n",
       "      <th></th>\n",
       "      <th>Kar</th>\n",
       "      <th>Eldeki Para</th>\n",
       "      <th>Son Kar</th>\n",
       "      <th>Yatırılan Para</th>\n",
       "    </tr>\n",
       "  </thead>\n",
       "  <tbody>\n",
       "    <tr>\n",
       "      <th>0</th>\n",
       "      <td>1.210345</td>\n",
       "      <td>121.034483</td>\n",
       "      <td>21.034483</td>\n",
       "      <td>100</td>\n",
       "    </tr>\n",
       "    <tr>\n",
       "      <th>1</th>\n",
       "      <td>1.479581</td>\n",
       "      <td>147.958115</td>\n",
       "      <td>47.958115</td>\n",
       "      <td>100</td>\n",
       "    </tr>\n",
       "    <tr>\n",
       "      <th>2</th>\n",
       "      <td>3.031955</td>\n",
       "      <td>303.195489</td>\n",
       "      <td>203.195489</td>\n",
       "      <td>100</td>\n",
       "    </tr>\n",
       "    <tr>\n",
       "      <th>3</th>\n",
       "      <td>2.349896</td>\n",
       "      <td>234.989582</td>\n",
       "      <td>134.989582</td>\n",
       "      <td>100</td>\n",
       "    </tr>\n",
       "    <tr>\n",
       "      <th>4</th>\n",
       "      <td>3.701723</td>\n",
       "      <td>370.172290</td>\n",
       "      <td>270.172290</td>\n",
       "      <td>100</td>\n",
       "    </tr>\n",
       "  </tbody>\n",
       "</table>\n",
       "</div>"
      ],
      "text/plain": [
       "        Kar  Eldeki Para     Son Kar  Yatırılan Para\n",
       "0  1.210345   121.034483   21.034483             100\n",
       "1  1.479581   147.958115   47.958115             100\n",
       "2  3.031955   303.195489  203.195489             100\n",
       "3  2.349896   234.989582  134.989582             100\n",
       "4  3.701723   370.172290  270.172290             100"
      ]
     },
     "execution_count": 661,
     "metadata": {},
     "output_type": "execute_result"
    }
   ],
   "source": [
    "df1"
   ]
  },
  {
   "attachments": {},
   "cell_type": "markdown",
   "metadata": {},
   "source": [
    "İlk aşamada 100 TL yatırıp 121 TL kazanırız,toplamda 500 TL yatırıp 1177 TL kazanmış oluruz."
   ]
  },
  {
   "cell_type": "code",
   "execution_count": 662,
   "metadata": {},
   "outputs": [
    {
     "data": {
      "text/plain": [
       "2.354699916697871"
      ]
     },
     "execution_count": 662,
     "metadata": {},
     "output_type": "execute_result"
    }
   ],
   "source": [
    "karlilik=df1[\"Eldeki Para\"].sum()/df1[\"Yatırılan Para\"].sum()\n",
    "karlilik"
   ]
  },
  {
   "cell_type": "code",
   "execution_count": 663,
   "metadata": {},
   "outputs": [
    {
     "name": "stdout",
     "output_type": "stream",
     "text": [
      "Karlılık oranı % 135.4699916697871\n"
     ]
    }
   ],
   "source": [
    "karlilik_yuzde=(karlilik-1)*100\n",
    "print(\"Karlılık oranı %\",karlilik_yuzde)"
   ]
  }
 ],
 "metadata": {
  "kernelspec": {
   "display_name": "Python 3",
   "language": "python",
   "name": "python3"
  },
  "language_info": {
   "codemirror_mode": {
    "name": "ipython",
    "version": 3
   },
   "file_extension": ".py",
   "mimetype": "text/x-python",
   "name": "python",
   "nbconvert_exporter": "python",
   "pygments_lexer": "ipython3",
   "version": "3.7.6"
  },
  "orig_nbformat": 4,
  "vscode": {
   "interpreter": {
    "hash": "f4b4c62aaa4875226db85e6b013b122e2774d7746e898ecdc06b2fc04bd17fe2"
   }
  }
 },
 "nbformat": 4,
 "nbformat_minor": 2
}
