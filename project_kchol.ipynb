{
 "cells": [
  {
   "cell_type": "markdown",
   "metadata": {},
   "source": []
  },
  {
   "cell_type": "code",
   "execution_count": 39,
   "metadata": {},
   "outputs": [],
   "source": [
    "import numpy as np\n",
    "import pandas as pd\n",
    "import matplotlib.pyplot as plt\n",
    "import plotly.graph_objects as go\n",
    "from time import sleep\n",
    "import socket,time,requests\n",
    "from bs4 import BeautifulSoup\n",
    "import tkinter as tk\n",
    "\n",
    "import yfinance as yf\n",
    "import datetime\n",
    "\n",
    "\n"
   ]
  },
  {
   "cell_type": "code",
   "execution_count": 40,
   "metadata": {},
   "outputs": [
    {
     "name": "stdout",
     "output_type": "stream",
     "text": [
      "[*********************100%***********************]  1 of 1 completed\n"
     ]
    }
   ],
   "source": [
    "ticker='KCHOL.IS'\n",
    "start=\"2021-01-01\"\n",
    "end=str(datetime.date.today() +datetime.timedelta(days=1))\n",
    "kchol=yf.download(ticker,start,end)\n"
   ]
  },
  {
   "cell_type": "code",
   "execution_count": 41,
   "metadata": {},
   "outputs": [
    {
     "data": {
      "text/html": [
       "<div>\n",
       "<style scoped>\n",
       "    .dataframe tbody tr th:only-of-type {\n",
       "        vertical-align: middle;\n",
       "    }\n",
       "\n",
       "    .dataframe tbody tr th {\n",
       "        vertical-align: top;\n",
       "    }\n",
       "\n",
       "    .dataframe thead th {\n",
       "        text-align: right;\n",
       "    }\n",
       "</style>\n",
       "<table border=\"1\" class=\"dataframe\">\n",
       "  <thead>\n",
       "    <tr style=\"text-align: right;\">\n",
       "      <th></th>\n",
       "      <th>Open</th>\n",
       "      <th>High</th>\n",
       "      <th>Low</th>\n",
       "      <th>Close</th>\n",
       "      <th>Adj Close</th>\n",
       "      <th>Volume</th>\n",
       "    </tr>\n",
       "    <tr>\n",
       "      <th>Date</th>\n",
       "      <th></th>\n",
       "      <th></th>\n",
       "      <th></th>\n",
       "      <th></th>\n",
       "      <th></th>\n",
       "      <th></th>\n",
       "    </tr>\n",
       "  </thead>\n",
       "  <tbody>\n",
       "    <tr>\n",
       "      <th>2021-01-04</th>\n",
       "      <td>21.120001</td>\n",
       "      <td>21.500000</td>\n",
       "      <td>21.040001</td>\n",
       "      <td>21.219999</td>\n",
       "      <td>19.642229</td>\n",
       "      <td>10353058</td>\n",
       "    </tr>\n",
       "    <tr>\n",
       "      <th>2021-01-05</th>\n",
       "      <td>21.000000</td>\n",
       "      <td>21.600000</td>\n",
       "      <td>20.860001</td>\n",
       "      <td>21.000000</td>\n",
       "      <td>19.438585</td>\n",
       "      <td>15345270</td>\n",
       "    </tr>\n",
       "    <tr>\n",
       "      <th>2021-01-06</th>\n",
       "      <td>21.240000</td>\n",
       "      <td>21.340000</td>\n",
       "      <td>20.860001</td>\n",
       "      <td>20.980000</td>\n",
       "      <td>19.420074</td>\n",
       "      <td>11481406</td>\n",
       "    </tr>\n",
       "    <tr>\n",
       "      <th>2021-01-07</th>\n",
       "      <td>21.200001</td>\n",
       "      <td>21.260000</td>\n",
       "      <td>20.879999</td>\n",
       "      <td>21.180000</td>\n",
       "      <td>19.605202</td>\n",
       "      <td>7609127</td>\n",
       "    </tr>\n",
       "    <tr>\n",
       "      <th>2021-01-08</th>\n",
       "      <td>21.219999</td>\n",
       "      <td>21.520000</td>\n",
       "      <td>21.120001</td>\n",
       "      <td>21.480000</td>\n",
       "      <td>19.882896</td>\n",
       "      <td>9849174</td>\n",
       "    </tr>\n",
       "    <tr>\n",
       "      <th>...</th>\n",
       "      <td>...</td>\n",
       "      <td>...</td>\n",
       "      <td>...</td>\n",
       "      <td>...</td>\n",
       "      <td>...</td>\n",
       "      <td>...</td>\n",
       "    </tr>\n",
       "    <tr>\n",
       "      <th>2023-06-14</th>\n",
       "      <td>99.949997</td>\n",
       "      <td>103.599998</td>\n",
       "      <td>98.300003</td>\n",
       "      <td>99.300003</td>\n",
       "      <td>99.300003</td>\n",
       "      <td>32298664</td>\n",
       "    </tr>\n",
       "    <tr>\n",
       "      <th>2023-06-15</th>\n",
       "      <td>99.800003</td>\n",
       "      <td>101.099998</td>\n",
       "      <td>98.849998</td>\n",
       "      <td>101.000000</td>\n",
       "      <td>101.000000</td>\n",
       "      <td>25989506</td>\n",
       "    </tr>\n",
       "    <tr>\n",
       "      <th>2023-06-16</th>\n",
       "      <td>101.300003</td>\n",
       "      <td>102.099998</td>\n",
       "      <td>99.400002</td>\n",
       "      <td>99.400002</td>\n",
       "      <td>99.400002</td>\n",
       "      <td>22481317</td>\n",
       "    </tr>\n",
       "    <tr>\n",
       "      <th>2023-06-19</th>\n",
       "      <td>99.500000</td>\n",
       "      <td>99.550003</td>\n",
       "      <td>95.050003</td>\n",
       "      <td>95.050003</td>\n",
       "      <td>95.050003</td>\n",
       "      <td>19476984</td>\n",
       "    </tr>\n",
       "    <tr>\n",
       "      <th>2023-06-20</th>\n",
       "      <td>95.050003</td>\n",
       "      <td>96.150002</td>\n",
       "      <td>93.949997</td>\n",
       "      <td>96.000000</td>\n",
       "      <td>96.000000</td>\n",
       "      <td>17517041</td>\n",
       "    </tr>\n",
       "  </tbody>\n",
       "</table>\n",
       "<p>615 rows × 6 columns</p>\n",
       "</div>"
      ],
      "text/plain": [
       "                  Open        High        Low       Close   Adj Close  \\\n",
       "Date                                                                    \n",
       "2021-01-04   21.120001   21.500000  21.040001   21.219999   19.642229   \n",
       "2021-01-05   21.000000   21.600000  20.860001   21.000000   19.438585   \n",
       "2021-01-06   21.240000   21.340000  20.860001   20.980000   19.420074   \n",
       "2021-01-07   21.200001   21.260000  20.879999   21.180000   19.605202   \n",
       "2021-01-08   21.219999   21.520000  21.120001   21.480000   19.882896   \n",
       "...                ...         ...        ...         ...         ...   \n",
       "2023-06-14   99.949997  103.599998  98.300003   99.300003   99.300003   \n",
       "2023-06-15   99.800003  101.099998  98.849998  101.000000  101.000000   \n",
       "2023-06-16  101.300003  102.099998  99.400002   99.400002   99.400002   \n",
       "2023-06-19   99.500000   99.550003  95.050003   95.050003   95.050003   \n",
       "2023-06-20   95.050003   96.150002  93.949997   96.000000   96.000000   \n",
       "\n",
       "              Volume  \n",
       "Date                  \n",
       "2021-01-04  10353058  \n",
       "2021-01-05  15345270  \n",
       "2021-01-06  11481406  \n",
       "2021-01-07   7609127  \n",
       "2021-01-08   9849174  \n",
       "...              ...  \n",
       "2023-06-14  32298664  \n",
       "2023-06-15  25989506  \n",
       "2023-06-16  22481317  \n",
       "2023-06-19  19476984  \n",
       "2023-06-20  17517041  \n",
       "\n",
       "[615 rows x 6 columns]"
      ]
     },
     "execution_count": 41,
     "metadata": {},
     "output_type": "execute_result"
    }
   ],
   "source": [
    "kchol.index=pd.to_datetime(kchol.index)\n",
    "kchol"
   ]
  },
  {
   "cell_type": "code",
   "execution_count": 42,
   "metadata": {},
   "outputs": [
    {
     "data": {
      "text/html": [
       "<div>\n",
       "<style scoped>\n",
       "    .dataframe tbody tr th:only-of-type {\n",
       "        vertical-align: middle;\n",
       "    }\n",
       "\n",
       "    .dataframe tbody tr th {\n",
       "        vertical-align: top;\n",
       "    }\n",
       "\n",
       "    .dataframe thead th {\n",
       "        text-align: right;\n",
       "    }\n",
       "</style>\n",
       "<table border=\"1\" class=\"dataframe\">\n",
       "  <thead>\n",
       "    <tr style=\"text-align: right;\">\n",
       "      <th></th>\n",
       "      <th>Close</th>\n",
       "    </tr>\n",
       "    <tr>\n",
       "      <th>Date</th>\n",
       "      <th></th>\n",
       "    </tr>\n",
       "  </thead>\n",
       "  <tbody>\n",
       "    <tr>\n",
       "      <th>2021-01-04</th>\n",
       "      <td>21.219999</td>\n",
       "    </tr>\n",
       "    <tr>\n",
       "      <th>2021-01-05</th>\n",
       "      <td>21.000000</td>\n",
       "    </tr>\n",
       "    <tr>\n",
       "      <th>2021-01-06</th>\n",
       "      <td>20.980000</td>\n",
       "    </tr>\n",
       "    <tr>\n",
       "      <th>2021-01-07</th>\n",
       "      <td>21.180000</td>\n",
       "    </tr>\n",
       "    <tr>\n",
       "      <th>2021-01-08</th>\n",
       "      <td>21.480000</td>\n",
       "    </tr>\n",
       "    <tr>\n",
       "      <th>...</th>\n",
       "      <td>...</td>\n",
       "    </tr>\n",
       "    <tr>\n",
       "      <th>2023-06-14</th>\n",
       "      <td>99.300003</td>\n",
       "    </tr>\n",
       "    <tr>\n",
       "      <th>2023-06-15</th>\n",
       "      <td>101.000000</td>\n",
       "    </tr>\n",
       "    <tr>\n",
       "      <th>2023-06-16</th>\n",
       "      <td>99.400002</td>\n",
       "    </tr>\n",
       "    <tr>\n",
       "      <th>2023-06-19</th>\n",
       "      <td>95.050003</td>\n",
       "    </tr>\n",
       "    <tr>\n",
       "      <th>2023-06-20</th>\n",
       "      <td>96.000000</td>\n",
       "    </tr>\n",
       "  </tbody>\n",
       "</table>\n",
       "<p>615 rows × 1 columns</p>\n",
       "</div>"
      ],
      "text/plain": [
       "                 Close\n",
       "Date                  \n",
       "2021-01-04   21.219999\n",
       "2021-01-05   21.000000\n",
       "2021-01-06   20.980000\n",
       "2021-01-07   21.180000\n",
       "2021-01-08   21.480000\n",
       "...                ...\n",
       "2023-06-14   99.300003\n",
       "2023-06-15  101.000000\n",
       "2023-06-16   99.400002\n",
       "2023-06-19   95.050003\n",
       "2023-06-20   96.000000\n",
       "\n",
       "[615 rows x 1 columns]"
      ]
     },
     "execution_count": 42,
     "metadata": {},
     "output_type": "execute_result"
    }
   ],
   "source": [
    "close=pd.DataFrame(kchol[\"Close\"])\n",
    "\n",
    "close\n"
   ]
  },
  {
   "cell_type": "code",
   "execution_count": 43,
   "metadata": {},
   "outputs": [],
   "source": [
    "rolling_app5=close.rolling(window=5).mean()\n",
    "rolling_app14=close.rolling(window=14).mean()\n",
    "rolling_app21=close.rolling(window=21).mean()\n",
    "\n"
   ]
  },
  {
   "cell_type": "code",
   "execution_count": 44,
   "metadata": {},
   "outputs": [],
   "source": [
    "MAs=pd.concat([close,rolling_app5,rolling_app14,rolling_app21],axis=1)\n",
    "MAs.columns=[\"Close\",\"short\",\"mid\",\"long\"]\n"
   ]
  },
  {
   "cell_type": "code",
   "execution_count": 46,
   "metadata": {},
   "outputs": [
    {
     "data": {
      "text/html": [
       "<div>\n",
       "<style scoped>\n",
       "    .dataframe tbody tr th:only-of-type {\n",
       "        vertical-align: middle;\n",
       "    }\n",
       "\n",
       "    .dataframe tbody tr th {\n",
       "        vertical-align: top;\n",
       "    }\n",
       "\n",
       "    .dataframe thead th {\n",
       "        text-align: right;\n",
       "    }\n",
       "</style>\n",
       "<table border=\"1\" class=\"dataframe\">\n",
       "  <thead>\n",
       "    <tr style=\"text-align: right;\">\n",
       "      <th></th>\n",
       "      <th>Close</th>\n",
       "      <th>short</th>\n",
       "      <th>mid</th>\n",
       "      <th>long</th>\n",
       "    </tr>\n",
       "    <tr>\n",
       "      <th>Date</th>\n",
       "      <th></th>\n",
       "      <th></th>\n",
       "      <th></th>\n",
       "      <th></th>\n",
       "    </tr>\n",
       "  </thead>\n",
       "  <tbody>\n",
       "    <tr>\n",
       "      <th>2021-02-01</th>\n",
       "      <td>20.440001</td>\n",
       "      <td>20.644000</td>\n",
       "      <td>21.535715</td>\n",
       "      <td>21.493334</td>\n",
       "    </tr>\n",
       "    <tr>\n",
       "      <th>2021-02-02</th>\n",
       "      <td>20.600000</td>\n",
       "      <td>20.468000</td>\n",
       "      <td>21.432858</td>\n",
       "      <td>21.463810</td>\n",
       "    </tr>\n",
       "    <tr>\n",
       "      <th>2021-02-03</th>\n",
       "      <td>21.440001</td>\n",
       "      <td>20.672001</td>\n",
       "      <td>21.384286</td>\n",
       "      <td>21.484762</td>\n",
       "    </tr>\n",
       "    <tr>\n",
       "      <th>2021-02-04</th>\n",
       "      <td>21.559999</td>\n",
       "      <td>20.848000</td>\n",
       "      <td>21.387143</td>\n",
       "      <td>21.512381</td>\n",
       "    </tr>\n",
       "    <tr>\n",
       "      <th>2021-02-05</th>\n",
       "      <td>21.260000</td>\n",
       "      <td>21.060000</td>\n",
       "      <td>21.331429</td>\n",
       "      <td>21.516191</td>\n",
       "    </tr>\n",
       "    <tr>\n",
       "      <th>...</th>\n",
       "      <td>...</td>\n",
       "      <td>...</td>\n",
       "      <td>...</td>\n",
       "      <td>...</td>\n",
       "    </tr>\n",
       "    <tr>\n",
       "      <th>2023-06-14</th>\n",
       "      <td>99.300003</td>\n",
       "      <td>100.820000</td>\n",
       "      <td>88.700001</td>\n",
       "      <td>85.285715</td>\n",
       "    </tr>\n",
       "    <tr>\n",
       "      <th>2023-06-15</th>\n",
       "      <td>101.000000</td>\n",
       "      <td>101.020000</td>\n",
       "      <td>90.696429</td>\n",
       "      <td>85.942858</td>\n",
       "    </tr>\n",
       "    <tr>\n",
       "      <th>2023-06-16</th>\n",
       "      <td>99.400002</td>\n",
       "      <td>100.860001</td>\n",
       "      <td>92.439286</td>\n",
       "      <td>86.871429</td>\n",
       "    </tr>\n",
       "    <tr>\n",
       "      <th>2023-06-19</th>\n",
       "      <td>95.050003</td>\n",
       "      <td>99.150002</td>\n",
       "      <td>93.785715</td>\n",
       "      <td>87.535715</td>\n",
       "    </tr>\n",
       "    <tr>\n",
       "      <th>2023-06-20</th>\n",
       "      <td>96.000000</td>\n",
       "      <td>98.150002</td>\n",
       "      <td>94.846430</td>\n",
       "      <td>88.392858</td>\n",
       "    </tr>\n",
       "  </tbody>\n",
       "</table>\n",
       "<p>595 rows × 4 columns</p>\n",
       "</div>"
      ],
      "text/plain": [
       "                 Close       short        mid       long\n",
       "Date                                                    \n",
       "2021-02-01   20.440001   20.644000  21.535715  21.493334\n",
       "2021-02-02   20.600000   20.468000  21.432858  21.463810\n",
       "2021-02-03   21.440001   20.672001  21.384286  21.484762\n",
       "2021-02-04   21.559999   20.848000  21.387143  21.512381\n",
       "2021-02-05   21.260000   21.060000  21.331429  21.516191\n",
       "...                ...         ...        ...        ...\n",
       "2023-06-14   99.300003  100.820000  88.700001  85.285715\n",
       "2023-06-15  101.000000  101.020000  90.696429  85.942858\n",
       "2023-06-16   99.400002  100.860001  92.439286  86.871429\n",
       "2023-06-19   95.050003   99.150002  93.785715  87.535715\n",
       "2023-06-20   96.000000   98.150002  94.846430  88.392858\n",
       "\n",
       "[595 rows x 4 columns]"
      ]
     },
     "execution_count": 46,
     "metadata": {},
     "output_type": "execute_result"
    }
   ],
   "source": [
    "MAs.dropna(axis=0,inplace=True)\n",
    "MAs"
   ]
  },
  {
   "cell_type": "code",
   "execution_count": 47,
   "metadata": {},
   "outputs": [
    {
     "data": {
      "text/plain": [
       "<matplotlib.legend.Legend at 0x22f5be48>"
      ]
     },
     "execution_count": 47,
     "metadata": {},
     "output_type": "execute_result"
    },
    {
     "data": {
      "image/png": "[encoded data removed]",
      "text/plain": [
       "<Figure size 1200x400 with 1 Axes>"
      ]
     },
     "metadata": {},
     "output_type": "display_data"
    }
   ],
   "source": [
    "fig,ax=plt.subplots(figsize=(12,4))\n",
    "ax.plot(close.index,close,label='kchol')\n",
    "ax.plot(rolling_app5.index,rolling_app5,label='5 Günlük Ortalama')\n",
    "ax.plot(rolling_app14.index,rolling_app14,label='14 Günlük Ortalama')\n",
    "ax.plot(rolling_app21.index,rolling_app21,label='21 Günlük Ortalama')\n",
    "ax.legend(loc='upper left')\n"
   ]
  },
  {
   "cell_type": "code",
   "execution_count": 48,
   "metadata": {},
   "outputs": [],
   "source": [
    "def buy_sell_MA(data,opt=50):\n",
    "    buy_sell=[]\n",
    "    buy_signal=[]\n",
    "    sell_signal=[]\n",
    "    flag=42\n",
    "\n",
    "    up=data[(np.array(data[\"short\"]-data[\"mid\"])>0) & (np.array(data[\"short\"]-data[\"long\"])>0)]\n",
    "    down=data[(np.array(data[\"short\"]-data[\"mid\"])<0) & (np.array(data[\"short\"]-data[\"long\"])<0)]\n",
    "    ups=np.percentile(np.array(up[\"short\"]-up[\"mid\"]),opt)\n",
    "    downs=np.percentile(np.array(down[\"short\"]-down[\"long\"]),opt)\n",
    "\n",
    "\n",
    "    for i in range(0,len(data)):\n",
    "       if (data[\"short\"][i]>data[\"mid\"][i]+ups) & (data[\"short\"][i]>data[\"long\"][i]+ups):\n",
    "            buy_signal.append(np.nan)\n",
    "            if flag !=1:\n",
    "                sell_signal.append(data[\"Close\"][i])\n",
    "                buy_sell.append(data[\"Close\"][i])\n",
    "                flag=1\n",
    "            else:\n",
    "                sell_signal.append(np.nan)\n",
    "       elif(data[\"short\"][i]<data[\"mid\"][i]+downs)&(data[\"short\"][i]<data[\"long\"][i]+downs):\n",
    "            sell_signal.append(np.nan)\n",
    "            if flag!=0:\n",
    "                buy_signal.append(data[\"Close\"][i])\n",
    "                buy_sell.append(-data[\"Close\"][i])\n",
    "                flag=0\n",
    "            else:\n",
    "                buy_signal.append(np.nan)\n",
    "       else:\n",
    "            buy_sell.append(np.nan)\n",
    "            sell_signal.append(np.nan)\n",
    "            buy_signal.append(np.nan)\n",
    "\n",
    "    operations=np.array(buy_sell)\n",
    "    operations=operations[~np.isnan(operations)]\n",
    "\n",
    "    neg=0\n",
    "    pos=0\n",
    "\n",
    "    for i in range(len(operations)):\n",
    "        if operations[i]<0:\n",
    "            neg=i\n",
    "            break\n",
    "    for i in range(1,len(operations)):\n",
    "        if operations[-i]>0:\n",
    "            pos=i-1\n",
    "            break\n",
    "    \n",
    "    PL=np.sum(operations)\n",
    "    \n",
    "\n",
    "    \n",
    "    \n",
    "    return (buy_signal,sell_signal,PL)\n",
    "\n",
    "\n",
    "\n"
   ]
  },
  {
   "cell_type": "code",
   "execution_count": 49,
   "metadata": {},
   "outputs": [],
   "source": [
    "MAs[\"Buy\"]=buy_sell_MA(MAs)[0]\n",
    "MAs[\"Sell\"]=buy_sell_MA(MAs)[1]"
   ]
  },
  {
   "cell_type": "code",
   "execution_count": 50,
   "metadata": {},
   "outputs": [
    {
     "data": {
      "image/png": "[encoded data removed]",
      "text/plain": [
       "<Figure size 1200x500 with 1 Axes>"
      ]
     },
     "metadata": {},
     "output_type": "display_data"
    }
   ],
   "source": [
    "plt.figure(figsize=(12,5))\n",
    "plt.scatter(MAs.index,MAs[\"Buy\"],color=\"green\",label='Al',marker='^',alpha=1)\n",
    "plt.scatter(MAs.index,MAs[\"Sell\"],color=\"red\",label='Sat',marker='v',alpha=1)\n",
    "plt.plot(MAs[\"Close\"],label='Kapanış Fiyatı',alpha=0.5)\n",
    "plt.xlabel(\"Date\")\n",
    "plt.ylabel(\"Close Price\")\n",
    "plt.legend(loc='upper left')\n",
    "plt.show()"
   ]
  },
  {
   "attachments": {},
   "cell_type": "markdown",
   "metadata": {},
   "source": [
    "## Optimizing percentile variable to find best performance"
   ]
  },
  {
   "cell_type": "code",
   "execution_count": 51,
   "metadata": {},
   "outputs": [],
   "source": [
    "def kar(percentile):\n",
    "    MAs[\"Buy\"]=buy_sell_MA(MAs,percentile)[0]\n",
    "    MAs[\"Sell\"]=buy_sell_MA(MAs,percentile)[1]\n",
    "    al=MAs[\"Buy\"]\n",
    "    al=al.dropna(axis=0)\n",
    "    sat=MAs[\"Sell\"]\n",
    "    sat=sat.dropna(axis=0)\n",
    "    sat_val=sat.values\n",
    "    al_val=al.values\n",
    "    res=[]\n",
    "    if len(al_val)==len(sat_val):\n",
    "        for i in range(len(al_val)):\n",
    "           res.append(sat_val[i]/al_val[i])\n",
    "    elif len(al_val)>len(sat_val):\n",
    "        al_val=np.delete(al_val,-1)\n",
    "        for j in range(len(sat_val)):\n",
    "           res.append(sat_val[j]/al_val[j])\n",
    "    elif (len(sat_val)>len(al_val)):\n",
    "        sat_val=np.delete(sat_val,0)\n",
    "        for k in range(len(al_val)):\n",
    "            res.append(sat_val[k]/al_val[k])\n",
    "    \n",
    "        \n",
    "\n",
    "    \n",
    "       \n",
    "\n",
    "    \n",
    "\n",
    "    df=pd.DataFrame()\n",
    "    df[\"Kar\"]=res\n",
    "\n",
    "    return np.prod(df[\"Kar\"])"
   ]
  },
  {
   "cell_type": "code",
   "execution_count": 52,
   "metadata": {},
   "outputs": [],
   "source": [
    "MAs[\"Buy\"]=buy_sell_MA(MAs,50)[0]\n",
    "MAs[\"Sell\"]=buy_sell_MA(MAs,50)[1]\n",
    "al=MAs[\"Buy\"]\n",
    "al=al.dropna(axis=0)\n",
    "sat=MAs[\"Sell\"]\n",
    "sat=sat.dropna(axis=0)\n",
    "sat_val=sat.values\n",
    "al_val=al.values"
   ]
  },
  {
   "cell_type": "code",
   "execution_count": 53,
   "metadata": {},
   "outputs": [],
   "source": [
    "percentile=range(1,100)\n",
    "\n"
   ]
  },
  {
   "cell_type": "code",
   "execution_count": 54,
   "metadata": {},
   "outputs": [],
   "source": [
    "kardf=pd.DataFrame()\n",
    "kardf[\"Percentile\"]=percentile"
   ]
  },
  {
   "cell_type": "code",
   "execution_count": 55,
   "metadata": {},
   "outputs": [],
   "source": [
    "\n",
    "for i in range(len(percentile)):\n",
    "  kardf.loc[i,1]=kar(percentile[i])"
   ]
  },
  {
   "cell_type": "code",
   "execution_count": 56,
   "metadata": {},
   "outputs": [
    {
     "data": {
      "text/html": [
       "<div>\n",
       "<style scoped>\n",
       "    .dataframe tbody tr th:only-of-type {\n",
       "        vertical-align: middle;\n",
       "    }\n",
       "\n",
       "    .dataframe tbody tr th {\n",
       "        vertical-align: top;\n",
       "    }\n",
       "\n",
       "    .dataframe thead th {\n",
       "        text-align: right;\n",
       "    }\n",
       "</style>\n",
       "<table border=\"1\" class=\"dataframe\">\n",
       "  <thead>\n",
       "    <tr style=\"text-align: right;\">\n",
       "      <th></th>\n",
       "      <th>Percentile</th>\n",
       "      <th>Performance</th>\n",
       "    </tr>\n",
       "  </thead>\n",
       "  <tbody>\n",
       "    <tr>\n",
       "      <th>93</th>\n",
       "      <td>94</td>\n",
       "      <td>8.769369</td>\n",
       "    </tr>\n",
       "    <tr>\n",
       "      <th>92</th>\n",
       "      <td>93</td>\n",
       "      <td>8.090756</td>\n",
       "    </tr>\n",
       "    <tr>\n",
       "      <th>94</th>\n",
       "      <td>95</td>\n",
       "      <td>7.173459</td>\n",
       "    </tr>\n",
       "    <tr>\n",
       "      <th>95</th>\n",
       "      <td>96</td>\n",
       "      <td>7.081124</td>\n",
       "    </tr>\n",
       "    <tr>\n",
       "      <th>90</th>\n",
       "      <td>91</td>\n",
       "      <td>6.733529</td>\n",
       "    </tr>\n",
       "    <tr>\n",
       "      <th>...</th>\n",
       "      <td>...</td>\n",
       "      <td>...</td>\n",
       "    </tr>\n",
       "    <tr>\n",
       "      <th>4</th>\n",
       "      <td>5</td>\n",
       "      <td>1.474047</td>\n",
       "    </tr>\n",
       "    <tr>\n",
       "      <th>3</th>\n",
       "      <td>4</td>\n",
       "      <td>1.474047</td>\n",
       "    </tr>\n",
       "    <tr>\n",
       "      <th>2</th>\n",
       "      <td>3</td>\n",
       "      <td>1.464967</td>\n",
       "    </tr>\n",
       "    <tr>\n",
       "      <th>1</th>\n",
       "      <td>2</td>\n",
       "      <td>1.464967</td>\n",
       "    </tr>\n",
       "    <tr>\n",
       "      <th>0</th>\n",
       "      <td>1</td>\n",
       "      <td>1.284052</td>\n",
       "    </tr>\n",
       "  </tbody>\n",
       "</table>\n",
       "<p>99 rows × 2 columns</p>\n",
       "</div>"
      ],
      "text/plain": [
       "    Percentile  Performance\n",
       "93          94     8.769369\n",
       "92          93     8.090756\n",
       "94          95     7.173459\n",
       "95          96     7.081124\n",
       "90          91     6.733529\n",
       "..         ...          ...\n",
       "4            5     1.474047\n",
       "3            4     1.474047\n",
       "2            3     1.464967\n",
       "1            2     1.464967\n",
       "0            1     1.284052\n",
       "\n",
       "[99 rows x 2 columns]"
      ]
     },
     "execution_count": 56,
     "metadata": {},
     "output_type": "execute_result"
    }
   ],
   "source": [
    "kardf.columns=[\"Percentile\",\"Performance\"]\n",
    "kardf=kardf.sort_values(by=\"Performance\",ascending=False)\n",
    "kardf"
   ]
  },
  {
   "cell_type": "code",
   "execution_count": 57,
   "metadata": {},
   "outputs": [],
   "source": [
    "MAs[\"Buy\"]=buy_sell_MA(MAs,kardf[\"Percentile\"].values[0])[0]\n",
    "MAs[\"Sell\"]=buy_sell_MA(MAs,kardf[\"Percentile\"].values[0])[1]"
   ]
  },
  {
   "cell_type": "code",
   "execution_count": 58,
   "metadata": {},
   "outputs": [
    {
     "data": {
      "image/png": "[encoded data removed]",
      "text/plain": [
       "<Figure size 1200x500 with 1 Axes>"
      ]
     },
     "metadata": {},
     "output_type": "display_data"
    }
   ],
   "source": [
    "plt.figure(figsize=(12,5))\n",
    "plt.scatter(MAs.index,MAs[\"Buy\"],color=\"green\",label='Al',marker='^',alpha=1)\n",
    "plt.scatter(MAs.index,MAs[\"Sell\"],color=\"red\",label='Sat',marker='v',alpha=1)\n",
    "plt.plot(MAs[\"Close\"],label='Kapanış Fiyatı',alpha=0.5)\n",
    "plt.xlabel(\"Date\")\n",
    "plt.ylabel(\"Close Price\")\n",
    "plt.legend(loc='upper left')\n",
    "plt.show()"
   ]
  },
  {
   "cell_type": "code",
   "execution_count": 59,
   "metadata": {},
   "outputs": [
    {
     "data": {
      "text/plain": [
       "Date\n",
       "2021-02-01    20.440001\n",
       "2023-01-11    69.699997\n",
       "2023-03-20    76.599998\n",
       "2023-05-22    75.300003\n",
       "Name: Buy, dtype: float64"
      ]
     },
     "execution_count": 59,
     "metadata": {},
     "output_type": "execute_result"
    }
   ],
   "source": [
    "al=MAs[\"Buy\"]\n",
    "al=al.dropna(axis=0)\n",
    "al"
   ]
  },
  {
   "cell_type": "code",
   "execution_count": 60,
   "metadata": {},
   "outputs": [
    {
     "data": {
      "text/plain": [
       "Date\n",
       "2023-01-03     83.349998\n",
       "2023-03-08     89.500000\n",
       "2023-05-11     96.599998\n",
       "2023-06-07    100.000000\n",
       "Name: Sell, dtype: float64"
      ]
     },
     "execution_count": 60,
     "metadata": {},
     "output_type": "execute_result"
    }
   ],
   "source": [
    "sat=MAs[\"Sell\"]\n",
    "sat=sat.dropna(axis=0)\n",
    "sat\n"
   ]
  },
  {
   "cell_type": "code",
   "execution_count": 61,
   "metadata": {},
   "outputs": [],
   "source": [
    "sat_val=sat.values\n",
    "al_val=al.values\n"
   ]
  },
  {
   "cell_type": "code",
   "execution_count": 62,
   "metadata": {},
   "outputs": [],
   "source": [
    "res=[]\n",
    "\n",
    "for i in range(len(al_val)):\n",
    "    res.append((sat_val[i]/al_val[i]))"
   ]
  },
  {
   "cell_type": "code",
   "execution_count": 63,
   "metadata": {},
   "outputs": [
    {
     "data": {
      "text/html": [
       "<div>\n",
       "<style scoped>\n",
       "    .dataframe tbody tr th:only-of-type {\n",
       "        vertical-align: middle;\n",
       "    }\n",
       "\n",
       "    .dataframe tbody tr th {\n",
       "        vertical-align: top;\n",
       "    }\n",
       "\n",
       "    .dataframe thead th {\n",
       "        text-align: right;\n",
       "    }\n",
       "</style>\n",
       "<table border=\"1\" class=\"dataframe\">\n",
       "  <thead>\n",
       "    <tr style=\"text-align: right;\">\n",
       "      <th></th>\n",
       "      <th>Kar</th>\n",
       "    </tr>\n",
       "  </thead>\n",
       "  <tbody>\n",
       "    <tr>\n",
       "      <th>0</th>\n",
       "      <td>4.077788</td>\n",
       "    </tr>\n",
       "    <tr>\n",
       "      <th>1</th>\n",
       "      <td>1.284075</td>\n",
       "    </tr>\n",
       "    <tr>\n",
       "      <th>2</th>\n",
       "      <td>1.261097</td>\n",
       "    </tr>\n",
       "    <tr>\n",
       "      <th>3</th>\n",
       "      <td>1.328021</td>\n",
       "    </tr>\n",
       "  </tbody>\n",
       "</table>\n",
       "</div>"
      ],
      "text/plain": [
       "        Kar\n",
       "0  4.077788\n",
       "1  1.284075\n",
       "2  1.261097\n",
       "3  1.328021"
      ]
     },
     "execution_count": 63,
     "metadata": {},
     "output_type": "execute_result"
    }
   ],
   "source": [
    "df=pd.DataFrame()\n",
    "df[\"Kar\"]=res\n",
    "df"
   ]
  },
  {
   "cell_type": "code",
   "execution_count": 65,
   "metadata": {},
   "outputs": [
    {
     "data": {
      "text/html": [
       "<div>\n",
       "<style scoped>\n",
       "    .dataframe tbody tr th:only-of-type {\n",
       "        vertical-align: middle;\n",
       "    }\n",
       "\n",
       "    .dataframe tbody tr th {\n",
       "        vertical-align: top;\n",
       "    }\n",
       "\n",
       "    .dataframe thead th {\n",
       "        text-align: right;\n",
       "    }\n",
       "</style>\n",
       "<table border=\"1\" class=\"dataframe\">\n",
       "  <thead>\n",
       "    <tr style=\"text-align: right;\">\n",
       "      <th></th>\n",
       "      <th>Kar</th>\n",
       "      <th>Eldeki Para</th>\n",
       "    </tr>\n",
       "  </thead>\n",
       "  <tbody>\n",
       "    <tr>\n",
       "      <th>0</th>\n",
       "      <td>4.077788</td>\n",
       "      <td>407.778847</td>\n",
       "    </tr>\n",
       "    <tr>\n",
       "      <th>1</th>\n",
       "      <td>1.284075</td>\n",
       "      <td>523.618485</td>\n",
       "    </tr>\n",
       "    <tr>\n",
       "      <th>2</th>\n",
       "      <td>1.261097</td>\n",
       "      <td>660.333497</td>\n",
       "    </tr>\n",
       "    <tr>\n",
       "      <th>3</th>\n",
       "      <td>1.328021</td>\n",
       "      <td>876.936879</td>\n",
       "    </tr>\n",
       "  </tbody>\n",
       "</table>\n",
       "</div>"
      ],
      "text/plain": [
       "        Kar  Eldeki Para\n",
       "0  4.077788   407.778847\n",
       "1  1.284075   523.618485\n",
       "2  1.261097   660.333497\n",
       "3  1.328021   876.936879"
      ]
     },
     "execution_count": 65,
     "metadata": {},
     "output_type": "execute_result"
    }
   ],
   "source": [
    "res0=[100]\n",
    "for i in range(len(df.index)):\n",
    "    res0.append(res0[i]*df[\"Kar\"].loc[i])\n",
    "\n",
    "df[\"Eldeki Para\"]=res0[1:]\n",
    "df\n"
   ]
  },
  {
   "cell_type": "code",
   "execution_count": 66,
   "metadata": {},
   "outputs": [
    {
     "name": "stdout",
     "output_type": "stream",
     "text": [
      "Karlılık oranı % 776.9368789611217\n"
     ]
    }
   ],
   "source": [
    "karlilik=df[\"Eldeki Para\"].iloc[-1]/100\n",
    "karlilik=(karlilik-1)*100\n",
    "print(\"Karlılık oranı %\",karlilik)"
   ]
  }
 ],
 "metadata": {
  "kernelspec": {
   "display_name": "Python 3",
   "language": "python",
   "name": "python3"
  },
  "language_info": {
   "codemirror_mode": {
    "name": "ipython",
    "version": 3
   },
   "file_extension": ".py",
   "mimetype": "text/x-python",
   "name": "python",
   "nbconvert_exporter": "python",
   "pygments_lexer": "ipython3",
   "version": "3.7.6 (tags/v3.7.6:43364a7ae0, Dec 19 2019, 00:42:30) [MSC v.1916 64 bit (AMD64)]"
  },
  "orig_nbformat": 4,
  "vscode": {
   "interpreter": {
    "hash": "f4b4c62aaa4875226db85e6b013b122e2774d7746e898ecdc06b2fc04bd17fe2"
   }
  }
 },
 "nbformat": 4,
 "nbformat_minor": 2
}
