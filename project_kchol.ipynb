{
 "cells": [
  {
   "cell_type": "markdown",
   "metadata": {},
   "source": []
  },
  {
   "cell_type": "code",
   "execution_count": 1,
   "metadata": {},
   "outputs": [],
   "source": [
    "import numpy as np\n",
    "import pandas as pd\n",
    "import matplotlib.pyplot as plt\n",
    "import plotly.graph_objects as go\n",
    "from time import sleep\n",
    "import socket,time,requests\n",
    "from bs4 import BeautifulSoup\n",
    "import tkinter as tk\n",
    "from datetime import date\n",
    "\n",
    "\n",
    "\n",
    "\n",
    "url=\"https://uzmanpara.milliyet.com.tr/canli-borsa/bist-TUM-hisseleri/\"\n",
    "r=requests.get(url)\n",
    "soup=BeautifulSoup(r.content,\"html.parser\")\n",
    "\n",
    "bs=BeautifulSoup(r.content, \"lxml\")\n",
    "data=soup.find(\"div\",{\"class\":\"box box10 last\"})\n",
    "\n"
   ]
  },
  {
   "cell_type": "code",
   "execution_count": 8,
   "metadata": {},
   "outputs": [],
   "source": [
    "data=soup.find(\"tr\",{\"id\":\"h_tr_id_KCHOL\"})\n"
   ]
  },
  {
   "cell_type": "code",
   "execution_count": 9,
   "metadata": {},
   "outputs": [],
   "source": [
    "data=soup.find(\"td\",{\"id\":\"h_td_fiyat_id_KCHOL\"})\n",
    "text=data.text"
   ]
  },
  {
   "cell_type": "code",
   "execution_count": 10,
   "metadata": {},
   "outputs": [
    {
     "data": {
      "text/plain": [
       "99.4"
      ]
     },
     "execution_count": 10,
     "metadata": {},
     "output_type": "execute_result"
    }
   ],
   "source": [
    "text=text.replace(',', '.')\n",
    "text=float(text)\n",
    "text"
   ]
  },
  {
   "cell_type": "code",
   "execution_count": 3,
   "metadata": {},
   "outputs": [],
   "source": [
    "kchol=pd.read_csv(\"/Users/Bora/Documents/GitHub/Borsa-Hisse-Analizi/kchol.csv\")\n",
    "kchol.index=pd.to_datetime(kchol[\"Date\"])\n"
   ]
  },
  {
   "cell_type": "code",
   "execution_count": 4,
   "metadata": {},
   "outputs": [],
   "source": [
    "del kchol[\"Date\"]"
   ]
  },
  {
   "cell_type": "code",
   "execution_count": 5,
   "metadata": {},
   "outputs": [],
   "source": [
    "kchol=pd.DataFrame(kchol)"
   ]
  },
  {
   "cell_type": "code",
   "execution_count": 6,
   "metadata": {},
   "outputs": [
    {
     "data": {
      "text/html": [
       "<div>\n",
       "<style scoped>\n",
       "    .dataframe tbody tr th:only-of-type {\n",
       "        vertical-align: middle;\n",
       "    }\n",
       "\n",
       "    .dataframe tbody tr th {\n",
       "        vertical-align: top;\n",
       "    }\n",
       "\n",
       "    .dataframe thead th {\n",
       "        text-align: right;\n",
       "    }\n",
       "</style>\n",
       "<table border=\"1\" class=\"dataframe\">\n",
       "  <thead>\n",
       "    <tr style=\"text-align: right;\">\n",
       "      <th></th>\n",
       "      <th>Price</th>\n",
       "      <th>Open</th>\n",
       "      <th>High</th>\n",
       "      <th>Low</th>\n",
       "      <th>Vol.</th>\n",
       "      <th>Change %</th>\n",
       "    </tr>\n",
       "    <tr>\n",
       "      <th>Date</th>\n",
       "      <th></th>\n",
       "      <th></th>\n",
       "      <th></th>\n",
       "      <th></th>\n",
       "      <th></th>\n",
       "      <th></th>\n",
       "    </tr>\n",
       "  </thead>\n",
       "  <tbody>\n",
       "    <tr>\n",
       "      <th>2021-01-04</th>\n",
       "      <td>20.08</td>\n",
       "      <td>20.00</td>\n",
       "      <td>20.36</td>\n",
       "      <td>19.93</td>\n",
       "      <td>10.53M</td>\n",
       "      <td>0.40%</td>\n",
       "    </tr>\n",
       "    <tr>\n",
       "      <th>2021-01-05</th>\n",
       "      <td>20.02</td>\n",
       "      <td>19.89</td>\n",
       "      <td>20.46</td>\n",
       "      <td>19.76</td>\n",
       "      <td>15.65M</td>\n",
       "      <td>-0.30%</td>\n",
       "    </tr>\n",
       "    <tr>\n",
       "      <th>2021-01-06</th>\n",
       "      <td>20.02</td>\n",
       "      <td>20.12</td>\n",
       "      <td>20.21</td>\n",
       "      <td>19.76</td>\n",
       "      <td>12.23M</td>\n",
       "      <td>0.00%</td>\n",
       "    </tr>\n",
       "    <tr>\n",
       "      <th>2021-01-07</th>\n",
       "      <td>19.98</td>\n",
       "      <td>20.08</td>\n",
       "      <td>20.14</td>\n",
       "      <td>19.78</td>\n",
       "      <td>7.91M</td>\n",
       "      <td>-0.20%</td>\n",
       "    </tr>\n",
       "    <tr>\n",
       "      <th>2021-01-08</th>\n",
       "      <td>20.38</td>\n",
       "      <td>20.10</td>\n",
       "      <td>20.38</td>\n",
       "      <td>20.00</td>\n",
       "      <td>10.36M</td>\n",
       "      <td>2.00%</td>\n",
       "    </tr>\n",
       "    <tr>\n",
       "      <th>...</th>\n",
       "      <td>...</td>\n",
       "      <td>...</td>\n",
       "      <td>...</td>\n",
       "      <td>...</td>\n",
       "      <td>...</td>\n",
       "      <td>...</td>\n",
       "    </tr>\n",
       "    <tr>\n",
       "      <th>2023-06-12</th>\n",
       "      <td>101.00</td>\n",
       "      <td>104.60</td>\n",
       "      <td>105.50</td>\n",
       "      <td>101.00</td>\n",
       "      <td>22.71M</td>\n",
       "      <td>-2.51%</td>\n",
       "    </tr>\n",
       "    <tr>\n",
       "      <th>2023-06-13</th>\n",
       "      <td>99.60</td>\n",
       "      <td>100.60</td>\n",
       "      <td>102.50</td>\n",
       "      <td>97.70</td>\n",
       "      <td>30.46M</td>\n",
       "      <td>-1.39%</td>\n",
       "    </tr>\n",
       "    <tr>\n",
       "      <th>2023-06-14</th>\n",
       "      <td>99.30</td>\n",
       "      <td>99.95</td>\n",
       "      <td>103.60</td>\n",
       "      <td>98.30</td>\n",
       "      <td>32.30M</td>\n",
       "      <td>-0.30%</td>\n",
       "    </tr>\n",
       "    <tr>\n",
       "      <th>2023-06-15</th>\n",
       "      <td>101.00</td>\n",
       "      <td>99.80</td>\n",
       "      <td>101.10</td>\n",
       "      <td>98.85</td>\n",
       "      <td>25.99M</td>\n",
       "      <td>1.71%</td>\n",
       "    </tr>\n",
       "    <tr>\n",
       "      <th>2023-06-16</th>\n",
       "      <td>99.40</td>\n",
       "      <td>101.30</td>\n",
       "      <td>102.10</td>\n",
       "      <td>99.40</td>\n",
       "      <td>22.48M</td>\n",
       "      <td>-1.58%</td>\n",
       "    </tr>\n",
       "  </tbody>\n",
       "</table>\n",
       "<p>614 rows × 6 columns</p>\n",
       "</div>"
      ],
      "text/plain": [
       "             Price    Open    High     Low    Vol. Change %\n",
       "Date                                                       \n",
       "2021-01-04   20.08   20.00   20.36   19.93  10.53M    0.40%\n",
       "2021-01-05   20.02   19.89   20.46   19.76  15.65M   -0.30%\n",
       "2021-01-06   20.02   20.12   20.21   19.76  12.23M    0.00%\n",
       "2021-01-07   19.98   20.08   20.14   19.78   7.91M   -0.20%\n",
       "2021-01-08   20.38   20.10   20.38   20.00  10.36M    2.00%\n",
       "...            ...     ...     ...     ...     ...      ...\n",
       "2023-06-12  101.00  104.60  105.50  101.00  22.71M   -2.51%\n",
       "2023-06-13   99.60  100.60  102.50   97.70  30.46M   -1.39%\n",
       "2023-06-14   99.30   99.95  103.60   98.30  32.30M   -0.30%\n",
       "2023-06-15  101.00   99.80  101.10   98.85  25.99M    1.71%\n",
       "2023-06-16   99.40  101.30  102.10   99.40  22.48M   -1.58%\n",
       "\n",
       "[614 rows x 6 columns]"
      ]
     },
     "execution_count": 6,
     "metadata": {},
     "output_type": "execute_result"
    }
   ],
   "source": [
    "kchol"
   ]
  },
  {
   "cell_type": "code",
   "execution_count": 7,
   "metadata": {},
   "outputs": [
    {
     "data": {
      "text/html": [
       "<div>\n",
       "<style scoped>\n",
       "    .dataframe tbody tr th:only-of-type {\n",
       "        vertical-align: middle;\n",
       "    }\n",
       "\n",
       "    .dataframe tbody tr th {\n",
       "        vertical-align: top;\n",
       "    }\n",
       "\n",
       "    .dataframe thead th {\n",
       "        text-align: right;\n",
       "    }\n",
       "</style>\n",
       "<table border=\"1\" class=\"dataframe\">\n",
       "  <thead>\n",
       "    <tr style=\"text-align: right;\">\n",
       "      <th></th>\n",
       "      <th>Price</th>\n",
       "    </tr>\n",
       "    <tr>\n",
       "      <th>Date</th>\n",
       "      <th></th>\n",
       "    </tr>\n",
       "  </thead>\n",
       "  <tbody>\n",
       "    <tr>\n",
       "      <th>2021-01-04</th>\n",
       "      <td>20.08</td>\n",
       "    </tr>\n",
       "    <tr>\n",
       "      <th>2021-01-05</th>\n",
       "      <td>20.02</td>\n",
       "    </tr>\n",
       "    <tr>\n",
       "      <th>2021-01-06</th>\n",
       "      <td>20.02</td>\n",
       "    </tr>\n",
       "    <tr>\n",
       "      <th>2021-01-07</th>\n",
       "      <td>19.98</td>\n",
       "    </tr>\n",
       "    <tr>\n",
       "      <th>2021-01-08</th>\n",
       "      <td>20.38</td>\n",
       "    </tr>\n",
       "    <tr>\n",
       "      <th>...</th>\n",
       "      <td>...</td>\n",
       "    </tr>\n",
       "    <tr>\n",
       "      <th>2023-06-12</th>\n",
       "      <td>101.00</td>\n",
       "    </tr>\n",
       "    <tr>\n",
       "      <th>2023-06-13</th>\n",
       "      <td>99.60</td>\n",
       "    </tr>\n",
       "    <tr>\n",
       "      <th>2023-06-14</th>\n",
       "      <td>99.30</td>\n",
       "    </tr>\n",
       "    <tr>\n",
       "      <th>2023-06-15</th>\n",
       "      <td>101.00</td>\n",
       "    </tr>\n",
       "    <tr>\n",
       "      <th>2023-06-16</th>\n",
       "      <td>99.40</td>\n",
       "    </tr>\n",
       "  </tbody>\n",
       "</table>\n",
       "<p>614 rows × 1 columns</p>\n",
       "</div>"
      ],
      "text/plain": [
       "             Price\n",
       "Date              \n",
       "2021-01-04   20.08\n",
       "2021-01-05   20.02\n",
       "2021-01-06   20.02\n",
       "2021-01-07   19.98\n",
       "2021-01-08   20.38\n",
       "...            ...\n",
       "2023-06-12  101.00\n",
       "2023-06-13   99.60\n",
       "2023-06-14   99.30\n",
       "2023-06-15  101.00\n",
       "2023-06-16   99.40\n",
       "\n",
       "[614 rows x 1 columns]"
      ]
     },
     "execution_count": 7,
     "metadata": {},
     "output_type": "execute_result"
    }
   ],
   "source": [
    "close=pd.DataFrame(kchol[\"Price\"])\n",
    "\n",
    "close\n"
   ]
  },
  {
   "cell_type": "code",
   "execution_count": 12,
   "metadata": {},
   "outputs": [
    {
     "data": {
      "text/html": [
       "<div>\n",
       "<style scoped>\n",
       "    .dataframe tbody tr th:only-of-type {\n",
       "        vertical-align: middle;\n",
       "    }\n",
       "\n",
       "    .dataframe tbody tr th {\n",
       "        vertical-align: top;\n",
       "    }\n",
       "\n",
       "    .dataframe thead th {\n",
       "        text-align: right;\n",
       "    }\n",
       "</style>\n",
       "<table border=\"1\" class=\"dataframe\">\n",
       "  <thead>\n",
       "    <tr style=\"text-align: right;\">\n",
       "      <th></th>\n",
       "      <th>Date</th>\n",
       "      <th>Price</th>\n",
       "    </tr>\n",
       "  </thead>\n",
       "  <tbody>\n",
       "    <tr>\n",
       "      <th>0</th>\n",
       "      <td>2023-06-18</td>\n",
       "      <td>99.4</td>\n",
       "    </tr>\n",
       "  </tbody>\n",
       "</table>\n",
       "</div>"
      ],
      "text/plain": [
       "         Date Price\n",
       "0  2023-06-18  99.4"
      ]
     },
     "execution_count": 12,
     "metadata": {},
     "output_type": "execute_result"
    }
   ],
   "source": [
    "dict={'Date':date.today(),'Price':text}\n",
    "df=pd.DataFrame.from_dict(dict,orient=\"index\")\n",
    "df=df.T\n",
    "df.reset_index()\n",
    "df"
   ]
  },
  {
   "cell_type": "code",
   "execution_count": 13,
   "metadata": {},
   "outputs": [
    {
     "data": {
      "text/html": [
       "<div>\n",
       "<style scoped>\n",
       "    .dataframe tbody tr th:only-of-type {\n",
       "        vertical-align: middle;\n",
       "    }\n",
       "\n",
       "    .dataframe tbody tr th {\n",
       "        vertical-align: top;\n",
       "    }\n",
       "\n",
       "    .dataframe thead th {\n",
       "        text-align: right;\n",
       "    }\n",
       "</style>\n",
       "<table border=\"1\" class=\"dataframe\">\n",
       "  <thead>\n",
       "    <tr style=\"text-align: right;\">\n",
       "      <th></th>\n",
       "      <th>Date</th>\n",
       "      <th>Price</th>\n",
       "    </tr>\n",
       "  </thead>\n",
       "  <tbody>\n",
       "    <tr>\n",
       "      <th>0</th>\n",
       "      <td>2023-06-18</td>\n",
       "      <td>99.4</td>\n",
       "    </tr>\n",
       "  </tbody>\n",
       "</table>\n",
       "</div>"
      ],
      "text/plain": [
       "         Date Price\n",
       "0  2023-06-18  99.4"
      ]
     },
     "execution_count": 13,
     "metadata": {},
     "output_type": "execute_result"
    }
   ],
   "source": [
    "df.set_index=df[\"Date\"]\n",
    "df"
   ]
  },
  {
   "cell_type": "code",
   "execution_count": 14,
   "metadata": {},
   "outputs": [],
   "source": [
    "df.index=df[\"Date\"]"
   ]
  },
  {
   "cell_type": "code",
   "execution_count": 15,
   "metadata": {},
   "outputs": [],
   "source": [
    "del df[\"Date\"]"
   ]
  },
  {
   "cell_type": "code",
   "execution_count": 16,
   "metadata": {},
   "outputs": [
    {
     "data": {
      "text/html": [
       "<div>\n",
       "<style scoped>\n",
       "    .dataframe tbody tr th:only-of-type {\n",
       "        vertical-align: middle;\n",
       "    }\n",
       "\n",
       "    .dataframe tbody tr th {\n",
       "        vertical-align: top;\n",
       "    }\n",
       "\n",
       "    .dataframe thead th {\n",
       "        text-align: right;\n",
       "    }\n",
       "</style>\n",
       "<table border=\"1\" class=\"dataframe\">\n",
       "  <thead>\n",
       "    <tr style=\"text-align: right;\">\n",
       "      <th></th>\n",
       "      <th>Price</th>\n",
       "    </tr>\n",
       "    <tr>\n",
       "      <th>Date</th>\n",
       "      <th></th>\n",
       "    </tr>\n",
       "  </thead>\n",
       "  <tbody>\n",
       "    <tr>\n",
       "      <th>2023-06-18</th>\n",
       "      <td>99.4</td>\n",
       "    </tr>\n",
       "  </tbody>\n",
       "</table>\n",
       "</div>"
      ],
      "text/plain": [
       "           Price\n",
       "Date            \n",
       "2023-06-18  99.4"
      ]
     },
     "execution_count": 16,
     "metadata": {},
     "output_type": "execute_result"
    }
   ],
   "source": [
    "df.index=pd.to_datetime(df.index)\n",
    "df"
   ]
  },
  {
   "cell_type": "code",
   "execution_count": 15,
   "metadata": {},
   "outputs": [
    {
     "data": {
      "text/html": [
       "<div>\n",
       "<style scoped>\n",
       "    .dataframe tbody tr th:only-of-type {\n",
       "        vertical-align: middle;\n",
       "    }\n",
       "\n",
       "    .dataframe tbody tr th {\n",
       "        vertical-align: top;\n",
       "    }\n",
       "\n",
       "    .dataframe thead th {\n",
       "        text-align: right;\n",
       "    }\n",
       "</style>\n",
       "<table border=\"1\" class=\"dataframe\">\n",
       "  <thead>\n",
       "    <tr style=\"text-align: right;\">\n",
       "      <th></th>\n",
       "      <th>Price</th>\n",
       "    </tr>\n",
       "    <tr>\n",
       "      <th>Date</th>\n",
       "      <th></th>\n",
       "    </tr>\n",
       "  </thead>\n",
       "  <tbody>\n",
       "    <tr>\n",
       "      <th>2021-01-04</th>\n",
       "      <td>20.08</td>\n",
       "    </tr>\n",
       "    <tr>\n",
       "      <th>2021-01-05</th>\n",
       "      <td>20.02</td>\n",
       "    </tr>\n",
       "    <tr>\n",
       "      <th>2021-01-06</th>\n",
       "      <td>20.02</td>\n",
       "    </tr>\n",
       "    <tr>\n",
       "      <th>2021-01-07</th>\n",
       "      <td>19.98</td>\n",
       "    </tr>\n",
       "    <tr>\n",
       "      <th>2021-01-08</th>\n",
       "      <td>20.38</td>\n",
       "    </tr>\n",
       "    <tr>\n",
       "      <th>...</th>\n",
       "      <td>...</td>\n",
       "    </tr>\n",
       "    <tr>\n",
       "      <th>2023-06-13</th>\n",
       "      <td>99.6</td>\n",
       "    </tr>\n",
       "    <tr>\n",
       "      <th>2023-06-14</th>\n",
       "      <td>99.3</td>\n",
       "    </tr>\n",
       "    <tr>\n",
       "      <th>2023-06-15</th>\n",
       "      <td>101.0</td>\n",
       "    </tr>\n",
       "    <tr>\n",
       "      <th>2023-06-16</th>\n",
       "      <td>99.4</td>\n",
       "    </tr>\n",
       "    <tr>\n",
       "      <th>2023-06-18</th>\n",
       "      <td>99.4</td>\n",
       "    </tr>\n",
       "  </tbody>\n",
       "</table>\n",
       "<p>615 rows × 1 columns</p>\n",
       "</div>"
      ],
      "text/plain": [
       "            Price\n",
       "Date             \n",
       "2021-01-04  20.08\n",
       "2021-01-05  20.02\n",
       "2021-01-06  20.02\n",
       "2021-01-07  19.98\n",
       "2021-01-08  20.38\n",
       "...           ...\n",
       "2023-06-13   99.6\n",
       "2023-06-14   99.3\n",
       "2023-06-15  101.0\n",
       "2023-06-16   99.4\n",
       "2023-06-18   99.4\n",
       "\n",
       "[615 rows x 1 columns]"
      ]
     },
     "execution_count": 15,
     "metadata": {},
     "output_type": "execute_result"
    }
   ],
   "source": [
    "close=pd.concat([close,df])\n",
    "close"
   ]
  },
  {
   "cell_type": "code",
   "execution_count": 8,
   "metadata": {},
   "outputs": [],
   "source": [
    "rolling_app5=close.rolling(window=5).mean()\n",
    "rolling_app14=close.rolling(window=13).mean()\n",
    "rolling_app21=close.rolling(window=21).mean()\n",
    "\n"
   ]
  },
  {
   "cell_type": "code",
   "execution_count": 9,
   "metadata": {},
   "outputs": [],
   "source": [
    "MAs=pd.concat([close,rolling_app5,rolling_app14,rolling_app21],axis=1)\n",
    "MAs.columns=[\"Close\",\"short\",\"mid\",\"long\"]\n"
   ]
  },
  {
   "cell_type": "code",
   "execution_count": 10,
   "metadata": {},
   "outputs": [
    {
     "data": {
      "text/html": [
       "<div>\n",
       "<style scoped>\n",
       "    .dataframe tbody tr th:only-of-type {\n",
       "        vertical-align: middle;\n",
       "    }\n",
       "\n",
       "    .dataframe tbody tr th {\n",
       "        vertical-align: top;\n",
       "    }\n",
       "\n",
       "    .dataframe thead th {\n",
       "        text-align: right;\n",
       "    }\n",
       "</style>\n",
       "<table border=\"1\" class=\"dataframe\">\n",
       "  <thead>\n",
       "    <tr style=\"text-align: right;\">\n",
       "      <th></th>\n",
       "      <th>Close</th>\n",
       "      <th>short</th>\n",
       "      <th>mid</th>\n",
       "      <th>long</th>\n",
       "    </tr>\n",
       "    <tr>\n",
       "      <th>Date</th>\n",
       "      <th></th>\n",
       "      <th></th>\n",
       "      <th></th>\n",
       "      <th></th>\n",
       "    </tr>\n",
       "  </thead>\n",
       "  <tbody>\n",
       "    <tr>\n",
       "      <th>2021-02-01</th>\n",
       "      <td>19.36</td>\n",
       "      <td>19.552</td>\n",
       "      <td>20.370769</td>\n",
       "      <td>20.372381</td>\n",
       "    </tr>\n",
       "    <tr>\n",
       "      <th>2021-02-02</th>\n",
       "      <td>19.51</td>\n",
       "      <td>19.386</td>\n",
       "      <td>20.260000</td>\n",
       "      <td>20.345238</td>\n",
       "    </tr>\n",
       "    <tr>\n",
       "      <th>2021-02-03</th>\n",
       "      <td>20.31</td>\n",
       "      <td>19.580</td>\n",
       "      <td>20.261538</td>\n",
       "      <td>20.359048</td>\n",
       "    </tr>\n",
       "    <tr>\n",
       "      <th>2021-02-04</th>\n",
       "      <td>20.42</td>\n",
       "      <td>19.746</td>\n",
       "      <td>20.213846</td>\n",
       "      <td>20.378095</td>\n",
       "    </tr>\n",
       "    <tr>\n",
       "      <th>2021-02-05</th>\n",
       "      <td>20.14</td>\n",
       "      <td>19.948</td>\n",
       "      <td>20.138462</td>\n",
       "      <td>20.385714</td>\n",
       "    </tr>\n",
       "    <tr>\n",
       "      <th>...</th>\n",
       "      <td>...</td>\n",
       "      <td>...</td>\n",
       "      <td>...</td>\n",
       "      <td>...</td>\n",
       "    </tr>\n",
       "    <tr>\n",
       "      <th>2023-06-12</th>\n",
       "      <td>101.00</td>\n",
       "      <td>99.740</td>\n",
       "      <td>87.884615</td>\n",
       "      <td>85.169048</td>\n",
       "    </tr>\n",
       "    <tr>\n",
       "      <th>2023-06-13</th>\n",
       "      <td>99.60</td>\n",
       "      <td>100.880</td>\n",
       "      <td>89.926923</td>\n",
       "      <td>85.300000</td>\n",
       "    </tr>\n",
       "    <tr>\n",
       "      <th>2023-06-14</th>\n",
       "      <td>99.30</td>\n",
       "      <td>100.740</td>\n",
       "      <td>91.796154</td>\n",
       "      <td>85.876190</td>\n",
       "    </tr>\n",
       "    <tr>\n",
       "      <th>2023-06-15</th>\n",
       "      <td>101.00</td>\n",
       "      <td>100.900</td>\n",
       "      <td>93.703846</td>\n",
       "      <td>86.880952</td>\n",
       "    </tr>\n",
       "    <tr>\n",
       "      <th>2023-06-16</th>\n",
       "      <td>99.40</td>\n",
       "      <td>100.060</td>\n",
       "      <td>95.107692</td>\n",
       "      <td>87.752381</td>\n",
       "    </tr>\n",
       "  </tbody>\n",
       "</table>\n",
       "<p>594 rows × 4 columns</p>\n",
       "</div>"
      ],
      "text/plain": [
       "             Close    short        mid       long\n",
       "Date                                             \n",
       "2021-02-01   19.36   19.552  20.370769  20.372381\n",
       "2021-02-02   19.51   19.386  20.260000  20.345238\n",
       "2021-02-03   20.31   19.580  20.261538  20.359048\n",
       "2021-02-04   20.42   19.746  20.213846  20.378095\n",
       "2021-02-05   20.14   19.948  20.138462  20.385714\n",
       "...            ...      ...        ...        ...\n",
       "2023-06-12  101.00   99.740  87.884615  85.169048\n",
       "2023-06-13   99.60  100.880  89.926923  85.300000\n",
       "2023-06-14   99.30  100.740  91.796154  85.876190\n",
       "2023-06-15  101.00  100.900  93.703846  86.880952\n",
       "2023-06-16   99.40  100.060  95.107692  87.752381\n",
       "\n",
       "[594 rows x 4 columns]"
      ]
     },
     "execution_count": 10,
     "metadata": {},
     "output_type": "execute_result"
    }
   ],
   "source": [
    "MAs.dropna(axis=0,inplace=True)\n",
    "MAs"
   ]
  },
  {
   "cell_type": "code",
   "execution_count": 11,
   "metadata": {},
   "outputs": [
    {
     "data": {
      "text/plain": [
       "<matplotlib.legend.Legend at 0x22a557c8>"
      ]
     },
     "execution_count": 11,
     "metadata": {},
     "output_type": "execute_result"
    },
    {
     "data": {
      "image/png": "[encoded data removed]",
      "text/plain": [
       "<Figure size 1200x400 with 1 Axes>"
      ]
     },
     "metadata": {},
     "output_type": "display_data"
    }
   ],
   "source": [
    "fig,ax=plt.subplots(figsize=(12,4))\n",
    "ax.plot(close.index,close,label='KCHOL')\n",
    "ax.plot(rolling_app5.index,rolling_app5,label='5 Günlük Ortalama')\n",
    "ax.plot(rolling_app14.index,rolling_app14,label='15 Günlük Ortalama')\n",
    "ax.plot(rolling_app21.index,rolling_app21,label='20 Günlük Ortalama')\n",
    "ax.legend(loc='upper left')\n"
   ]
  },
  {
   "cell_type": "code",
   "execution_count": 40,
   "metadata": {},
   "outputs": [],
   "source": [
    "def buy_sell(data,perc=50):\n",
    "    buy_sell=[]\n",
    "    buy_signal=[]\n",
    "    sell_signal=[]\n",
    "    flag=42\n",
    "\n",
    "    sm=np.abs(np.percentile(np.array(data[\"short\"]-data[\"mid\"]),perc))\n",
    "    sl=np.abs(np.percentile(np.array(data[\"short\"]-data[\"long\"]),perc))\n",
    "\n",
    "    for i in range(0,len(data)):\n",
    "        if (data[\"short\"][i]>data[\"mid\"][i]+sm) & (data[\"short\"][i]>data[\"long\"][i]+sl):\n",
    "            buy_signal.append(np.nan)\n",
    "            if flag !=1:\n",
    "                sell_signal.append(data[\"Close\"][i])\n",
    "                buy_sell.append(data[\"Close\"][i])\n",
    "                flag=1\n",
    "            else:\n",
    "                sell_signal.append(np.nan)\n",
    "        elif (data[\"short\"][i]<data[\"mid\"][i]-sm)&(data[\"short\"][i]<data[\"long\"][i]-sl):\n",
    "            sell_signal.append(np.nan)\n",
    "            if flag!=0:\n",
    "                buy_signal.append(data[\"Close\"][i])\n",
    "                buy_sell.append(-data[\"Close\"][i])\n",
    "                flag=0\n",
    "            else:\n",
    "                buy_signal.append(np.nan)\n",
    "        else:\n",
    "            buy_sell.append(np.nan)\n",
    "            sell_signal.append(np.nan)\n",
    "            buy_signal.append(np.nan)\n",
    "\n",
    "    operations=np.array(buy_sell)\n",
    "    operations=operations[~np.isnan(operations)]\n",
    "\n",
    "    neg=0\n",
    "    pos=0\n",
    "\n",
    "    for i in range(len(operations)):\n",
    "        if operations[i]<0:\n",
    "            neg=i\n",
    "            break\n",
    "    for i in range(1,len(operations)):\n",
    "        if operations[-i]>0:\n",
    "            pos=i-1\n",
    "            break\n",
    "    operations=operations[neg:-pos]\n",
    "    PL=np.sum(operations)\n",
    "\n",
    "    return (buy_signal,sell_signal,PL)\n"
   ]
  },
  {
   "cell_type": "code",
   "execution_count": 41,
   "metadata": {},
   "outputs": [],
   "source": [
    "m=buy_sell(MAs)\n",
    "MAs[\"Al\"]=m[0]\n",
    "MAs[\"Sat\"]=m[1]"
   ]
  },
  {
   "cell_type": "code",
   "execution_count": 42,
   "metadata": {},
   "outputs": [
    {
     "data": {
      "image/png": "[encoded data removed]",
      "text/plain": [
       "<Figure size 1200x500 with 1 Axes>"
      ]
     },
     "metadata": {},
     "output_type": "display_data"
    }
   ],
   "source": [
    "plt.figure(figsize=(12,5))\n",
    "plt.scatter(MAs.index,MAs[\"Al\"],color=\"green\",label='Al',marker='^',alpha=1)\n",
    "plt.scatter(MAs.index,MAs[\"Sat\"],color=\"red\",label='Sat',marker='v',alpha=1)\n",
    "plt.plot(MAs[\"Close\"],label='Kapanış Fiyatı',alpha=0.5)\n",
    "plt.xlabel(\"Date\")\n",
    "plt.ylabel(\"Close Price\")\n",
    "plt.legend(loc='upper left')\n",
    "plt.show()"
   ]
  },
  {
   "cell_type": "code",
   "execution_count": 55,
   "metadata": {},
   "outputs": [
    {
     "data": {
      "text/plain": [
       "Date\n",
       "2021-02-01    19.36\n",
       "2021-03-24    19.25\n",
       "2021-09-10    21.85\n",
       "2021-12-23    26.93\n",
       "2022-01-28    31.20\n",
       "2022-02-28    30.94\n",
       "2022-04-28    39.26\n",
       "2022-06-14    38.67\n",
       "2022-09-28    45.40\n",
       "2023-01-11    68.17\n",
       "2023-02-01    69.68\n",
       "2023-03-20    74.92\n",
       "2023-04-28    75.65\n",
       "2023-05-22    75.30\n",
       "Name: Al, dtype: float64"
      ]
     },
     "execution_count": 55,
     "metadata": {},
     "output_type": "execute_result"
    }
   ],
   "source": [
    "al=MAs[\"Al\"]\n",
    "al=al.dropna(axis=0)\n",
    "al"
   ]
  },
  {
   "cell_type": "code",
   "execution_count": 56,
   "metadata": {},
   "outputs": [
    {
     "data": {
      "text/plain": [
       "Date\n",
       "2021-02-12    21.50\n",
       "2021-05-10    18.92\n",
       "2021-10-28    23.06\n",
       "2022-01-10    31.92\n",
       "2022-02-10    32.98\n",
       "2022-03-17    34.99\n",
       "2022-05-31    40.08\n",
       "2022-08-01    36.93\n",
       "2022-10-07    51.49\n",
       "2023-01-23    81.18\n",
       "2023-02-28    75.85\n",
       "2023-04-10    80.00\n",
       "2023-05-10    87.85\n",
       "2023-06-05    93.80\n",
       "Name: Sat, dtype: float64"
      ]
     },
     "execution_count": 56,
     "metadata": {},
     "output_type": "execute_result"
    }
   ],
   "source": [
    "sat=MAs[\"Sat\"]\n",
    "sat=sat.dropna(axis=0)\n",
    "sat\n"
   ]
  },
  {
   "cell_type": "code",
   "execution_count": 82,
   "metadata": {},
   "outputs": [],
   "source": [
    "del sat[\"2021-03-05\"]"
   ]
  },
  {
   "cell_type": "code",
   "execution_count": 57,
   "metadata": {},
   "outputs": [],
   "source": [
    "sat_val=sat.values\n",
    "al_val=al.values\n"
   ]
  },
  {
   "cell_type": "code",
   "execution_count": 58,
   "metadata": {},
   "outputs": [],
   "source": [
    "sat_val1=sat_val"
   ]
  },
  {
   "cell_type": "code",
   "execution_count": 59,
   "metadata": {},
   "outputs": [
    {
     "data": {
      "text/plain": [
       "array([21.5 , 18.92, 23.06, 31.92, 32.98, 34.99, 40.08, 36.93, 51.49,\n",
       "       81.18, 75.85, 80.  , 87.85, 93.8 ])"
      ]
     },
     "execution_count": 59,
     "metadata": {},
     "output_type": "execute_result"
    }
   ],
   "source": [
    "sat_val1"
   ]
  },
  {
   "cell_type": "code",
   "execution_count": 60,
   "metadata": {},
   "outputs": [
    {
     "data": {
      "text/plain": [
       "array([19.36, 19.25, 21.85, 26.93, 31.2 , 30.94, 39.26, 38.67, 45.4 ,\n",
       "       68.17, 69.68, 74.92, 75.65, 75.3 ])"
      ]
     },
     "execution_count": 60,
     "metadata": {},
     "output_type": "execute_result"
    }
   ],
   "source": [
    "al_val1=al_val\n",
    "al_val1"
   ]
  },
  {
   "cell_type": "code",
   "execution_count": 61,
   "metadata": {},
   "outputs": [],
   "source": [
    "res=[]\n",
    "\n",
    "for i in range(len(al_val1)):\n",
    "    res.append((sat_val1[i]/al_val1[i]))"
   ]
  },
  {
   "cell_type": "code",
   "execution_count": 62,
   "metadata": {},
   "outputs": [
    {
     "data": {
      "text/html": [
       "<div>\n",
       "<style scoped>\n",
       "    .dataframe tbody tr th:only-of-type {\n",
       "        vertical-align: middle;\n",
       "    }\n",
       "\n",
       "    .dataframe tbody tr th {\n",
       "        vertical-align: top;\n",
       "    }\n",
       "\n",
       "    .dataframe thead th {\n",
       "        text-align: right;\n",
       "    }\n",
       "</style>\n",
       "<table border=\"1\" class=\"dataframe\">\n",
       "  <thead>\n",
       "    <tr style=\"text-align: right;\">\n",
       "      <th></th>\n",
       "      <th>Kar</th>\n",
       "    </tr>\n",
       "  </thead>\n",
       "  <tbody>\n",
       "    <tr>\n",
       "      <th>0</th>\n",
       "      <td>1.110537</td>\n",
       "    </tr>\n",
       "    <tr>\n",
       "      <th>1</th>\n",
       "      <td>0.982857</td>\n",
       "    </tr>\n",
       "    <tr>\n",
       "      <th>2</th>\n",
       "      <td>1.055378</td>\n",
       "    </tr>\n",
       "    <tr>\n",
       "      <th>3</th>\n",
       "      <td>1.185295</td>\n",
       "    </tr>\n",
       "    <tr>\n",
       "      <th>4</th>\n",
       "      <td>1.057051</td>\n",
       "    </tr>\n",
       "    <tr>\n",
       "      <th>5</th>\n",
       "      <td>1.130899</td>\n",
       "    </tr>\n",
       "    <tr>\n",
       "      <th>6</th>\n",
       "      <td>1.020886</td>\n",
       "    </tr>\n",
       "    <tr>\n",
       "      <th>7</th>\n",
       "      <td>0.955004</td>\n",
       "    </tr>\n",
       "    <tr>\n",
       "      <th>8</th>\n",
       "      <td>1.134141</td>\n",
       "    </tr>\n",
       "    <tr>\n",
       "      <th>9</th>\n",
       "      <td>1.190846</td>\n",
       "    </tr>\n",
       "    <tr>\n",
       "      <th>10</th>\n",
       "      <td>1.088548</td>\n",
       "    </tr>\n",
       "    <tr>\n",
       "      <th>11</th>\n",
       "      <td>1.067806</td>\n",
       "    </tr>\n",
       "    <tr>\n",
       "      <th>12</th>\n",
       "      <td>1.161269</td>\n",
       "    </tr>\n",
       "    <tr>\n",
       "      <th>13</th>\n",
       "      <td>1.245684</td>\n",
       "    </tr>\n",
       "  </tbody>\n",
       "</table>\n",
       "</div>"
      ],
      "text/plain": [
       "         Kar\n",
       "0   1.110537\n",
       "1   0.982857\n",
       "2   1.055378\n",
       "3   1.185295\n",
       "4   1.057051\n",
       "5   1.130899\n",
       "6   1.020886\n",
       "7   0.955004\n",
       "8   1.134141\n",
       "9   1.190846\n",
       "10  1.088548\n",
       "11  1.067806\n",
       "12  1.161269\n",
       "13  1.245684"
      ]
     },
     "execution_count": 62,
     "metadata": {},
     "output_type": "execute_result"
    }
   ],
   "source": [
    "df=pd.DataFrame()\n",
    "df[\"Kar\"]=res\n",
    "df"
   ]
  },
  {
   "cell_type": "code",
   "execution_count": 63,
   "metadata": {},
   "outputs": [],
   "source": [
    "res0=[100]\n",
    "for i in range(14):\n",
    "    res0.append(res0[i]*df[\"Kar\"].loc[i])\n"
   ]
  },
  {
   "cell_type": "code",
   "execution_count": 64,
   "metadata": {},
   "outputs": [
    {
     "data": {
      "text/html": [
       "<div>\n",
       "<style scoped>\n",
       "    .dataframe tbody tr th:only-of-type {\n",
       "        vertical-align: middle;\n",
       "    }\n",
       "\n",
       "    .dataframe tbody tr th {\n",
       "        vertical-align: top;\n",
       "    }\n",
       "\n",
       "    .dataframe thead th {\n",
       "        text-align: right;\n",
       "    }\n",
       "</style>\n",
       "<table border=\"1\" class=\"dataframe\">\n",
       "  <thead>\n",
       "    <tr style=\"text-align: right;\">\n",
       "      <th></th>\n",
       "      <th>Kar</th>\n",
       "      <th>Eldeki Para</th>\n",
       "    </tr>\n",
       "  </thead>\n",
       "  <tbody>\n",
       "    <tr>\n",
       "      <th>0</th>\n",
       "      <td>1.110537</td>\n",
       "      <td>111.053719</td>\n",
       "    </tr>\n",
       "    <tr>\n",
       "      <th>1</th>\n",
       "      <td>0.982857</td>\n",
       "      <td>109.149941</td>\n",
       "    </tr>\n",
       "    <tr>\n",
       "      <th>2</th>\n",
       "      <td>1.055378</td>\n",
       "      <td>115.194400</td>\n",
       "    </tr>\n",
       "    <tr>\n",
       "      <th>3</th>\n",
       "      <td>1.185295</td>\n",
       "      <td>136.539370</td>\n",
       "    </tr>\n",
       "    <tr>\n",
       "      <th>4</th>\n",
       "      <td>1.057051</td>\n",
       "      <td>144.329117</td>\n",
       "    </tr>\n",
       "    <tr>\n",
       "      <th>5</th>\n",
       "      <td>1.130899</td>\n",
       "      <td>163.221583</td>\n",
       "    </tr>\n",
       "    <tr>\n",
       "      <th>6</th>\n",
       "      <td>1.020886</td>\n",
       "      <td>166.630694</td>\n",
       "    </tr>\n",
       "    <tr>\n",
       "      <th>7</th>\n",
       "      <td>0.955004</td>\n",
       "      <td>159.132959</td>\n",
       "    </tr>\n",
       "    <tr>\n",
       "      <th>8</th>\n",
       "      <td>1.134141</td>\n",
       "      <td>180.479209</td>\n",
       "    </tr>\n",
       "    <tr>\n",
       "      <th>9</th>\n",
       "      <td>1.190846</td>\n",
       "      <td>214.923019</td>\n",
       "    </tr>\n",
       "    <tr>\n",
       "      <th>10</th>\n",
       "      <td>1.088548</td>\n",
       "      <td>233.953946</td>\n",
       "    </tr>\n",
       "    <tr>\n",
       "      <th>11</th>\n",
       "      <td>1.067806</td>\n",
       "      <td>249.817348</td>\n",
       "    </tr>\n",
       "    <tr>\n",
       "      <th>12</th>\n",
       "      <td>1.161269</td>\n",
       "      <td>290.105142</td>\n",
       "    </tr>\n",
       "    <tr>\n",
       "      <th>13</th>\n",
       "      <td>1.245684</td>\n",
       "      <td>361.379314</td>\n",
       "    </tr>\n",
       "  </tbody>\n",
       "</table>\n",
       "</div>"
      ],
      "text/plain": [
       "         Kar  Eldeki Para\n",
       "0   1.110537   111.053719\n",
       "1   0.982857   109.149941\n",
       "2   1.055378   115.194400\n",
       "3   1.185295   136.539370\n",
       "4   1.057051   144.329117\n",
       "5   1.130899   163.221583\n",
       "6   1.020886   166.630694\n",
       "7   0.955004   159.132959\n",
       "8   1.134141   180.479209\n",
       "9   1.190846   214.923019\n",
       "10  1.088548   233.953946\n",
       "11  1.067806   249.817348\n",
       "12  1.161269   290.105142\n",
       "13  1.245684   361.379314"
      ]
     },
     "execution_count": 64,
     "metadata": {},
     "output_type": "execute_result"
    }
   ],
   "source": [
    "df[\"Eldeki Para\"]=res0[1:]\n",
    "df"
   ]
  },
  {
   "cell_type": "code",
   "execution_count": 65,
   "metadata": {},
   "outputs": [
    {
     "name": "stdout",
     "output_type": "stream",
     "text": [
      "Karlılık oranı % 261.3793136176559\n"
     ]
    }
   ],
   "source": [
    "karlilik=df[\"Eldeki Para\"].iloc[-1]/100\n",
    "karlilik=(karlilik-1)*100\n",
    "print(\"Karlılık oranı %\",karlilik)"
   ]
  },
  {
   "attachments": {},
   "cell_type": "markdown",
   "metadata": {},
   "source": [
    "## Her sat tavsiyesinde satmayıp 2.sat tavsiyesinde satarsak ne olur?(Yani 1 adet sat tavsiyesini pas geçersek)"
   ]
  },
  {
   "cell_type": "code",
   "execution_count": 66,
   "metadata": {},
   "outputs": [],
   "source": [
    "sat_val2=sat_val[1:14:2]"
   ]
  },
  {
   "cell_type": "code",
   "execution_count": 67,
   "metadata": {},
   "outputs": [
    {
     "data": {
      "text/plain": [
       "array([18.92, 31.92, 34.99, 36.93, 81.18, 80.  , 93.8 ])"
      ]
     },
     "execution_count": 67,
     "metadata": {},
     "output_type": "execute_result"
    }
   ],
   "source": [
    "sat_val2"
   ]
  },
  {
   "cell_type": "code",
   "execution_count": 68,
   "metadata": {},
   "outputs": [
    {
     "data": {
      "text/plain": [
       "array([19.36, 21.85, 31.2 , 39.26, 45.4 , 69.68, 75.65])"
      ]
     },
     "execution_count": 68,
     "metadata": {},
     "output_type": "execute_result"
    }
   ],
   "source": [
    "al_val2=al_val[0:14:2]\n",
    "al_val2"
   ]
  },
  {
   "cell_type": "code",
   "execution_count": 70,
   "metadata": {},
   "outputs": [],
   "source": [
    "res1=[]\n",
    "\n",
    "for i in range(7):\n",
    "    res1.append((sat_val2[i]/al_val2[i]))"
   ]
  },
  {
   "cell_type": "code",
   "execution_count": 71,
   "metadata": {},
   "outputs": [
    {
     "data": {
      "text/html": [
       "<div>\n",
       "<style scoped>\n",
       "    .dataframe tbody tr th:only-of-type {\n",
       "        vertical-align: middle;\n",
       "    }\n",
       "\n",
       "    .dataframe tbody tr th {\n",
       "        vertical-align: top;\n",
       "    }\n",
       "\n",
       "    .dataframe thead th {\n",
       "        text-align: right;\n",
       "    }\n",
       "</style>\n",
       "<table border=\"1\" class=\"dataframe\">\n",
       "  <thead>\n",
       "    <tr style=\"text-align: right;\">\n",
       "      <th></th>\n",
       "      <th>Kar</th>\n",
       "    </tr>\n",
       "  </thead>\n",
       "  <tbody>\n",
       "    <tr>\n",
       "      <th>0</th>\n",
       "      <td>0.977273</td>\n",
       "    </tr>\n",
       "    <tr>\n",
       "      <th>1</th>\n",
       "      <td>1.460870</td>\n",
       "    </tr>\n",
       "    <tr>\n",
       "      <th>2</th>\n",
       "      <td>1.121474</td>\n",
       "    </tr>\n",
       "    <tr>\n",
       "      <th>3</th>\n",
       "      <td>0.940652</td>\n",
       "    </tr>\n",
       "    <tr>\n",
       "      <th>4</th>\n",
       "      <td>1.788106</td>\n",
       "    </tr>\n",
       "    <tr>\n",
       "      <th>5</th>\n",
       "      <td>1.148106</td>\n",
       "    </tr>\n",
       "    <tr>\n",
       "      <th>6</th>\n",
       "      <td>1.239921</td>\n",
       "    </tr>\n",
       "  </tbody>\n",
       "</table>\n",
       "</div>"
      ],
      "text/plain": [
       "        Kar\n",
       "0  0.977273\n",
       "1  1.460870\n",
       "2  1.121474\n",
       "3  0.940652\n",
       "4  1.788106\n",
       "5  1.148106\n",
       "6  1.239921"
      ]
     },
     "execution_count": 71,
     "metadata": {},
     "output_type": "execute_result"
    }
   ],
   "source": [
    "df1=pd.DataFrame()\n",
    "df1[\"Kar\"]=res1\n",
    "df1"
   ]
  },
  {
   "cell_type": "code",
   "execution_count": 72,
   "metadata": {},
   "outputs": [],
   "source": [
    "res2=[100]\n",
    "for i in range(7):\n",
    "    res2.append(res2[i]*df1[\"Kar\"].loc[i])\n",
    "\n",
    "\n"
   ]
  },
  {
   "cell_type": "code",
   "execution_count": 73,
   "metadata": {},
   "outputs": [
    {
     "data": {
      "text/html": [
       "<div>\n",
       "<style scoped>\n",
       "    .dataframe tbody tr th:only-of-type {\n",
       "        vertical-align: middle;\n",
       "    }\n",
       "\n",
       "    .dataframe tbody tr th {\n",
       "        vertical-align: top;\n",
       "    }\n",
       "\n",
       "    .dataframe thead th {\n",
       "        text-align: right;\n",
       "    }\n",
       "</style>\n",
       "<table border=\"1\" class=\"dataframe\">\n",
       "  <thead>\n",
       "    <tr style=\"text-align: right;\">\n",
       "      <th></th>\n",
       "      <th>Kar</th>\n",
       "      <th>Eldeki Para</th>\n",
       "    </tr>\n",
       "  </thead>\n",
       "  <tbody>\n",
       "    <tr>\n",
       "      <th>0</th>\n",
       "      <td>0.977273</td>\n",
       "      <td>97.727273</td>\n",
       "    </tr>\n",
       "    <tr>\n",
       "      <th>1</th>\n",
       "      <td>1.460870</td>\n",
       "      <td>142.766798</td>\n",
       "    </tr>\n",
       "    <tr>\n",
       "      <th>2</th>\n",
       "      <td>1.121474</td>\n",
       "      <td>160.109304</td>\n",
       "    </tr>\n",
       "    <tr>\n",
       "      <th>3</th>\n",
       "      <td>0.940652</td>\n",
       "      <td>150.607147</td>\n",
       "    </tr>\n",
       "    <tr>\n",
       "      <th>4</th>\n",
       "      <td>1.788106</td>\n",
       "      <td>269.301502</td>\n",
       "    </tr>\n",
       "    <tr>\n",
       "      <th>5</th>\n",
       "      <td>1.148106</td>\n",
       "      <td>309.186569</td>\n",
       "    </tr>\n",
       "    <tr>\n",
       "      <th>6</th>\n",
       "      <td>1.239921</td>\n",
       "      <td>383.366824</td>\n",
       "    </tr>\n",
       "  </tbody>\n",
       "</table>\n",
       "</div>"
      ],
      "text/plain": [
       "        Kar  Eldeki Para\n",
       "0  0.977273    97.727273\n",
       "1  1.460870   142.766798\n",
       "2  1.121474   160.109304\n",
       "3  0.940652   150.607147\n",
       "4  1.788106   269.301502\n",
       "5  1.148106   309.186569\n",
       "6  1.239921   383.366824"
      ]
     },
     "execution_count": 73,
     "metadata": {},
     "output_type": "execute_result"
    }
   ],
   "source": [
    "df1[\"Eldeki Para\"]=res2[1:]\n",
    "df1\n"
   ]
  },
  {
   "cell_type": "code",
   "execution_count": 74,
   "metadata": {},
   "outputs": [
    {
     "name": "stdout",
     "output_type": "stream",
     "text": [
      "Karlılık oranı % 283.3668235496125\n"
     ]
    }
   ],
   "source": [
    "karlilik=df1[\"Eldeki Para\"].iloc[-1]/100\n",
    "karlilik=(karlilik-1)*100\n",
    "print(\"Karlılık oranı %\",karlilik)"
   ]
  }
 ],
 "metadata": {
  "kernelspec": {
   "display_name": "Python 3",
   "language": "python",
   "name": "python3"
  },
  "language_info": {
   "codemirror_mode": {
    "name": "ipython",
    "version": 3
   },
   "file_extension": ".py",
   "mimetype": "text/x-python",
   "name": "python",
   "nbconvert_exporter": "python",
   "pygments_lexer": "ipython3",
   "version": "3.7.6"
  },
  "orig_nbformat": 4,
  "vscode": {
   "interpreter": {
    "hash": "f4b4c62aaa4875226db85e6b013b122e2774d7746e898ecdc06b2fc04bd17fe2"
   }
  }
 },
 "nbformat": 4,
 "nbformat_minor": 2
}
