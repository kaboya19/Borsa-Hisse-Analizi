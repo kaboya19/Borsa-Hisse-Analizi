{
 "cells": [
  {
   "cell_type": "markdown",
   "metadata": {},
   "source": []
  },
  {
   "cell_type": "code",
   "execution_count": 1,
   "metadata": {},
   "outputs": [],
   "source": [
    "import numpy as np\n",
    "import pandas as pd\n",
    "import matplotlib.pyplot as plt\n",
    "import plotly.graph_objects as go\n",
    "from time import sleep\n",
    "import socket,time,requests\n",
    "from bs4 import BeautifulSoup\n",
    "import tkinter as tk\n",
    "\n",
    "import yfinance as yf\n",
    "import datetime\n",
    "\n",
    "\n"
   ]
  },
  {
   "cell_type": "code",
   "execution_count": 117,
   "metadata": {},
   "outputs": [
    {
     "name": "stdout",
     "output_type": "stream",
     "text": [
      "[*********************100%***********************]  1 of 1 completed\n"
     ]
    }
   ],
   "source": [
    "ticker='KCHOL.IS'\n",
    "start=\"2020-06-01\"\n",
    "end=str(datetime.date.today() +datetime.timedelta(days=1))\n",
    "kchol=yf.download(ticker,start,end)\n"
   ]
  },
  {
   "cell_type": "code",
   "execution_count": 118,
   "metadata": {},
   "outputs": [
    {
     "data": {
      "text/html": [
       "<div>\n",
       "<style scoped>\n",
       "    .dataframe tbody tr th:only-of-type {\n",
       "        vertical-align: middle;\n",
       "    }\n",
       "\n",
       "    .dataframe tbody tr th {\n",
       "        vertical-align: top;\n",
       "    }\n",
       "\n",
       "    .dataframe thead th {\n",
       "        text-align: right;\n",
       "    }\n",
       "</style>\n",
       "<table border=\"1\" class=\"dataframe\">\n",
       "  <thead>\n",
       "    <tr style=\"text-align: right;\">\n",
       "      <th></th>\n",
       "      <th>Open</th>\n",
       "      <th>High</th>\n",
       "      <th>Low</th>\n",
       "      <th>Close</th>\n",
       "      <th>Adj Close</th>\n",
       "      <th>Volume</th>\n",
       "    </tr>\n",
       "    <tr>\n",
       "      <th>Date</th>\n",
       "      <th></th>\n",
       "      <th></th>\n",
       "      <th></th>\n",
       "      <th></th>\n",
       "      <th></th>\n",
       "      <th></th>\n",
       "    </tr>\n",
       "  </thead>\n",
       "  <tbody>\n",
       "    <tr>\n",
       "      <th>2020-06-01</th>\n",
       "      <td>16.230000</td>\n",
       "      <td>16.900000</td>\n",
       "      <td>16.230000</td>\n",
       "      <td>16.850000</td>\n",
       "      <td>15.597152</td>\n",
       "      <td>6587518</td>\n",
       "    </tr>\n",
       "    <tr>\n",
       "      <th>2020-06-02</th>\n",
       "      <td>16.840000</td>\n",
       "      <td>17.309999</td>\n",
       "      <td>16.820000</td>\n",
       "      <td>17.299999</td>\n",
       "      <td>16.013693</td>\n",
       "      <td>10310413</td>\n",
       "    </tr>\n",
       "    <tr>\n",
       "      <th>2020-06-03</th>\n",
       "      <td>17.700001</td>\n",
       "      <td>17.860001</td>\n",
       "      <td>17.549999</td>\n",
       "      <td>17.709999</td>\n",
       "      <td>16.393208</td>\n",
       "      <td>5626163</td>\n",
       "    </tr>\n",
       "    <tr>\n",
       "      <th>2020-06-04</th>\n",
       "      <td>17.850000</td>\n",
       "      <td>17.889999</td>\n",
       "      <td>17.459999</td>\n",
       "      <td>17.510000</td>\n",
       "      <td>16.208078</td>\n",
       "      <td>5427441</td>\n",
       "    </tr>\n",
       "    <tr>\n",
       "      <th>2020-06-05</th>\n",
       "      <td>17.580000</td>\n",
       "      <td>17.840000</td>\n",
       "      <td>17.290001</td>\n",
       "      <td>17.790001</td>\n",
       "      <td>16.467260</td>\n",
       "      <td>8803472</td>\n",
       "    </tr>\n",
       "    <tr>\n",
       "      <th>...</th>\n",
       "      <td>...</td>\n",
       "      <td>...</td>\n",
       "      <td>...</td>\n",
       "      <td>...</td>\n",
       "      <td>...</td>\n",
       "      <td>...</td>\n",
       "    </tr>\n",
       "    <tr>\n",
       "      <th>2023-06-12</th>\n",
       "      <td>104.599998</td>\n",
       "      <td>105.500000</td>\n",
       "      <td>101.000000</td>\n",
       "      <td>101.000000</td>\n",
       "      <td>101.000000</td>\n",
       "      <td>22706743</td>\n",
       "    </tr>\n",
       "    <tr>\n",
       "      <th>2023-06-14</th>\n",
       "      <td>99.949997</td>\n",
       "      <td>103.599998</td>\n",
       "      <td>98.300003</td>\n",
       "      <td>99.300003</td>\n",
       "      <td>99.300003</td>\n",
       "      <td>32298664</td>\n",
       "    </tr>\n",
       "    <tr>\n",
       "      <th>2023-06-15</th>\n",
       "      <td>99.800003</td>\n",
       "      <td>101.099998</td>\n",
       "      <td>98.849998</td>\n",
       "      <td>101.000000</td>\n",
       "      <td>101.000000</td>\n",
       "      <td>25989506</td>\n",
       "    </tr>\n",
       "    <tr>\n",
       "      <th>2023-06-16</th>\n",
       "      <td>101.300003</td>\n",
       "      <td>102.099998</td>\n",
       "      <td>99.400002</td>\n",
       "      <td>99.400002</td>\n",
       "      <td>99.400002</td>\n",
       "      <td>22481317</td>\n",
       "    </tr>\n",
       "    <tr>\n",
       "      <th>2023-06-19</th>\n",
       "      <td>99.500000</td>\n",
       "      <td>99.550003</td>\n",
       "      <td>95.199997</td>\n",
       "      <td>95.050003</td>\n",
       "      <td>95.050003</td>\n",
       "      <td>19476984</td>\n",
       "    </tr>\n",
       "  </tbody>\n",
       "</table>\n",
       "<p>764 rows × 6 columns</p>\n",
       "</div>"
      ],
      "text/plain": [
       "                  Open        High         Low       Close   Adj Close  \\\n",
       "Date                                                                     \n",
       "2020-06-01   16.230000   16.900000   16.230000   16.850000   15.597152   \n",
       "2020-06-02   16.840000   17.309999   16.820000   17.299999   16.013693   \n",
       "2020-06-03   17.700001   17.860001   17.549999   17.709999   16.393208   \n",
       "2020-06-04   17.850000   17.889999   17.459999   17.510000   16.208078   \n",
       "2020-06-05   17.580000   17.840000   17.290001   17.790001   16.467260   \n",
       "...                ...         ...         ...         ...         ...   \n",
       "2023-06-12  104.599998  105.500000  101.000000  101.000000  101.000000   \n",
       "2023-06-14   99.949997  103.599998   98.300003   99.300003   99.300003   \n",
       "2023-06-15   99.800003  101.099998   98.849998  101.000000  101.000000   \n",
       "2023-06-16  101.300003  102.099998   99.400002   99.400002   99.400002   \n",
       "2023-06-19   99.500000   99.550003   95.199997   95.050003   95.050003   \n",
       "\n",
       "              Volume  \n",
       "Date                  \n",
       "2020-06-01   6587518  \n",
       "2020-06-02  10310413  \n",
       "2020-06-03   5626163  \n",
       "2020-06-04   5427441  \n",
       "2020-06-05   8803472  \n",
       "...              ...  \n",
       "2023-06-12  22706743  \n",
       "2023-06-14  32298664  \n",
       "2023-06-15  25989506  \n",
       "2023-06-16  22481317  \n",
       "2023-06-19  19476984  \n",
       "\n",
       "[764 rows x 6 columns]"
      ]
     },
     "execution_count": 118,
     "metadata": {},
     "output_type": "execute_result"
    }
   ],
   "source": [
    "kchol"
   ]
  },
  {
   "cell_type": "code",
   "execution_count": 119,
   "metadata": {},
   "outputs": [
    {
     "data": {
      "text/html": [
       "<div>\n",
       "<style scoped>\n",
       "    .dataframe tbody tr th:only-of-type {\n",
       "        vertical-align: middle;\n",
       "    }\n",
       "\n",
       "    .dataframe tbody tr th {\n",
       "        vertical-align: top;\n",
       "    }\n",
       "\n",
       "    .dataframe thead th {\n",
       "        text-align: right;\n",
       "    }\n",
       "</style>\n",
       "<table border=\"1\" class=\"dataframe\">\n",
       "  <thead>\n",
       "    <tr style=\"text-align: right;\">\n",
       "      <th></th>\n",
       "      <th>Close</th>\n",
       "    </tr>\n",
       "    <tr>\n",
       "      <th>Date</th>\n",
       "      <th></th>\n",
       "    </tr>\n",
       "  </thead>\n",
       "  <tbody>\n",
       "    <tr>\n",
       "      <th>2020-06-01</th>\n",
       "      <td>16.850000</td>\n",
       "    </tr>\n",
       "    <tr>\n",
       "      <th>2020-06-02</th>\n",
       "      <td>17.299999</td>\n",
       "    </tr>\n",
       "    <tr>\n",
       "      <th>2020-06-03</th>\n",
       "      <td>17.709999</td>\n",
       "    </tr>\n",
       "    <tr>\n",
       "      <th>2020-06-04</th>\n",
       "      <td>17.510000</td>\n",
       "    </tr>\n",
       "    <tr>\n",
       "      <th>2020-06-05</th>\n",
       "      <td>17.790001</td>\n",
       "    </tr>\n",
       "    <tr>\n",
       "      <th>...</th>\n",
       "      <td>...</td>\n",
       "    </tr>\n",
       "    <tr>\n",
       "      <th>2023-06-12</th>\n",
       "      <td>101.000000</td>\n",
       "    </tr>\n",
       "    <tr>\n",
       "      <th>2023-06-14</th>\n",
       "      <td>99.300003</td>\n",
       "    </tr>\n",
       "    <tr>\n",
       "      <th>2023-06-15</th>\n",
       "      <td>101.000000</td>\n",
       "    </tr>\n",
       "    <tr>\n",
       "      <th>2023-06-16</th>\n",
       "      <td>99.400002</td>\n",
       "    </tr>\n",
       "    <tr>\n",
       "      <th>2023-06-19</th>\n",
       "      <td>95.050003</td>\n",
       "    </tr>\n",
       "  </tbody>\n",
       "</table>\n",
       "<p>764 rows × 1 columns</p>\n",
       "</div>"
      ],
      "text/plain": [
       "                 Close\n",
       "Date                  \n",
       "2020-06-01   16.850000\n",
       "2020-06-02   17.299999\n",
       "2020-06-03   17.709999\n",
       "2020-06-04   17.510000\n",
       "2020-06-05   17.790001\n",
       "...                ...\n",
       "2023-06-12  101.000000\n",
       "2023-06-14   99.300003\n",
       "2023-06-15  101.000000\n",
       "2023-06-16   99.400002\n",
       "2023-06-19   95.050003\n",
       "\n",
       "[764 rows x 1 columns]"
      ]
     },
     "execution_count": 119,
     "metadata": {},
     "output_type": "execute_result"
    }
   ],
   "source": [
    "close=pd.DataFrame(kchol[\"Close\"])\n",
    "\n",
    "close\n"
   ]
  },
  {
   "cell_type": "code",
   "execution_count": 120,
   "metadata": {},
   "outputs": [],
   "source": [
    "rolling_app5=close.rolling(window=5).mean()\n",
    "rolling_app14=close.rolling(window=13).mean()\n",
    "rolling_app21=close.rolling(window=21).mean()\n",
    "\n"
   ]
  },
  {
   "cell_type": "code",
   "execution_count": 121,
   "metadata": {},
   "outputs": [],
   "source": [
    "MAs=pd.concat([close,rolling_app5,rolling_app14,rolling_app21],axis=1)\n",
    "MAs.columns=[\"Close\",\"short\",\"mid\",\"long\"]\n"
   ]
  },
  {
   "cell_type": "code",
   "execution_count": 122,
   "metadata": {},
   "outputs": [
    {
     "data": {
      "text/html": [
       "<div>\n",
       "<style scoped>\n",
       "    .dataframe tbody tr th:only-of-type {\n",
       "        vertical-align: middle;\n",
       "    }\n",
       "\n",
       "    .dataframe tbody tr th {\n",
       "        vertical-align: top;\n",
       "    }\n",
       "\n",
       "    .dataframe thead th {\n",
       "        text-align: right;\n",
       "    }\n",
       "</style>\n",
       "<table border=\"1\" class=\"dataframe\">\n",
       "  <thead>\n",
       "    <tr style=\"text-align: right;\">\n",
       "      <th></th>\n",
       "      <th>Close</th>\n",
       "      <th>short</th>\n",
       "      <th>mid</th>\n",
       "      <th>long</th>\n",
       "    </tr>\n",
       "    <tr>\n",
       "      <th>Date</th>\n",
       "      <th></th>\n",
       "      <th></th>\n",
       "      <th></th>\n",
       "      <th></th>\n",
       "    </tr>\n",
       "  </thead>\n",
       "  <tbody>\n",
       "    <tr>\n",
       "      <th>2020-06-29</th>\n",
       "      <td>17.719999</td>\n",
       "      <td>17.404000</td>\n",
       "      <td>17.275385</td>\n",
       "      <td>17.360476</td>\n",
       "    </tr>\n",
       "    <tr>\n",
       "      <th>2020-06-30</th>\n",
       "      <td>18.139999</td>\n",
       "      <td>17.534000</td>\n",
       "      <td>17.367692</td>\n",
       "      <td>17.421905</td>\n",
       "    </tr>\n",
       "    <tr>\n",
       "      <th>2020-07-01</th>\n",
       "      <td>17.549999</td>\n",
       "      <td>17.606000</td>\n",
       "      <td>17.396923</td>\n",
       "      <td>17.433810</td>\n",
       "    </tr>\n",
       "    <tr>\n",
       "      <th>2020-07-02</th>\n",
       "      <td>17.719999</td>\n",
       "      <td>17.700000</td>\n",
       "      <td>17.442308</td>\n",
       "      <td>17.434286</td>\n",
       "    </tr>\n",
       "    <tr>\n",
       "      <th>2020-07-03</th>\n",
       "      <td>17.510000</td>\n",
       "      <td>17.727999</td>\n",
       "      <td>17.447692</td>\n",
       "      <td>17.434286</td>\n",
       "    </tr>\n",
       "    <tr>\n",
       "      <th>...</th>\n",
       "      <td>...</td>\n",
       "      <td>...</td>\n",
       "      <td>...</td>\n",
       "      <td>...</td>\n",
       "    </tr>\n",
       "    <tr>\n",
       "      <th>2023-06-12</th>\n",
       "      <td>101.000000</td>\n",
       "      <td>99.739999</td>\n",
       "      <td>87.884616</td>\n",
       "      <td>85.169048</td>\n",
       "    </tr>\n",
       "    <tr>\n",
       "      <th>2023-06-14</th>\n",
       "      <td>99.300003</td>\n",
       "      <td>100.820000</td>\n",
       "      <td>89.903847</td>\n",
       "      <td>85.285715</td>\n",
       "    </tr>\n",
       "    <tr>\n",
       "      <th>2023-06-15</th>\n",
       "      <td>101.000000</td>\n",
       "      <td>101.020000</td>\n",
       "      <td>91.903847</td>\n",
       "      <td>85.942858</td>\n",
       "    </tr>\n",
       "    <tr>\n",
       "      <th>2023-06-16</th>\n",
       "      <td>99.400002</td>\n",
       "      <td>100.860001</td>\n",
       "      <td>93.688462</td>\n",
       "      <td>86.871429</td>\n",
       "    </tr>\n",
       "    <tr>\n",
       "      <th>2023-06-19</th>\n",
       "      <td>95.050003</td>\n",
       "      <td>99.150002</td>\n",
       "      <td>94.757693</td>\n",
       "      <td>87.535715</td>\n",
       "    </tr>\n",
       "  </tbody>\n",
       "</table>\n",
       "<p>744 rows × 4 columns</p>\n",
       "</div>"
      ],
      "text/plain": [
       "                 Close       short        mid       long\n",
       "Date                                                    \n",
       "2020-06-29   17.719999   17.404000  17.275385  17.360476\n",
       "2020-06-30   18.139999   17.534000  17.367692  17.421905\n",
       "2020-07-01   17.549999   17.606000  17.396923  17.433810\n",
       "2020-07-02   17.719999   17.700000  17.442308  17.434286\n",
       "2020-07-03   17.510000   17.727999  17.447692  17.434286\n",
       "...                ...         ...        ...        ...\n",
       "2023-06-12  101.000000   99.739999  87.884616  85.169048\n",
       "2023-06-14   99.300003  100.820000  89.903847  85.285715\n",
       "2023-06-15  101.000000  101.020000  91.903847  85.942858\n",
       "2023-06-16   99.400002  100.860001  93.688462  86.871429\n",
       "2023-06-19   95.050003   99.150002  94.757693  87.535715\n",
       "\n",
       "[744 rows x 4 columns]"
      ]
     },
     "execution_count": 122,
     "metadata": {},
     "output_type": "execute_result"
    }
   ],
   "source": [
    "MAs.dropna(axis=0,inplace=True)\n",
    "MAs"
   ]
  },
  {
   "cell_type": "code",
   "execution_count": 123,
   "metadata": {},
   "outputs": [
    {
     "data": {
      "text/plain": [
       "<matplotlib.legend.Legend at 0x214ba148>"
      ]
     },
     "execution_count": 123,
     "metadata": {},
     "output_type": "execute_result"
    },
    {
     "data": {
      "image/png": "[encoded data removed]",
      "text/plain": [
       "<Figure size 1200x400 with 1 Axes>"
      ]
     },
     "metadata": {},
     "output_type": "display_data"
    }
   ],
   "source": [
    "fig,ax=plt.subplots(figsize=(12,4))\n",
    "ax.plot(close.index,close,label='KCHOL')\n",
    "ax.plot(rolling_app5.index,rolling_app5,label='5 Günlük Ortalama')\n",
    "ax.plot(rolling_app14.index,rolling_app14,label='15 Günlük Ortalama')\n",
    "ax.plot(rolling_app21.index,rolling_app21,label='20 Günlük Ortalama')\n",
    "ax.legend(loc='upper left')\n"
   ]
  },
  {
   "cell_type": "code",
   "execution_count": 124,
   "metadata": {},
   "outputs": [],
   "source": [
    "def buy_sell(data,perc=25):\n",
    "    buy_sell=[]\n",
    "    buy_signal=[]\n",
    "    sell_signal=[]\n",
    "    flag=42\n",
    "\n",
    "    sm=np.abs(np.percentile(np.array(data[\"short\"]-data[\"mid\"]),perc))\n",
    "    sl=np.abs(np.percentile(np.array(data[\"short\"]-data[\"long\"]),perc))\n",
    "\n",
    "    for i in range(0,len(data)):\n",
    "        if (data[\"short\"][i]>data[\"mid\"][i]+sm) & (data[\"short\"][i]>data[\"long\"][i]+sl):\n",
    "            buy_signal.append(np.nan)\n",
    "            if flag !=1:\n",
    "                sell_signal.append(data[\"Close\"][i])\n",
    "                buy_sell.append(data[\"Close\"][i])\n",
    "                flag=1\n",
    "            else:\n",
    "                sell_signal.append(np.nan)\n",
    "        elif (data[\"short\"][i]<data[\"mid\"][i]-sm)&(data[\"short\"][i]<data[\"long\"][i]-sl):\n",
    "            sell_signal.append(np.nan)\n",
    "            if flag!=0:\n",
    "                buy_signal.append(data[\"Close\"][i])\n",
    "                buy_sell.append(-data[\"Close\"][i])\n",
    "                flag=0\n",
    "            else:\n",
    "                buy_signal.append(np.nan)\n",
    "        else:\n",
    "            buy_sell.append(np.nan)\n",
    "            sell_signal.append(np.nan)\n",
    "            buy_signal.append(np.nan)\n",
    "\n",
    "    operations=np.array(buy_sell)\n",
    "    operations=operations[~np.isnan(operations)]\n",
    "\n",
    "    neg=0\n",
    "    pos=0\n",
    "\n",
    "    for i in range(len(operations)):\n",
    "        if operations[i]<0:\n",
    "            neg=i\n",
    "            break\n",
    "    for i in range(1,len(operations)):\n",
    "        if operations[-i]>0:\n",
    "            pos=i-1\n",
    "            break\n",
    "    operations=operations[neg:-pos]\n",
    "    PL=np.sum(operations)\n",
    "\n",
    "    return (buy_signal,sell_signal,PL)\n"
   ]
  },
  {
   "cell_type": "code",
   "execution_count": 125,
   "metadata": {},
   "outputs": [],
   "source": [
    "m=buy_sell(MAs)\n",
    "MAs[\"Al\"]=m[0]\n",
    "MAs[\"Sat\"]=m[1]"
   ]
  },
  {
   "cell_type": "code",
   "execution_count": 126,
   "metadata": {},
   "outputs": [
    {
     "data": {
      "image/png": "[encoded data removed]",
      "text/plain": [
       "<Figure size 1200x500 with 1 Axes>"
      ]
     },
     "metadata": {},
     "output_type": "display_data"
    }
   ],
   "source": [
    "plt.figure(figsize=(12,5))\n",
    "plt.scatter(MAs.index,MAs[\"Al\"],color=\"green\",label='Al',marker='^',alpha=1)\n",
    "plt.scatter(MAs.index,MAs[\"Sat\"],color=\"red\",label='Sat',marker='v',alpha=1)\n",
    "plt.plot(MAs[\"Close\"],label='Kapanış Fiyatı',alpha=0.5)\n",
    "plt.xlabel(\"Date\")\n",
    "plt.ylabel(\"Close Price\")\n",
    "plt.legend(loc='upper left')\n",
    "plt.show()"
   ]
  },
  {
   "cell_type": "code",
   "execution_count": 127,
   "metadata": {},
   "outputs": [
    {
     "data": {
      "text/plain": [
       "Date\n",
       "2020-07-30    16.170000\n",
       "2020-11-02    14.380000\n",
       "2021-01-29    20.200001\n",
       "2021-03-24    20.320000\n",
       "2021-09-10    22.340000\n",
       "2021-12-23    27.540001\n",
       "2022-01-27    31.700001\n",
       "2022-02-28    31.639999\n",
       "2022-04-28    40.139999\n",
       "2022-06-14    39.540001\n",
       "2022-09-28    46.419998\n",
       "2023-01-11    69.699997\n",
       "2023-02-01    71.250000\n",
       "2023-03-20    76.599998\n",
       "2023-04-28    75.650002\n",
       "2023-05-22    75.300003\n",
       "Name: Al, dtype: float64"
      ]
     },
     "execution_count": 127,
     "metadata": {},
     "output_type": "execute_result"
    }
   ],
   "source": [
    "al=MAs[\"Al\"]\n",
    "al=al.dropna(axis=0)\n",
    "al"
   ]
  },
  {
   "cell_type": "code",
   "execution_count": 128,
   "metadata": {},
   "outputs": [
    {
     "data": {
      "text/plain": [
       "Date\n",
       "2020-10-20    15.570000\n",
       "2020-11-10    16.780001\n",
       "2021-02-12    22.700001\n",
       "2021-05-10    19.350000\n",
       "2021-10-27    23.559999\n",
       "2022-01-10    32.639999\n",
       "2022-02-10    33.720001\n",
       "2022-03-17    35.779999\n",
       "2022-05-31    40.980000\n",
       "2022-08-01    37.759998\n",
       "2022-10-07    52.650002\n",
       "2023-01-23    83.000000\n",
       "2023-02-28    77.550003\n",
       "2023-04-11    81.699997\n",
       "2023-05-10    87.849998\n",
       "2023-06-05    93.800003\n",
       "Name: Sat, dtype: float64"
      ]
     },
     "execution_count": 128,
     "metadata": {},
     "output_type": "execute_result"
    }
   ],
   "source": [
    "sat=MAs[\"Sat\"]\n",
    "sat=sat.dropna(axis=0)\n",
    "sat\n"
   ]
  },
  {
   "cell_type": "code",
   "execution_count": 82,
   "metadata": {},
   "outputs": [],
   "source": [
    "del sat[\"2021-03-05\"]"
   ]
  },
  {
   "cell_type": "code",
   "execution_count": 129,
   "metadata": {},
   "outputs": [],
   "source": [
    "sat_val=sat.values\n",
    "al_val=al.values\n"
   ]
  },
  {
   "cell_type": "code",
   "execution_count": 130,
   "metadata": {},
   "outputs": [],
   "source": [
    "sat_val1=sat_val"
   ]
  },
  {
   "cell_type": "code",
   "execution_count": 131,
   "metadata": {},
   "outputs": [
    {
     "data": {
      "text/plain": [
       "array([15.56999969, 16.78000069, 22.70000076, 19.35000038, 23.55999947,\n",
       "       32.63999939, 33.72000122, 35.77999878, 40.97999954, 37.75999832,\n",
       "       52.65000153, 83.        , 77.55000305, 81.69999695, 87.84999847,\n",
       "       93.80000305])"
      ]
     },
     "execution_count": 131,
     "metadata": {},
     "output_type": "execute_result"
    }
   ],
   "source": [
    "sat_val1"
   ]
  },
  {
   "cell_type": "code",
   "execution_count": 132,
   "metadata": {},
   "outputs": [
    {
     "data": {
      "text/plain": [
       "array([16.17000008, 14.38000011, 20.20000076, 20.31999969, 22.34000015,\n",
       "       27.54000092, 31.70000076, 31.63999939, 40.13999939, 39.54000092,\n",
       "       46.41999817, 69.69999695, 71.25      , 76.59999847, 75.65000153,\n",
       "       75.30000305])"
      ]
     },
     "execution_count": 132,
     "metadata": {},
     "output_type": "execute_result"
    }
   ],
   "source": [
    "al_val1=al_val\n",
    "al_val1"
   ]
  },
  {
   "cell_type": "code",
   "execution_count": 133,
   "metadata": {},
   "outputs": [],
   "source": [
    "res=[]\n",
    "\n",
    "for i in range(len(al_val1)):\n",
    "    res.append((sat_val1[i]/al_val1[i]))"
   ]
  },
  {
   "cell_type": "code",
   "execution_count": 134,
   "metadata": {},
   "outputs": [
    {
     "data": {
      "text/html": [
       "<div>\n",
       "<style scoped>\n",
       "    .dataframe tbody tr th:only-of-type {\n",
       "        vertical-align: middle;\n",
       "    }\n",
       "\n",
       "    .dataframe tbody tr th {\n",
       "        vertical-align: top;\n",
       "    }\n",
       "\n",
       "    .dataframe thead th {\n",
       "        text-align: right;\n",
       "    }\n",
       "</style>\n",
       "<table border=\"1\" class=\"dataframe\">\n",
       "  <thead>\n",
       "    <tr style=\"text-align: right;\">\n",
       "      <th></th>\n",
       "      <th>Kar</th>\n",
       "    </tr>\n",
       "  </thead>\n",
       "  <tbody>\n",
       "    <tr>\n",
       "      <th>0</th>\n",
       "      <td>0.962894</td>\n",
       "    </tr>\n",
       "    <tr>\n",
       "      <th>1</th>\n",
       "      <td>1.166899</td>\n",
       "    </tr>\n",
       "    <tr>\n",
       "      <th>2</th>\n",
       "      <td>1.123762</td>\n",
       "    </tr>\n",
       "    <tr>\n",
       "      <th>3</th>\n",
       "      <td>0.952264</td>\n",
       "    </tr>\n",
       "    <tr>\n",
       "      <th>4</th>\n",
       "      <td>1.054611</td>\n",
       "    </tr>\n",
       "    <tr>\n",
       "      <th>5</th>\n",
       "      <td>1.185185</td>\n",
       "    </tr>\n",
       "    <tr>\n",
       "      <th>6</th>\n",
       "      <td>1.063722</td>\n",
       "    </tr>\n",
       "    <tr>\n",
       "      <th>7</th>\n",
       "      <td>1.130847</td>\n",
       "    </tr>\n",
       "    <tr>\n",
       "      <th>8</th>\n",
       "      <td>1.020927</td>\n",
       "    </tr>\n",
       "    <tr>\n",
       "      <th>9</th>\n",
       "      <td>0.954982</td>\n",
       "    </tr>\n",
       "    <tr>\n",
       "      <th>10</th>\n",
       "      <td>1.134209</td>\n",
       "    </tr>\n",
       "    <tr>\n",
       "      <th>11</th>\n",
       "      <td>1.190818</td>\n",
       "    </tr>\n",
       "    <tr>\n",
       "      <th>12</th>\n",
       "      <td>1.088421</td>\n",
       "    </tr>\n",
       "    <tr>\n",
       "      <th>13</th>\n",
       "      <td>1.066580</td>\n",
       "    </tr>\n",
       "    <tr>\n",
       "      <th>14</th>\n",
       "      <td>1.161269</td>\n",
       "    </tr>\n",
       "    <tr>\n",
       "      <th>15</th>\n",
       "      <td>1.245684</td>\n",
       "    </tr>\n",
       "  </tbody>\n",
       "</table>\n",
       "</div>"
      ],
      "text/plain": [
       "         Kar\n",
       "0   0.962894\n",
       "1   1.166899\n",
       "2   1.123762\n",
       "3   0.952264\n",
       "4   1.054611\n",
       "5   1.185185\n",
       "6   1.063722\n",
       "7   1.130847\n",
       "8   1.020927\n",
       "9   0.954982\n",
       "10  1.134209\n",
       "11  1.190818\n",
       "12  1.088421\n",
       "13  1.066580\n",
       "14  1.161269\n",
       "15  1.245684"
      ]
     },
     "execution_count": 134,
     "metadata": {},
     "output_type": "execute_result"
    }
   ],
   "source": [
    "df=pd.DataFrame()\n",
    "df[\"Kar\"]=res\n",
    "df"
   ]
  },
  {
   "cell_type": "code",
   "execution_count": 135,
   "metadata": {},
   "outputs": [],
   "source": [
    "res0=[100]\n",
    "for i in range(16):\n",
    "    res0.append(res0[i]*df[\"Kar\"].loc[i])\n"
   ]
  },
  {
   "cell_type": "code",
   "execution_count": 136,
   "metadata": {},
   "outputs": [
    {
     "data": {
      "text/html": [
       "<div>\n",
       "<style scoped>\n",
       "    .dataframe tbody tr th:only-of-type {\n",
       "        vertical-align: middle;\n",
       "    }\n",
       "\n",
       "    .dataframe tbody tr th {\n",
       "        vertical-align: top;\n",
       "    }\n",
       "\n",
       "    .dataframe thead th {\n",
       "        text-align: right;\n",
       "    }\n",
       "</style>\n",
       "<table border=\"1\" class=\"dataframe\">\n",
       "  <thead>\n",
       "    <tr style=\"text-align: right;\">\n",
       "      <th></th>\n",
       "      <th>Kar</th>\n",
       "      <th>Eldeki Para</th>\n",
       "    </tr>\n",
       "  </thead>\n",
       "  <tbody>\n",
       "    <tr>\n",
       "      <th>0</th>\n",
       "      <td>0.962894</td>\n",
       "      <td>96.289423</td>\n",
       "    </tr>\n",
       "    <tr>\n",
       "      <th>1</th>\n",
       "      <td>1.166899</td>\n",
       "      <td>112.359984</td>\n",
       "    </tr>\n",
       "    <tr>\n",
       "      <th>2</th>\n",
       "      <td>1.123762</td>\n",
       "      <td>126.265922</td>\n",
       "    </tr>\n",
       "    <tr>\n",
       "      <th>3</th>\n",
       "      <td>0.952264</td>\n",
       "      <td>120.238468</td>\n",
       "    </tr>\n",
       "    <tr>\n",
       "      <th>4</th>\n",
       "      <td>1.054611</td>\n",
       "      <td>126.804755</td>\n",
       "    </tr>\n",
       "    <tr>\n",
       "      <th>5</th>\n",
       "      <td>1.185185</td>\n",
       "      <td>150.287109</td>\n",
       "    </tr>\n",
       "    <tr>\n",
       "      <th>6</th>\n",
       "      <td>1.063722</td>\n",
       "      <td>159.863766</td>\n",
       "    </tr>\n",
       "    <tr>\n",
       "      <th>7</th>\n",
       "      <td>1.130847</td>\n",
       "      <td>180.781462</td>\n",
       "    </tr>\n",
       "    <tr>\n",
       "      <th>8</th>\n",
       "      <td>1.020927</td>\n",
       "      <td>184.564632</td>\n",
       "    </tr>\n",
       "    <tr>\n",
       "      <th>9</th>\n",
       "      <td>0.954982</td>\n",
       "      <td>176.255944</td>\n",
       "    </tr>\n",
       "    <tr>\n",
       "      <th>10</th>\n",
       "      <td>1.134209</td>\n",
       "      <td>199.911161</td>\n",
       "    </tr>\n",
       "    <tr>\n",
       "      <th>11</th>\n",
       "      <td>1.190818</td>\n",
       "      <td>238.057778</td>\n",
       "    </tr>\n",
       "    <tr>\n",
       "      <th>12</th>\n",
       "      <td>1.088421</td>\n",
       "      <td>259.107107</td>\n",
       "    </tr>\n",
       "    <tr>\n",
       "      <th>13</th>\n",
       "      <td>1.066580</td>\n",
       "      <td>276.358359</td>\n",
       "    </tr>\n",
       "    <tr>\n",
       "      <th>14</th>\n",
       "      <td>1.161269</td>\n",
       "      <td>320.926384</td>\n",
       "    </tr>\n",
       "    <tr>\n",
       "      <th>15</th>\n",
       "      <td>1.245684</td>\n",
       "      <td>399.772836</td>\n",
       "    </tr>\n",
       "  </tbody>\n",
       "</table>\n",
       "</div>"
      ],
      "text/plain": [
       "         Kar  Eldeki Para\n",
       "0   0.962894    96.289423\n",
       "1   1.166899   112.359984\n",
       "2   1.123762   126.265922\n",
       "3   0.952264   120.238468\n",
       "4   1.054611   126.804755\n",
       "5   1.185185   150.287109\n",
       "6   1.063722   159.863766\n",
       "7   1.130847   180.781462\n",
       "8   1.020927   184.564632\n",
       "9   0.954982   176.255944\n",
       "10  1.134209   199.911161\n",
       "11  1.190818   238.057778\n",
       "12  1.088421   259.107107\n",
       "13  1.066580   276.358359\n",
       "14  1.161269   320.926384\n",
       "15  1.245684   399.772836"
      ]
     },
     "execution_count": 136,
     "metadata": {},
     "output_type": "execute_result"
    }
   ],
   "source": [
    "df[\"Eldeki Para\"]=res0[1:]\n",
    "df"
   ]
  },
  {
   "cell_type": "code",
   "execution_count": 137,
   "metadata": {},
   "outputs": [
    {
     "name": "stdout",
     "output_type": "stream",
     "text": [
      "Karlılık oranı % 299.77283578793737\n"
     ]
    }
   ],
   "source": [
    "karlilik=df[\"Eldeki Para\"].iloc[-1]/100\n",
    "karlilik=(karlilik-1)*100\n",
    "print(\"Karlılık oranı %\",karlilik)"
   ]
  },
  {
   "attachments": {},
   "cell_type": "markdown",
   "metadata": {},
   "source": [
    "## Her sat tavsiyesinde satmayıp 2.sat tavsiyesinde satarsak ne olur?(Yani 1 adet sat tavsiyesini pas geçersek)"
   ]
  },
  {
   "cell_type": "code",
   "execution_count": 138,
   "metadata": {},
   "outputs": [],
   "source": [
    "sat_val2=sat_val[1:16:2]"
   ]
  },
  {
   "cell_type": "code",
   "execution_count": 139,
   "metadata": {},
   "outputs": [
    {
     "data": {
      "text/plain": [
       "array([16.78000069, 19.35000038, 32.63999939, 35.77999878, 37.75999832,\n",
       "       83.        , 81.69999695, 93.80000305])"
      ]
     },
     "execution_count": 139,
     "metadata": {},
     "output_type": "execute_result"
    }
   ],
   "source": [
    "sat_val2"
   ]
  },
  {
   "cell_type": "code",
   "execution_count": 140,
   "metadata": {},
   "outputs": [
    {
     "data": {
      "text/plain": [
       "array([16.17000008, 20.20000076, 22.34000015, 31.70000076, 40.13999939,\n",
       "       46.41999817, 71.25      , 75.65000153])"
      ]
     },
     "execution_count": 140,
     "metadata": {},
     "output_type": "execute_result"
    }
   ],
   "source": [
    "al_val2=al_val[0:16:2]\n",
    "al_val2"
   ]
  },
  {
   "cell_type": "code",
   "execution_count": 141,
   "metadata": {},
   "outputs": [],
   "source": [
    "res1=[]\n",
    "\n",
    "for i in range(7):\n",
    "    res1.append((sat_val2[i]/al_val2[i]))"
   ]
  },
  {
   "cell_type": "code",
   "execution_count": 142,
   "metadata": {},
   "outputs": [
    {
     "data": {
      "text/html": [
       "<div>\n",
       "<style scoped>\n",
       "    .dataframe tbody tr th:only-of-type {\n",
       "        vertical-align: middle;\n",
       "    }\n",
       "\n",
       "    .dataframe tbody tr th {\n",
       "        vertical-align: top;\n",
       "    }\n",
       "\n",
       "    .dataframe thead th {\n",
       "        text-align: right;\n",
       "    }\n",
       "</style>\n",
       "<table border=\"1\" class=\"dataframe\">\n",
       "  <thead>\n",
       "    <tr style=\"text-align: right;\">\n",
       "      <th></th>\n",
       "      <th>Kar</th>\n",
       "    </tr>\n",
       "  </thead>\n",
       "  <tbody>\n",
       "    <tr>\n",
       "      <th>0</th>\n",
       "      <td>1.037724</td>\n",
       "    </tr>\n",
       "    <tr>\n",
       "      <th>1</th>\n",
       "      <td>0.957921</td>\n",
       "    </tr>\n",
       "    <tr>\n",
       "      <th>2</th>\n",
       "      <td>1.461056</td>\n",
       "    </tr>\n",
       "    <tr>\n",
       "      <th>3</th>\n",
       "      <td>1.128707</td>\n",
       "    </tr>\n",
       "    <tr>\n",
       "      <th>4</th>\n",
       "      <td>0.940707</td>\n",
       "    </tr>\n",
       "    <tr>\n",
       "      <th>5</th>\n",
       "      <td>1.788022</td>\n",
       "    </tr>\n",
       "    <tr>\n",
       "      <th>6</th>\n",
       "      <td>1.146667</td>\n",
       "    </tr>\n",
       "  </tbody>\n",
       "</table>\n",
       "</div>"
      ],
      "text/plain": [
       "        Kar\n",
       "0  1.037724\n",
       "1  0.957921\n",
       "2  1.461056\n",
       "3  1.128707\n",
       "4  0.940707\n",
       "5  1.788022\n",
       "6  1.146667"
      ]
     },
     "execution_count": 142,
     "metadata": {},
     "output_type": "execute_result"
    }
   ],
   "source": [
    "df1=pd.DataFrame()\n",
    "df1[\"Kar\"]=res1\n",
    "df1"
   ]
  },
  {
   "cell_type": "code",
   "execution_count": 143,
   "metadata": {},
   "outputs": [],
   "source": [
    "res2=[100]\n",
    "for i in range(7):\n",
    "    res2.append(res2[i]*df1[\"Kar\"].loc[i])\n",
    "\n",
    "\n"
   ]
  },
  {
   "cell_type": "code",
   "execution_count": 144,
   "metadata": {},
   "outputs": [
    {
     "data": {
      "text/html": [
       "<div>\n",
       "<style scoped>\n",
       "    .dataframe tbody tr th:only-of-type {\n",
       "        vertical-align: middle;\n",
       "    }\n",
       "\n",
       "    .dataframe tbody tr th {\n",
       "        vertical-align: top;\n",
       "    }\n",
       "\n",
       "    .dataframe thead th {\n",
       "        text-align: right;\n",
       "    }\n",
       "</style>\n",
       "<table border=\"1\" class=\"dataframe\">\n",
       "  <thead>\n",
       "    <tr style=\"text-align: right;\">\n",
       "      <th></th>\n",
       "      <th>Kar</th>\n",
       "      <th>Eldeki Para</th>\n",
       "    </tr>\n",
       "  </thead>\n",
       "  <tbody>\n",
       "    <tr>\n",
       "      <th>0</th>\n",
       "      <td>1.037724</td>\n",
       "      <td>103.772422</td>\n",
       "    </tr>\n",
       "    <tr>\n",
       "      <th>1</th>\n",
       "      <td>0.957921</td>\n",
       "      <td>99.405759</td>\n",
       "    </tr>\n",
       "    <tr>\n",
       "      <th>2</th>\n",
       "      <td>1.461056</td>\n",
       "      <td>145.237416</td>\n",
       "    </tr>\n",
       "    <tr>\n",
       "      <th>3</th>\n",
       "      <td>1.128707</td>\n",
       "      <td>163.930424</td>\n",
       "    </tr>\n",
       "    <tr>\n",
       "      <th>4</th>\n",
       "      <td>0.940707</td>\n",
       "      <td>154.210579</td>\n",
       "    </tr>\n",
       "    <tr>\n",
       "      <th>5</th>\n",
       "      <td>1.788022</td>\n",
       "      <td>275.731981</td>\n",
       "    </tr>\n",
       "    <tr>\n",
       "      <th>6</th>\n",
       "      <td>1.146667</td>\n",
       "      <td>316.172660</td>\n",
       "    </tr>\n",
       "  </tbody>\n",
       "</table>\n",
       "</div>"
      ],
      "text/plain": [
       "        Kar  Eldeki Para\n",
       "0  1.037724   103.772422\n",
       "1  0.957921    99.405759\n",
       "2  1.461056   145.237416\n",
       "3  1.128707   163.930424\n",
       "4  0.940707   154.210579\n",
       "5  1.788022   275.731981\n",
       "6  1.146667   316.172660"
      ]
     },
     "execution_count": 144,
     "metadata": {},
     "output_type": "execute_result"
    }
   ],
   "source": [
    "df1[\"Eldeki Para\"]=res2[1:]\n",
    "df1\n"
   ]
  },
  {
   "cell_type": "code",
   "execution_count": 145,
   "metadata": {},
   "outputs": [
    {
     "name": "stdout",
     "output_type": "stream",
     "text": [
      "Karlılık oranı % 216.1726600763178\n"
     ]
    }
   ],
   "source": [
    "karlilik=df1[\"Eldeki Para\"].iloc[-1]/100\n",
    "karlilik=(karlilik-1)*100\n",
    "print(\"Karlılık oranı %\",karlilik)"
   ]
  }
 ],
 "metadata": {
  "kernelspec": {
   "display_name": "Python 3",
   "language": "python",
   "name": "python3"
  },
  "language_info": {
   "codemirror_mode": {
    "name": "ipython",
    "version": 3
   },
   "file_extension": ".py",
   "mimetype": "text/x-python",
   "name": "python",
   "nbconvert_exporter": "python",
   "pygments_lexer": "ipython3",
   "version": "3.7.6"
  },
  "orig_nbformat": 4,
  "vscode": {
   "interpreter": {
    "hash": "f4b4c62aaa4875226db85e6b013b122e2774d7746e898ecdc06b2fc04bd17fe2"
   }
  }
 },
 "nbformat": 4,
 "nbformat_minor": 2
}
