{
 "cells": [
  {
   "cell_type": "markdown",
   "metadata": {},
   "source": []
  },
  {
   "cell_type": "code",
   "execution_count": 1,
   "metadata": {},
   "outputs": [],
   "source": [
    "import numpy as np\n",
    "import pandas as pd\n",
    "import matplotlib.pyplot as plt\n",
    "import plotly.graph_objects as go\n",
    "from time import sleep\n",
    "import socket,time,requests\n",
    "from bs4 import BeautifulSoup\n",
    "import tkinter as tk\n",
    "from datetime import date\n",
    "\n",
    "\n",
    "\n",
    "\n",
    "url=\"https://uzmanpara.milliyet.com.tr/canli-borsa/bist-TUM-hisseleri/\"\n",
    "r=requests.get(url)\n",
    "soup=BeautifulSoup(r.content,\"html.parser\")\n",
    "\n",
    "bs=BeautifulSoup(r.content, \"lxml\")\n",
    "data=soup.find(\"div\",{\"class\":\"box box10 last\"})\n",
    "\n"
   ]
  },
  {
   "cell_type": "code",
   "execution_count": 8,
   "metadata": {},
   "outputs": [],
   "source": [
    "data=soup.find(\"tr\",{\"id\":\"h_tr_id_KCHOL\"})\n"
   ]
  },
  {
   "cell_type": "code",
   "execution_count": 9,
   "metadata": {},
   "outputs": [],
   "source": [
    "data=soup.find(\"td\",{\"id\":\"h_td_fiyat_id_KCHOL\"})\n",
    "text=data.text"
   ]
  },
  {
   "cell_type": "code",
   "execution_count": 10,
   "metadata": {},
   "outputs": [
    {
     "data": {
      "text/plain": [
       "99.4"
      ]
     },
     "execution_count": 10,
     "metadata": {},
     "output_type": "execute_result"
    }
   ],
   "source": [
    "text=text.replace(',', '.')\n",
    "text=float(text)\n",
    "text"
   ]
  },
  {
   "cell_type": "code",
   "execution_count": 11,
   "metadata": {},
   "outputs": [],
   "source": [
    "kchol=pd.read_csv(\"/Users/Bora/Documents/GitHub/Borsa-Hisse-Analizi/kchol.csv\")\n",
    "kchol.index=pd.to_datetime(kchol[\"Date\"])\n"
   ]
  },
  {
   "cell_type": "code",
   "execution_count": 3,
   "metadata": {},
   "outputs": [],
   "source": [
    "del kchol[\"Date\"]"
   ]
  },
  {
   "cell_type": "code",
   "execution_count": 4,
   "metadata": {},
   "outputs": [],
   "source": [
    "kchol=pd.DataFrame(kchol)"
   ]
  },
  {
   "cell_type": "code",
   "execution_count": 5,
   "metadata": {},
   "outputs": [
    {
     "data": {
      "text/html": [
       "<div>\n",
       "<style scoped>\n",
       "    .dataframe tbody tr th:only-of-type {\n",
       "        vertical-align: middle;\n",
       "    }\n",
       "\n",
       "    .dataframe tbody tr th {\n",
       "        vertical-align: top;\n",
       "    }\n",
       "\n",
       "    .dataframe thead th {\n",
       "        text-align: right;\n",
       "    }\n",
       "</style>\n",
       "<table border=\"1\" class=\"dataframe\">\n",
       "  <thead>\n",
       "    <tr style=\"text-align: right;\">\n",
       "      <th></th>\n",
       "      <th>Price</th>\n",
       "      <th>Open</th>\n",
       "      <th>High</th>\n",
       "      <th>Low</th>\n",
       "      <th>Vol.</th>\n",
       "      <th>Change %</th>\n",
       "    </tr>\n",
       "    <tr>\n",
       "      <th>Date</th>\n",
       "      <th></th>\n",
       "      <th></th>\n",
       "      <th></th>\n",
       "      <th></th>\n",
       "      <th></th>\n",
       "      <th></th>\n",
       "    </tr>\n",
       "  </thead>\n",
       "  <tbody>\n",
       "    <tr>\n",
       "      <th>2021-01-04</th>\n",
       "      <td>20.08</td>\n",
       "      <td>20.00</td>\n",
       "      <td>20.36</td>\n",
       "      <td>19.93</td>\n",
       "      <td>10.53M</td>\n",
       "      <td>0.40%</td>\n",
       "    </tr>\n",
       "    <tr>\n",
       "      <th>2021-01-05</th>\n",
       "      <td>20.02</td>\n",
       "      <td>19.89</td>\n",
       "      <td>20.46</td>\n",
       "      <td>19.76</td>\n",
       "      <td>15.65M</td>\n",
       "      <td>-0.30%</td>\n",
       "    </tr>\n",
       "    <tr>\n",
       "      <th>2021-01-06</th>\n",
       "      <td>20.02</td>\n",
       "      <td>20.12</td>\n",
       "      <td>20.21</td>\n",
       "      <td>19.76</td>\n",
       "      <td>12.23M</td>\n",
       "      <td>0.00%</td>\n",
       "    </tr>\n",
       "    <tr>\n",
       "      <th>2021-01-07</th>\n",
       "      <td>19.98</td>\n",
       "      <td>20.08</td>\n",
       "      <td>20.14</td>\n",
       "      <td>19.78</td>\n",
       "      <td>7.91M</td>\n",
       "      <td>-0.20%</td>\n",
       "    </tr>\n",
       "    <tr>\n",
       "      <th>2021-01-08</th>\n",
       "      <td>20.38</td>\n",
       "      <td>20.10</td>\n",
       "      <td>20.38</td>\n",
       "      <td>20.00</td>\n",
       "      <td>10.36M</td>\n",
       "      <td>2.00%</td>\n",
       "    </tr>\n",
       "    <tr>\n",
       "      <th>...</th>\n",
       "      <td>...</td>\n",
       "      <td>...</td>\n",
       "      <td>...</td>\n",
       "      <td>...</td>\n",
       "      <td>...</td>\n",
       "      <td>...</td>\n",
       "    </tr>\n",
       "    <tr>\n",
       "      <th>2023-06-12</th>\n",
       "      <td>101.00</td>\n",
       "      <td>104.60</td>\n",
       "      <td>105.50</td>\n",
       "      <td>101.00</td>\n",
       "      <td>22.71M</td>\n",
       "      <td>-2.51%</td>\n",
       "    </tr>\n",
       "    <tr>\n",
       "      <th>2023-06-13</th>\n",
       "      <td>99.60</td>\n",
       "      <td>100.60</td>\n",
       "      <td>102.50</td>\n",
       "      <td>97.70</td>\n",
       "      <td>30.46M</td>\n",
       "      <td>-1.39%</td>\n",
       "    </tr>\n",
       "    <tr>\n",
       "      <th>2023-06-14</th>\n",
       "      <td>99.30</td>\n",
       "      <td>99.95</td>\n",
       "      <td>103.60</td>\n",
       "      <td>98.30</td>\n",
       "      <td>32.30M</td>\n",
       "      <td>-0.30%</td>\n",
       "    </tr>\n",
       "    <tr>\n",
       "      <th>2023-06-15</th>\n",
       "      <td>101.00</td>\n",
       "      <td>99.80</td>\n",
       "      <td>101.10</td>\n",
       "      <td>98.85</td>\n",
       "      <td>25.99M</td>\n",
       "      <td>1.71%</td>\n",
       "    </tr>\n",
       "    <tr>\n",
       "      <th>2023-06-16</th>\n",
       "      <td>99.40</td>\n",
       "      <td>101.30</td>\n",
       "      <td>102.10</td>\n",
       "      <td>99.40</td>\n",
       "      <td>22.48M</td>\n",
       "      <td>-1.58%</td>\n",
       "    </tr>\n",
       "  </tbody>\n",
       "</table>\n",
       "<p>614 rows × 6 columns</p>\n",
       "</div>"
      ],
      "text/plain": [
       "             Price    Open    High     Low    Vol. Change %\n",
       "Date                                                       \n",
       "2021-01-04   20.08   20.00   20.36   19.93  10.53M    0.40%\n",
       "2021-01-05   20.02   19.89   20.46   19.76  15.65M   -0.30%\n",
       "2021-01-06   20.02   20.12   20.21   19.76  12.23M    0.00%\n",
       "2021-01-07   19.98   20.08   20.14   19.78   7.91M   -0.20%\n",
       "2021-01-08   20.38   20.10   20.38   20.00  10.36M    2.00%\n",
       "...            ...     ...     ...     ...     ...      ...\n",
       "2023-06-12  101.00  104.60  105.50  101.00  22.71M   -2.51%\n",
       "2023-06-13   99.60  100.60  102.50   97.70  30.46M   -1.39%\n",
       "2023-06-14   99.30   99.95  103.60   98.30  32.30M   -0.30%\n",
       "2023-06-15  101.00   99.80  101.10   98.85  25.99M    1.71%\n",
       "2023-06-16   99.40  101.30  102.10   99.40  22.48M   -1.58%\n",
       "\n",
       "[614 rows x 6 columns]"
      ]
     },
     "execution_count": 5,
     "metadata": {},
     "output_type": "execute_result"
    }
   ],
   "source": [
    "kchol"
   ]
  },
  {
   "cell_type": "code",
   "execution_count": 6,
   "metadata": {},
   "outputs": [
    {
     "data": {
      "text/html": [
       "<div>\n",
       "<style scoped>\n",
       "    .dataframe tbody tr th:only-of-type {\n",
       "        vertical-align: middle;\n",
       "    }\n",
       "\n",
       "    .dataframe tbody tr th {\n",
       "        vertical-align: top;\n",
       "    }\n",
       "\n",
       "    .dataframe thead th {\n",
       "        text-align: right;\n",
       "    }\n",
       "</style>\n",
       "<table border=\"1\" class=\"dataframe\">\n",
       "  <thead>\n",
       "    <tr style=\"text-align: right;\">\n",
       "      <th></th>\n",
       "      <th>Price</th>\n",
       "    </tr>\n",
       "    <tr>\n",
       "      <th>Date</th>\n",
       "      <th></th>\n",
       "    </tr>\n",
       "  </thead>\n",
       "  <tbody>\n",
       "    <tr>\n",
       "      <th>2021-01-04</th>\n",
       "      <td>20.08</td>\n",
       "    </tr>\n",
       "    <tr>\n",
       "      <th>2021-01-05</th>\n",
       "      <td>20.02</td>\n",
       "    </tr>\n",
       "    <tr>\n",
       "      <th>2021-01-06</th>\n",
       "      <td>20.02</td>\n",
       "    </tr>\n",
       "    <tr>\n",
       "      <th>2021-01-07</th>\n",
       "      <td>19.98</td>\n",
       "    </tr>\n",
       "    <tr>\n",
       "      <th>2021-01-08</th>\n",
       "      <td>20.38</td>\n",
       "    </tr>\n",
       "    <tr>\n",
       "      <th>...</th>\n",
       "      <td>...</td>\n",
       "    </tr>\n",
       "    <tr>\n",
       "      <th>2023-06-12</th>\n",
       "      <td>101.00</td>\n",
       "    </tr>\n",
       "    <tr>\n",
       "      <th>2023-06-13</th>\n",
       "      <td>99.60</td>\n",
       "    </tr>\n",
       "    <tr>\n",
       "      <th>2023-06-14</th>\n",
       "      <td>99.30</td>\n",
       "    </tr>\n",
       "    <tr>\n",
       "      <th>2023-06-15</th>\n",
       "      <td>101.00</td>\n",
       "    </tr>\n",
       "    <tr>\n",
       "      <th>2023-06-16</th>\n",
       "      <td>99.40</td>\n",
       "    </tr>\n",
       "  </tbody>\n",
       "</table>\n",
       "<p>614 rows × 1 columns</p>\n",
       "</div>"
      ],
      "text/plain": [
       "             Price\n",
       "Date              \n",
       "2021-01-04   20.08\n",
       "2021-01-05   20.02\n",
       "2021-01-06   20.02\n",
       "2021-01-07   19.98\n",
       "2021-01-08   20.38\n",
       "...            ...\n",
       "2023-06-12  101.00\n",
       "2023-06-13   99.60\n",
       "2023-06-14   99.30\n",
       "2023-06-15  101.00\n",
       "2023-06-16   99.40\n",
       "\n",
       "[614 rows x 1 columns]"
      ]
     },
     "execution_count": 6,
     "metadata": {},
     "output_type": "execute_result"
    }
   ],
   "source": [
    "close=pd.DataFrame(kchol[\"Price\"])\n",
    "\n",
    "close\n"
   ]
  },
  {
   "cell_type": "code",
   "execution_count": 12,
   "metadata": {},
   "outputs": [
    {
     "data": {
      "text/html": [
       "<div>\n",
       "<style scoped>\n",
       "    .dataframe tbody tr th:only-of-type {\n",
       "        vertical-align: middle;\n",
       "    }\n",
       "\n",
       "    .dataframe tbody tr th {\n",
       "        vertical-align: top;\n",
       "    }\n",
       "\n",
       "    .dataframe thead th {\n",
       "        text-align: right;\n",
       "    }\n",
       "</style>\n",
       "<table border=\"1\" class=\"dataframe\">\n",
       "  <thead>\n",
       "    <tr style=\"text-align: right;\">\n",
       "      <th></th>\n",
       "      <th>Date</th>\n",
       "      <th>Price</th>\n",
       "    </tr>\n",
       "  </thead>\n",
       "  <tbody>\n",
       "    <tr>\n",
       "      <th>0</th>\n",
       "      <td>2023-06-18</td>\n",
       "      <td>99.4</td>\n",
       "    </tr>\n",
       "  </tbody>\n",
       "</table>\n",
       "</div>"
      ],
      "text/plain": [
       "         Date Price\n",
       "0  2023-06-18  99.4"
      ]
     },
     "execution_count": 12,
     "metadata": {},
     "output_type": "execute_result"
    }
   ],
   "source": [
    "dict={'Date':date.today(),'Price':text}\n",
    "df=pd.DataFrame.from_dict(dict,orient=\"index\")\n",
    "df=df.T\n",
    "df.reset_index()\n",
    "df"
   ]
  },
  {
   "cell_type": "code",
   "execution_count": 13,
   "metadata": {},
   "outputs": [
    {
     "data": {
      "text/html": [
       "<div>\n",
       "<style scoped>\n",
       "    .dataframe tbody tr th:only-of-type {\n",
       "        vertical-align: middle;\n",
       "    }\n",
       "\n",
       "    .dataframe tbody tr th {\n",
       "        vertical-align: top;\n",
       "    }\n",
       "\n",
       "    .dataframe thead th {\n",
       "        text-align: right;\n",
       "    }\n",
       "</style>\n",
       "<table border=\"1\" class=\"dataframe\">\n",
       "  <thead>\n",
       "    <tr style=\"text-align: right;\">\n",
       "      <th></th>\n",
       "      <th>Date</th>\n",
       "      <th>Price</th>\n",
       "    </tr>\n",
       "  </thead>\n",
       "  <tbody>\n",
       "    <tr>\n",
       "      <th>0</th>\n",
       "      <td>2023-06-18</td>\n",
       "      <td>99.4</td>\n",
       "    </tr>\n",
       "  </tbody>\n",
       "</table>\n",
       "</div>"
      ],
      "text/plain": [
       "         Date Price\n",
       "0  2023-06-18  99.4"
      ]
     },
     "execution_count": 13,
     "metadata": {},
     "output_type": "execute_result"
    }
   ],
   "source": [
    "df.set_index=df[\"Date\"]\n",
    "df"
   ]
  },
  {
   "cell_type": "code",
   "execution_count": 14,
   "metadata": {},
   "outputs": [],
   "source": [
    "df.index=df[\"Date\"]"
   ]
  },
  {
   "cell_type": "code",
   "execution_count": 15,
   "metadata": {},
   "outputs": [],
   "source": [
    "del df[\"Date\"]"
   ]
  },
  {
   "cell_type": "code",
   "execution_count": 16,
   "metadata": {},
   "outputs": [
    {
     "data": {
      "text/html": [
       "<div>\n",
       "<style scoped>\n",
       "    .dataframe tbody tr th:only-of-type {\n",
       "        vertical-align: middle;\n",
       "    }\n",
       "\n",
       "    .dataframe tbody tr th {\n",
       "        vertical-align: top;\n",
       "    }\n",
       "\n",
       "    .dataframe thead th {\n",
       "        text-align: right;\n",
       "    }\n",
       "</style>\n",
       "<table border=\"1\" class=\"dataframe\">\n",
       "  <thead>\n",
       "    <tr style=\"text-align: right;\">\n",
       "      <th></th>\n",
       "      <th>Price</th>\n",
       "    </tr>\n",
       "    <tr>\n",
       "      <th>Date</th>\n",
       "      <th></th>\n",
       "    </tr>\n",
       "  </thead>\n",
       "  <tbody>\n",
       "    <tr>\n",
       "      <th>2023-06-18</th>\n",
       "      <td>99.4</td>\n",
       "    </tr>\n",
       "  </tbody>\n",
       "</table>\n",
       "</div>"
      ],
      "text/plain": [
       "           Price\n",
       "Date            \n",
       "2023-06-18  99.4"
      ]
     },
     "execution_count": 16,
     "metadata": {},
     "output_type": "execute_result"
    }
   ],
   "source": [
    "df.index=pd.to_datetime(df.index)\n",
    "df"
   ]
  },
  {
   "cell_type": "code",
   "execution_count": 15,
   "metadata": {},
   "outputs": [
    {
     "data": {
      "text/html": [
       "<div>\n",
       "<style scoped>\n",
       "    .dataframe tbody tr th:only-of-type {\n",
       "        vertical-align: middle;\n",
       "    }\n",
       "\n",
       "    .dataframe tbody tr th {\n",
       "        vertical-align: top;\n",
       "    }\n",
       "\n",
       "    .dataframe thead th {\n",
       "        text-align: right;\n",
       "    }\n",
       "</style>\n",
       "<table border=\"1\" class=\"dataframe\">\n",
       "  <thead>\n",
       "    <tr style=\"text-align: right;\">\n",
       "      <th></th>\n",
       "      <th>Price</th>\n",
       "    </tr>\n",
       "    <tr>\n",
       "      <th>Date</th>\n",
       "      <th></th>\n",
       "    </tr>\n",
       "  </thead>\n",
       "  <tbody>\n",
       "    <tr>\n",
       "      <th>2021-01-04</th>\n",
       "      <td>20.08</td>\n",
       "    </tr>\n",
       "    <tr>\n",
       "      <th>2021-01-05</th>\n",
       "      <td>20.02</td>\n",
       "    </tr>\n",
       "    <tr>\n",
       "      <th>2021-01-06</th>\n",
       "      <td>20.02</td>\n",
       "    </tr>\n",
       "    <tr>\n",
       "      <th>2021-01-07</th>\n",
       "      <td>19.98</td>\n",
       "    </tr>\n",
       "    <tr>\n",
       "      <th>2021-01-08</th>\n",
       "      <td>20.38</td>\n",
       "    </tr>\n",
       "    <tr>\n",
       "      <th>...</th>\n",
       "      <td>...</td>\n",
       "    </tr>\n",
       "    <tr>\n",
       "      <th>2023-06-13</th>\n",
       "      <td>99.6</td>\n",
       "    </tr>\n",
       "    <tr>\n",
       "      <th>2023-06-14</th>\n",
       "      <td>99.3</td>\n",
       "    </tr>\n",
       "    <tr>\n",
       "      <th>2023-06-15</th>\n",
       "      <td>101.0</td>\n",
       "    </tr>\n",
       "    <tr>\n",
       "      <th>2023-06-16</th>\n",
       "      <td>99.4</td>\n",
       "    </tr>\n",
       "    <tr>\n",
       "      <th>2023-06-18</th>\n",
       "      <td>99.4</td>\n",
       "    </tr>\n",
       "  </tbody>\n",
       "</table>\n",
       "<p>615 rows × 1 columns</p>\n",
       "</div>"
      ],
      "text/plain": [
       "            Price\n",
       "Date             \n",
       "2021-01-04  20.08\n",
       "2021-01-05  20.02\n",
       "2021-01-06  20.02\n",
       "2021-01-07  19.98\n",
       "2021-01-08  20.38\n",
       "...           ...\n",
       "2023-06-13   99.6\n",
       "2023-06-14   99.3\n",
       "2023-06-15  101.0\n",
       "2023-06-16   99.4\n",
       "2023-06-18   99.4\n",
       "\n",
       "[615 rows x 1 columns]"
      ]
     },
     "execution_count": 15,
     "metadata": {},
     "output_type": "execute_result"
    }
   ],
   "source": [
    "close=pd.concat([close,df])\n",
    "close"
   ]
  },
  {
   "cell_type": "code",
   "execution_count": 17,
   "metadata": {},
   "outputs": [],
   "source": [
    "rolling_app5=close.rolling(window=10).mean()\n",
    "rolling_app14=close.rolling(window=25).mean()\n",
    "rolling_app21=close.rolling(window=45).mean()\n",
    "\n"
   ]
  },
  {
   "cell_type": "code",
   "execution_count": 18,
   "metadata": {},
   "outputs": [],
   "source": [
    "MAs=pd.concat([close,rolling_app5,rolling_app14,rolling_app21],axis=1)\n",
    "MAs.columns=[\"Close\",\"short\",\"mid\",\"long\"]\n"
   ]
  },
  {
   "cell_type": "code",
   "execution_count": 19,
   "metadata": {},
   "outputs": [
    {
     "data": {
      "text/html": [
       "<div>\n",
       "<style scoped>\n",
       "    .dataframe tbody tr th:only-of-type {\n",
       "        vertical-align: middle;\n",
       "    }\n",
       "\n",
       "    .dataframe tbody tr th {\n",
       "        vertical-align: top;\n",
       "    }\n",
       "\n",
       "    .dataframe thead th {\n",
       "        text-align: right;\n",
       "    }\n",
       "</style>\n",
       "<table border=\"1\" class=\"dataframe\">\n",
       "  <thead>\n",
       "    <tr style=\"text-align: right;\">\n",
       "      <th></th>\n",
       "      <th>Close</th>\n",
       "      <th>short</th>\n",
       "      <th>mid</th>\n",
       "      <th>long</th>\n",
       "    </tr>\n",
       "    <tr>\n",
       "      <th>Date</th>\n",
       "      <th></th>\n",
       "      <th></th>\n",
       "      <th></th>\n",
       "      <th></th>\n",
       "    </tr>\n",
       "  </thead>\n",
       "  <tbody>\n",
       "    <tr>\n",
       "      <th>2021-03-05</th>\n",
       "      <td>21.86</td>\n",
       "      <td>21.491</td>\n",
       "      <td>21.0328</td>\n",
       "      <td>20.761778</td>\n",
       "    </tr>\n",
       "    <tr>\n",
       "      <th>2021-03-08</th>\n",
       "      <td>21.37</td>\n",
       "      <td>21.436</td>\n",
       "      <td>21.1132</td>\n",
       "      <td>20.790444</td>\n",
       "    </tr>\n",
       "    <tr>\n",
       "      <th>2021-03-09</th>\n",
       "      <td>22.03</td>\n",
       "      <td>21.510</td>\n",
       "      <td>21.2140</td>\n",
       "      <td>20.835111</td>\n",
       "    </tr>\n",
       "    <tr>\n",
       "      <th>2021-03-10</th>\n",
       "      <td>22.20</td>\n",
       "      <td>21.631</td>\n",
       "      <td>21.2896</td>\n",
       "      <td>20.883556</td>\n",
       "    </tr>\n",
       "    <tr>\n",
       "      <th>2021-03-11</th>\n",
       "      <td>22.12</td>\n",
       "      <td>21.703</td>\n",
       "      <td>21.3576</td>\n",
       "      <td>20.931111</td>\n",
       "    </tr>\n",
       "    <tr>\n",
       "      <th>...</th>\n",
       "      <td>...</td>\n",
       "      <td>...</td>\n",
       "      <td>...</td>\n",
       "      <td>...</td>\n",
       "    </tr>\n",
       "    <tr>\n",
       "      <th>2023-06-12</th>\n",
       "      <td>101.00</td>\n",
       "      <td>91.825</td>\n",
       "      <td>85.6180</td>\n",
       "      <td>82.452222</td>\n",
       "    </tr>\n",
       "    <tr>\n",
       "      <th>2023-06-13</th>\n",
       "      <td>99.60</td>\n",
       "      <td>93.670</td>\n",
       "      <td>86.3780</td>\n",
       "      <td>82.932222</td>\n",
       "    </tr>\n",
       "    <tr>\n",
       "      <th>2023-06-14</th>\n",
       "      <td>99.30</td>\n",
       "      <td>95.720</td>\n",
       "      <td>86.8760</td>\n",
       "      <td>83.415556</td>\n",
       "    </tr>\n",
       "    <tr>\n",
       "      <th>2023-06-15</th>\n",
       "      <td>101.00</td>\n",
       "      <td>97.770</td>\n",
       "      <td>87.4020</td>\n",
       "      <td>83.882222</td>\n",
       "    </tr>\n",
       "    <tr>\n",
       "      <th>2023-06-16</th>\n",
       "      <td>99.40</td>\n",
       "      <td>99.180</td>\n",
       "      <td>87.5140</td>\n",
       "      <td>84.275556</td>\n",
       "    </tr>\n",
       "  </tbody>\n",
       "</table>\n",
       "<p>570 rows × 4 columns</p>\n",
       "</div>"
      ],
      "text/plain": [
       "             Close   short      mid       long\n",
       "Date                                          \n",
       "2021-03-05   21.86  21.491  21.0328  20.761778\n",
       "2021-03-08   21.37  21.436  21.1132  20.790444\n",
       "2021-03-09   22.03  21.510  21.2140  20.835111\n",
       "2021-03-10   22.20  21.631  21.2896  20.883556\n",
       "2021-03-11   22.12  21.703  21.3576  20.931111\n",
       "...            ...     ...      ...        ...\n",
       "2023-06-12  101.00  91.825  85.6180  82.452222\n",
       "2023-06-13   99.60  93.670  86.3780  82.932222\n",
       "2023-06-14   99.30  95.720  86.8760  83.415556\n",
       "2023-06-15  101.00  97.770  87.4020  83.882222\n",
       "2023-06-16   99.40  99.180  87.5140  84.275556\n",
       "\n",
       "[570 rows x 4 columns]"
      ]
     },
     "execution_count": 19,
     "metadata": {},
     "output_type": "execute_result"
    }
   ],
   "source": [
    "MAs.dropna(axis=0,inplace=True)\n",
    "MAs"
   ]
  },
  {
   "cell_type": "code",
   "execution_count": 20,
   "metadata": {},
   "outputs": [
    {
     "data": {
      "text/plain": [
       "<matplotlib.legend.Legend at 0x255f6c08>"
      ]
     },
     "execution_count": 20,
     "metadata": {},
     "output_type": "execute_result"
    },
    {
     "data": {
      "image/png": "[encoded data removed]",
      "text/plain": [
       "<Figure size 1200x400 with 1 Axes>"
      ]
     },
     "metadata": {},
     "output_type": "display_data"
    }
   ],
   "source": [
    "fig,ax=plt.subplots(figsize=(12,4))\n",
    "ax.plot(close.index,close,label='KCHOL')\n",
    "ax.plot(rolling_app5.index,rolling_app5,label='10 Günlük Ortalama')\n",
    "ax.plot(rolling_app14.index,rolling_app14,label='25 Günlük Ortalama')\n",
    "ax.plot(rolling_app21.index,rolling_app21,label='45 Günlük Ortalama')\n",
    "ax.legend(loc='upper left')\n"
   ]
  },
  {
   "cell_type": "code",
   "execution_count": 68,
   "metadata": {},
   "outputs": [],
   "source": [
    "def buy_sell(data,perc=25):\n",
    "    buy_sell=[]\n",
    "    buy_signal=[]\n",
    "    sell_signal=[]\n",
    "    flag=42\n",
    "\n",
    "    sm=np.abs(np.percentile(np.array(data[\"short\"]-data[\"mid\"]),perc))\n",
    "    sl=np.abs(np.percentile(np.array(data[\"short\"]-data[\"long\"]),perc))\n",
    "\n",
    "    for i in range(0,len(data)):\n",
    "        if (data[\"short\"][i]>data[\"mid\"][i]+sm) & (data[\"short\"][i]>data[\"long\"][i]+sl):\n",
    "            buy_signal.append(np.nan)\n",
    "            if flag !=1:\n",
    "                sell_signal.append(data[\"Close\"][i])\n",
    "                buy_sell.append(data[\"Close\"][i])\n",
    "                flag=1\n",
    "            else:\n",
    "                sell_signal.append(np.nan)\n",
    "        elif (data[\"short\"][i]<data[\"mid\"][i]-sm)&(data[\"short\"][i]<data[\"long\"][i]-sl):\n",
    "            sell_signal.append(np.nan)\n",
    "            if flag!=0:\n",
    "                buy_signal.append(data[\"Close\"][i])\n",
    "                buy_sell.append(-data[\"Close\"][i])\n",
    "                flag=0\n",
    "            else:\n",
    "                buy_signal.append(np.nan)\n",
    "        else:\n",
    "            buy_sell.append(np.nan)\n",
    "            sell_signal.append(np.nan)\n",
    "            buy_signal.append(np.nan)\n",
    "\n",
    "    operations=np.array(buy_sell)\n",
    "    operations=operations[~np.isnan(operations)]\n",
    "\n",
    "    neg=0\n",
    "    pos=0\n",
    "\n",
    "    for i in range(len(operations)):\n",
    "        if operations[i]<0:\n",
    "            neg=i\n",
    "            break\n",
    "    for i in range(1,len(operations)):\n",
    "        if operations[-i]>0:\n",
    "            pos=i-1\n",
    "            break\n",
    "    operations=operations[neg:-pos]\n",
    "    PL=np.sum(operations)\n",
    "\n",
    "    return (buy_signal,sell_signal,PL)\n"
   ]
  },
  {
   "cell_type": "code",
   "execution_count": 69,
   "metadata": {},
   "outputs": [],
   "source": [
    "m=buy_sell(MAs)\n",
    "MAs[\"Al\"]=m[0]\n",
    "MAs[\"Sat\"]=m[1]"
   ]
  },
  {
   "cell_type": "code",
   "execution_count": 70,
   "metadata": {},
   "outputs": [
    {
     "data": {
      "image/png": "[encoded data removed]",
      "text/plain": [
       "<Figure size 1200x500 with 1 Axes>"
      ]
     },
     "metadata": {},
     "output_type": "display_data"
    }
   ],
   "source": [
    "plt.figure(figsize=(12,5))\n",
    "plt.scatter(MAs.index,MAs[\"Al\"],color=\"green\",label='Al',marker='^',alpha=1)\n",
    "plt.scatter(MAs.index,MAs[\"Sat\"],color=\"red\",label='Sat',marker='v',alpha=1)\n",
    "plt.plot(MAs[\"Close\"],label='Kapanış Fiyatı',alpha=0.5)\n",
    "plt.xlabel(\"Date\")\n",
    "plt.ylabel(\"Close Price\")\n",
    "plt.legend(loc='upper left')\n",
    "plt.show()"
   ]
  },
  {
   "cell_type": "code",
   "execution_count": 71,
   "metadata": {},
   "outputs": [
    {
     "data": {
      "text/plain": [
       "Date\n",
       "2021-03-26    18.23\n",
       "2021-10-19    21.03\n",
       "2022-01-03    29.59\n",
       "2022-03-04    30.28\n",
       "2022-05-20    37.22\n",
       "2022-06-21    38.93\n",
       "2023-02-07    67.43\n",
       "2023-05-03    75.75\n",
       "2023-05-29    76.20\n",
       "Name: Al, dtype: float64"
      ]
     },
     "execution_count": 71,
     "metadata": {},
     "output_type": "execute_result"
    }
   ],
   "source": [
    "al=MAs[\"Al\"]\n",
    "al=al.dropna(axis=0)\n",
    "al"
   ]
  },
  {
   "cell_type": "code",
   "execution_count": 81,
   "metadata": {},
   "outputs": [
    {
     "data": {
      "text/plain": [
       "Date\n",
       "2021-03-05     21.86\n",
       "2021-05-24     18.54\n",
       "2021-11-03     23.81\n",
       "2022-01-14     32.37\n",
       "2022-03-21     35.78\n",
       "2022-06-03     40.18\n",
       "2022-08-09     39.30\n",
       "2023-03-06     82.64\n",
       "2023-05-11     96.60\n",
       "2023-06-07    100.00\n",
       "Name: Sat, dtype: float64"
      ]
     },
     "execution_count": 81,
     "metadata": {},
     "output_type": "execute_result"
    }
   ],
   "source": [
    "sat=MAs[\"Sat\"]\n",
    "sat=sat.dropna(axis=0)\n",
    "sat\n"
   ]
  },
  {
   "cell_type": "code",
   "execution_count": 82,
   "metadata": {},
   "outputs": [],
   "source": [
    "del sat[\"2021-03-05\"]"
   ]
  },
  {
   "cell_type": "code",
   "execution_count": 83,
   "metadata": {},
   "outputs": [],
   "source": [
    "sat_val=sat.values\n",
    "al_val=al.values\n"
   ]
  },
  {
   "cell_type": "code",
   "execution_count": 84,
   "metadata": {},
   "outputs": [],
   "source": [
    "sat_val1=sat_val"
   ]
  },
  {
   "cell_type": "code",
   "execution_count": 85,
   "metadata": {},
   "outputs": [
    {
     "data": {
      "text/plain": [
       "array([ 18.54,  23.81,  32.37,  35.78,  40.18,  39.3 ,  82.64,  96.6 ,\n",
       "       100.  ])"
      ]
     },
     "execution_count": 85,
     "metadata": {},
     "output_type": "execute_result"
    }
   ],
   "source": [
    "sat_val1"
   ]
  },
  {
   "cell_type": "code",
   "execution_count": 86,
   "metadata": {},
   "outputs": [
    {
     "data": {
      "text/plain": [
       "array([18.23, 21.03, 29.59, 30.28, 37.22, 38.93, 67.43, 75.75, 76.2 ])"
      ]
     },
     "execution_count": 86,
     "metadata": {},
     "output_type": "execute_result"
    }
   ],
   "source": [
    "al_val1=al_val\n",
    "al_val1"
   ]
  },
  {
   "cell_type": "code",
   "execution_count": 100,
   "metadata": {},
   "outputs": [],
   "source": [
    "res=[]\n",
    "\n",
    "for i in range(9):\n",
    "    res.append((sat_val1[i]/al_val1[i]))"
   ]
  },
  {
   "cell_type": "code",
   "execution_count": 88,
   "metadata": {},
   "outputs": [
    {
     "data": {
      "text/html": [
       "<div>\n",
       "<style scoped>\n",
       "    .dataframe tbody tr th:only-of-type {\n",
       "        vertical-align: middle;\n",
       "    }\n",
       "\n",
       "    .dataframe tbody tr th {\n",
       "        vertical-align: top;\n",
       "    }\n",
       "\n",
       "    .dataframe thead th {\n",
       "        text-align: right;\n",
       "    }\n",
       "</style>\n",
       "<table border=\"1\" class=\"dataframe\">\n",
       "  <thead>\n",
       "    <tr style=\"text-align: right;\">\n",
       "      <th></th>\n",
       "      <th>Kar</th>\n",
       "    </tr>\n",
       "  </thead>\n",
       "  <tbody>\n",
       "    <tr>\n",
       "      <th>0</th>\n",
       "      <td>1.017005</td>\n",
       "    </tr>\n",
       "    <tr>\n",
       "      <th>1</th>\n",
       "      <td>1.132192</td>\n",
       "    </tr>\n",
       "    <tr>\n",
       "      <th>2</th>\n",
       "      <td>1.093951</td>\n",
       "    </tr>\n",
       "    <tr>\n",
       "      <th>3</th>\n",
       "      <td>1.181638</td>\n",
       "    </tr>\n",
       "    <tr>\n",
       "      <th>4</th>\n",
       "      <td>1.079527</td>\n",
       "    </tr>\n",
       "    <tr>\n",
       "      <th>5</th>\n",
       "      <td>1.009504</td>\n",
       "    </tr>\n",
       "    <tr>\n",
       "      <th>6</th>\n",
       "      <td>1.225567</td>\n",
       "    </tr>\n",
       "    <tr>\n",
       "      <th>7</th>\n",
       "      <td>1.275248</td>\n",
       "    </tr>\n",
       "    <tr>\n",
       "      <th>8</th>\n",
       "      <td>1.312336</td>\n",
       "    </tr>\n",
       "  </tbody>\n",
       "</table>\n",
       "</div>"
      ],
      "text/plain": [
       "        Kar\n",
       "0  1.017005\n",
       "1  1.132192\n",
       "2  1.093951\n",
       "3  1.181638\n",
       "4  1.079527\n",
       "5  1.009504\n",
       "6  1.225567\n",
       "7  1.275248\n",
       "8  1.312336"
      ]
     },
     "execution_count": 88,
     "metadata": {},
     "output_type": "execute_result"
    }
   ],
   "source": [
    "df=pd.DataFrame()\n",
    "df[\"Kar\"]=res\n",
    "df"
   ]
  },
  {
   "cell_type": "code",
   "execution_count": 89,
   "metadata": {},
   "outputs": [],
   "source": [
    "res0=[100]\n",
    "for i in range(9):\n",
    "    res0.append(res0[i]*df[\"Kar\"].loc[i])\n"
   ]
  },
  {
   "cell_type": "code",
   "execution_count": 90,
   "metadata": {},
   "outputs": [
    {
     "data": {
      "text/html": [
       "<div>\n",
       "<style scoped>\n",
       "    .dataframe tbody tr th:only-of-type {\n",
       "        vertical-align: middle;\n",
       "    }\n",
       "\n",
       "    .dataframe tbody tr th {\n",
       "        vertical-align: top;\n",
       "    }\n",
       "\n",
       "    .dataframe thead th {\n",
       "        text-align: right;\n",
       "    }\n",
       "</style>\n",
       "<table border=\"1\" class=\"dataframe\">\n",
       "  <thead>\n",
       "    <tr style=\"text-align: right;\">\n",
       "      <th></th>\n",
       "      <th>Kar</th>\n",
       "      <th>Eldeki Para</th>\n",
       "    </tr>\n",
       "  </thead>\n",
       "  <tbody>\n",
       "    <tr>\n",
       "      <th>0</th>\n",
       "      <td>1.017005</td>\n",
       "      <td>101.700494</td>\n",
       "    </tr>\n",
       "    <tr>\n",
       "      <th>1</th>\n",
       "      <td>1.132192</td>\n",
       "      <td>115.144496</td>\n",
       "    </tr>\n",
       "    <tr>\n",
       "      <th>2</th>\n",
       "      <td>1.093951</td>\n",
       "      <td>125.962397</td>\n",
       "    </tr>\n",
       "    <tr>\n",
       "      <th>3</th>\n",
       "      <td>1.181638</td>\n",
       "      <td>148.841961</td>\n",
       "    </tr>\n",
       "    <tr>\n",
       "      <th>4</th>\n",
       "      <td>1.079527</td>\n",
       "      <td>160.678936</td>\n",
       "    </tr>\n",
       "    <tr>\n",
       "      <th>5</th>\n",
       "      <td>1.009504</td>\n",
       "      <td>162.206067</td>\n",
       "    </tr>\n",
       "    <tr>\n",
       "      <th>6</th>\n",
       "      <td>1.225567</td>\n",
       "      <td>198.794444</td>\n",
       "    </tr>\n",
       "    <tr>\n",
       "      <th>7</th>\n",
       "      <td>1.275248</td>\n",
       "      <td>253.512123</td>\n",
       "    </tr>\n",
       "    <tr>\n",
       "      <th>8</th>\n",
       "      <td>1.312336</td>\n",
       "      <td>332.693075</td>\n",
       "    </tr>\n",
       "  </tbody>\n",
       "</table>\n",
       "</div>"
      ],
      "text/plain": [
       "        Kar  Eldeki Para\n",
       "0  1.017005   101.700494\n",
       "1  1.132192   115.144496\n",
       "2  1.093951   125.962397\n",
       "3  1.181638   148.841961\n",
       "4  1.079527   160.678936\n",
       "5  1.009504   162.206067\n",
       "6  1.225567   198.794444\n",
       "7  1.275248   253.512123\n",
       "8  1.312336   332.693075"
      ]
     },
     "execution_count": 90,
     "metadata": {},
     "output_type": "execute_result"
    }
   ],
   "source": [
    "df[\"Eldeki Para\"]=res0[1:]\n",
    "df"
   ]
  },
  {
   "cell_type": "code",
   "execution_count": 91,
   "metadata": {},
   "outputs": [
    {
     "name": "stdout",
     "output_type": "stream",
     "text": [
      "Karlılık oranı % 232.69307453805516\n"
     ]
    }
   ],
   "source": [
    "karlilik=df[\"Eldeki Para\"].iloc[-1]/100\n",
    "karlilik=(karlilik-1)*100\n",
    "print(\"Karlılık oranı %\",karlilik)"
   ]
  },
  {
   "attachments": {},
   "cell_type": "markdown",
   "metadata": {},
   "source": [
    "## Her sat tavsiyesinde satmayıp 2.sat tavsiyesinde satarsak ne olur?(Yani 1 adet sat tavsiyesini pas geçersek)"
   ]
  },
  {
   "cell_type": "code",
   "execution_count": 92,
   "metadata": {},
   "outputs": [],
   "source": [
    "sat_val2=sat_val[1:8:2]"
   ]
  },
  {
   "cell_type": "code",
   "execution_count": 93,
   "metadata": {},
   "outputs": [
    {
     "data": {
      "text/plain": [
       "array([23.81, 35.78, 39.3 , 96.6 ])"
      ]
     },
     "execution_count": 93,
     "metadata": {},
     "output_type": "execute_result"
    }
   ],
   "source": [
    "sat_val2"
   ]
  },
  {
   "cell_type": "code",
   "execution_count": 94,
   "metadata": {},
   "outputs": [
    {
     "data": {
      "text/plain": [
       "array([18.23, 29.59, 37.22, 67.43])"
      ]
     },
     "execution_count": 94,
     "metadata": {},
     "output_type": "execute_result"
    }
   ],
   "source": [
    "al_val2=al_val[0:8:2]\n",
    "al_val2"
   ]
  },
  {
   "cell_type": "code",
   "execution_count": 95,
   "metadata": {},
   "outputs": [],
   "source": [
    "res1=[]\n",
    "\n",
    "for i in range(4):\n",
    "    res1.append((sat_val2[i]/al_val2[i]))"
   ]
  },
  {
   "cell_type": "code",
   "execution_count": 96,
   "metadata": {},
   "outputs": [
    {
     "data": {
      "text/html": [
       "<div>\n",
       "<style scoped>\n",
       "    .dataframe tbody tr th:only-of-type {\n",
       "        vertical-align: middle;\n",
       "    }\n",
       "\n",
       "    .dataframe tbody tr th {\n",
       "        vertical-align: top;\n",
       "    }\n",
       "\n",
       "    .dataframe thead th {\n",
       "        text-align: right;\n",
       "    }\n",
       "</style>\n",
       "<table border=\"1\" class=\"dataframe\">\n",
       "  <thead>\n",
       "    <tr style=\"text-align: right;\">\n",
       "      <th></th>\n",
       "      <th>Kar</th>\n",
       "    </tr>\n",
       "  </thead>\n",
       "  <tbody>\n",
       "    <tr>\n",
       "      <th>0</th>\n",
       "      <td>1.306089</td>\n",
       "    </tr>\n",
       "    <tr>\n",
       "      <th>1</th>\n",
       "      <td>1.209192</td>\n",
       "    </tr>\n",
       "    <tr>\n",
       "      <th>2</th>\n",
       "      <td>1.055884</td>\n",
       "    </tr>\n",
       "    <tr>\n",
       "      <th>3</th>\n",
       "      <td>1.432597</td>\n",
       "    </tr>\n",
       "  </tbody>\n",
       "</table>\n",
       "</div>"
      ],
      "text/plain": [
       "        Kar\n",
       "0  1.306089\n",
       "1  1.209192\n",
       "2  1.055884\n",
       "3  1.432597"
      ]
     },
     "execution_count": 96,
     "metadata": {},
     "output_type": "execute_result"
    }
   ],
   "source": [
    "df1=pd.DataFrame()\n",
    "df1[\"Kar\"]=res1\n",
    "df1"
   ]
  },
  {
   "cell_type": "code",
   "execution_count": 97,
   "metadata": {},
   "outputs": [],
   "source": [
    "res2=[100]\n",
    "for i in range(4):\n",
    "    res2.append(res2[i]*df1[\"Kar\"].loc[i])\n",
    "\n",
    "\n"
   ]
  },
  {
   "cell_type": "code",
   "execution_count": 98,
   "metadata": {},
   "outputs": [
    {
     "data": {
      "text/html": [
       "<div>\n",
       "<style scoped>\n",
       "    .dataframe tbody tr th:only-of-type {\n",
       "        vertical-align: middle;\n",
       "    }\n",
       "\n",
       "    .dataframe tbody tr th {\n",
       "        vertical-align: top;\n",
       "    }\n",
       "\n",
       "    .dataframe thead th {\n",
       "        text-align: right;\n",
       "    }\n",
       "</style>\n",
       "<table border=\"1\" class=\"dataframe\">\n",
       "  <thead>\n",
       "    <tr style=\"text-align: right;\">\n",
       "      <th></th>\n",
       "      <th>Kar</th>\n",
       "      <th>Eldeki Para</th>\n",
       "    </tr>\n",
       "  </thead>\n",
       "  <tbody>\n",
       "    <tr>\n",
       "      <th>0</th>\n",
       "      <td>1.306089</td>\n",
       "      <td>130.608886</td>\n",
       "    </tr>\n",
       "    <tr>\n",
       "      <th>1</th>\n",
       "      <td>1.209192</td>\n",
       "      <td>157.931259</td>\n",
       "    </tr>\n",
       "    <tr>\n",
       "      <th>2</th>\n",
       "      <td>1.055884</td>\n",
       "      <td>166.757079</td>\n",
       "    </tr>\n",
       "    <tr>\n",
       "      <th>3</th>\n",
       "      <td>1.432597</td>\n",
       "      <td>238.895652</td>\n",
       "    </tr>\n",
       "  </tbody>\n",
       "</table>\n",
       "</div>"
      ],
      "text/plain": [
       "        Kar  Eldeki Para\n",
       "0  1.306089   130.608886\n",
       "1  1.209192   157.931259\n",
       "2  1.055884   166.757079\n",
       "3  1.432597   238.895652"
      ]
     },
     "execution_count": 98,
     "metadata": {},
     "output_type": "execute_result"
    }
   ],
   "source": [
    "df1[\"Eldeki Para\"]=res2[1:]\n",
    "df1\n"
   ]
  },
  {
   "cell_type": "code",
   "execution_count": 99,
   "metadata": {},
   "outputs": [
    {
     "name": "stdout",
     "output_type": "stream",
     "text": [
      "Karlılık oranı % 138.89565236202603\n"
     ]
    }
   ],
   "source": [
    "karlilik=df1[\"Eldeki Para\"].iloc[-1]/100\n",
    "karlilik=(karlilik-1)*100\n",
    "print(\"Karlılık oranı %\",karlilik)"
   ]
  }
 ],
 "metadata": {
  "kernelspec": {
   "display_name": "Python 3",
   "language": "python",
   "name": "python3"
  },
  "language_info": {
   "codemirror_mode": {
    "name": "ipython",
    "version": 3
   },
   "file_extension": ".py",
   "mimetype": "text/x-python",
   "name": "python",
   "nbconvert_exporter": "python",
   "pygments_lexer": "ipython3",
   "version": "3.7.6"
  },
  "orig_nbformat": 4,
  "vscode": {
   "interpreter": {
    "hash": "f4b4c62aaa4875226db85e6b013b122e2774d7746e898ecdc06b2fc04bd17fe2"
   }
  }
 },
 "nbformat": 4,
 "nbformat_minor": 2
}
